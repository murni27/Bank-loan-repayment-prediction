{
  "cells": [
    {
      "cell_type": "markdown",
      "metadata": {
        "id": "view-in-github",
        "colab_type": "text"
      },
      "source": [
        "<a href=\"https://colab.research.google.com/github/murni27/Bank-loan-repayment-prediction/blob/main/loanprediction.ipynb\" target=\"_parent\"><img src=\"https://colab.research.google.com/assets/colab-badge.svg\" alt=\"Open In Colab\"/></a>"
      ]
    },
    {
      "cell_type": "markdown",
      "source": [
        "# Exploratory Data Analysis (EDA)"
      ],
      "metadata": {
        "id": "tpdcIWTDD1EA"
      }
    },
    {
      "cell_type": "code",
      "execution_count": 50,
      "metadata": {
        "id": "utYbf-6uULMV"
      },
      "outputs": [],
      "source": [
        "# Importing all the necessary libraries\n",
        "import numpy as np\n",
        "import pandas as pd\n",
        "import matplotlib.pyplot as plt\n",
        "import seaborn as sns"
      ]
    },
    {
      "cell_type": "code",
      "execution_count": 51,
      "metadata": {
        "colab": {
          "base_uri": "https://localhost:8080/"
        },
        "id": "nm1sK8cld7jf",
        "outputId": "8f4160c7-7be4-47f4-9e01-117beadb0d2d"
      },
      "outputs": [
        {
          "output_type": "stream",
          "name": "stdout",
          "text": [
            "Drive already mounted at /content/drive; to attempt to forcibly remount, call drive.mount(\"/content/drive\", force_remount=True).\n"
          ]
        }
      ],
      "source": [
        "from google.colab import drive\n",
        "drive.mount('/content/drive')"
      ]
    },
    {
      "cell_type": "code",
      "execution_count": 52,
      "metadata": {
        "id": "yhg3CcM2d-HM"
      },
      "outputs": [],
      "source": [
        "data=pd.read_csv(r\"/content/drive/MyDrive/SKRIPSI/new_dataset.csv\")"
      ]
    },
    {
      "cell_type": "code",
      "execution_count": 53,
      "metadata": {
        "id": "8sWuyNXSjwoj"
      },
      "outputs": [],
      "source": [
        "df = data.copy()"
      ]
    },
    {
      "cell_type": "code",
      "execution_count": 54,
      "metadata": {
        "colab": {
          "base_uri": "https://localhost:8080/"
        },
        "id": "_ptwABHwem08",
        "outputId": "cc28cc35-5ce7-4e3c-a18d-50e0d1902cab"
      },
      "outputs": [
        {
          "output_type": "stream",
          "name": "stdout",
          "text": [
            "<class 'pandas.core.frame.DataFrame'>\n",
            "RangeIndex: 10000 entries, 0 to 9999\n",
            "Columns: 122 entries, SK_ID_CURR to AMT_REQ_CREDIT_BUREAU_YEAR\n",
            "dtypes: float64(65), int64(41), object(16)\n",
            "memory usage: 9.3+ MB\n"
          ]
        }
      ],
      "source": [
        "df.info()"
      ]
    },
    {
      "cell_type": "code",
      "source": [
        "for col in df.select_dtypes(include='object').columns.tolist():\n",
        "    print(df[col].value_counts(normalize=True)*100)\n",
        "    print('\\n')"
      ],
      "metadata": {
        "id": "EOZMTlmVCjY1",
        "outputId": "7c08f005-6829-4424-feae-7dcd5cf55d7a",
        "colab": {
          "base_uri": "https://localhost:8080/"
        }
      },
      "execution_count": 55,
      "outputs": [
        {
          "output_type": "stream",
          "name": "stdout",
          "text": [
            "Cash loans         91.88\n",
            "Revolving loans     8.12\n",
            "Name: NAME_CONTRACT_TYPE, dtype: float64\n",
            "\n",
            "\n",
            "F    61.71\n",
            "M    38.29\n",
            "Name: CODE_GENDER, dtype: float64\n",
            "\n",
            "\n",
            "N    67.58\n",
            "Y    32.42\n",
            "Name: FLAG_OWN_CAR, dtype: float64\n",
            "\n",
            "\n",
            "Y    69.17\n",
            "N    30.83\n",
            "Name: FLAG_OWN_REALTY, dtype: float64\n",
            "\n",
            "\n",
            "Unaccompanied      81.512689\n",
            "Family             12.859866\n",
            "Spouse, partner     3.551008\n",
            "Children            1.073327\n",
            "Other_B             0.662052\n",
            "Other_A             0.260809\n",
            "Group of people     0.080249\n",
            "Name: NAME_TYPE_SUITE, dtype: float64\n",
            "\n",
            "\n",
            "Working                 56.09\n",
            "Commercial associate    22.52\n",
            "Pensioner               15.53\n",
            "State servant            5.82\n",
            "Unemployed               0.04\n",
            "Name: NAME_INCOME_TYPE, dtype: float64\n",
            "\n",
            "\n",
            "Secondary / secondary special    75.00\n",
            "Higher education                 20.28\n",
            "Incomplete higher                 3.21\n",
            "Lower secondary                   1.43\n",
            "Academic degree                   0.08\n",
            "Name: NAME_EDUCATION_TYPE, dtype: float64\n",
            "\n",
            "\n",
            "Married                 61.81\n",
            "Single / not married    16.23\n",
            "Civil marriage          10.67\n",
            "Separated                6.53\n",
            "Widow                    4.76\n",
            "Name: NAME_FAMILY_STATUS, dtype: float64\n",
            "\n",
            "\n",
            "House / apartment      87.52\n",
            "With parents            5.63\n",
            "Municipal apartment     3.70\n",
            "Rented apartment        1.99\n",
            "Office apartment        0.73\n",
            "Co-op apartment         0.43\n",
            "Name: NAME_HOUSING_TYPE, dtype: float64\n",
            "\n",
            "\n",
            "Laborers                 27.873684\n",
            "Sales staff              16.407018\n",
            "Core staff               11.410526\n",
            "Drivers                  10.161404\n",
            "Managers                  8.252632\n",
            "High skill tech staff     4.603509\n",
            "Accountants               3.887719\n",
            "Medicine staff            3.705263\n",
            "Security staff            3.452632\n",
            "Cooking staff             3.228070\n",
            "Cleaning staff            2.119298\n",
            "Low-skill Laborers        1.571930\n",
            "Private service staff     1.235088\n",
            "Waiters/barmen staff      0.673684\n",
            "Secretaries               0.575439\n",
            "Realty agents             0.378947\n",
            "HR staff                  0.308772\n",
            "IT staff                  0.154386\n",
            "Name: OCCUPATION_TYPE, dtype: float64\n",
            "\n",
            "\n",
            "TUESDAY      17.52\n",
            "THURSDAY     16.73\n",
            "WEDNESDAY    16.68\n",
            "FRIDAY       16.44\n",
            "MONDAY       16.34\n",
            "SATURDAY     10.87\n",
            "SUNDAY        5.42\n",
            "Name: WEEKDAY_APPR_PROCESS_START, dtype: float64\n",
            "\n",
            "\n",
            "Business Entity Type 3    23.41\n",
            "XNA                       15.57\n",
            "Self-employed             14.51\n",
            "Other                      5.36\n",
            "Medicine                   3.39\n",
            "Business Entity Type 2     3.30\n",
            "Government                 3.26\n",
            "Trade: type 7              2.59\n",
            "School                     2.37\n",
            "Construction               2.36\n",
            "Kindergarten               2.06\n",
            "Business Entity Type 1     1.88\n",
            "Transport: type 4          1.59\n",
            "Trade: type 3              1.32\n",
            "Industry: type 3           1.13\n",
            "Security                   1.09\n",
            "Industry: type 9           1.02\n",
            "Housing                    1.01\n",
            "Agriculture                0.97\n",
            "Transport: type 2          0.90\n",
            "Industry: type 11          0.87\n",
            "Military                   0.74\n",
            "Postal                     0.74\n",
            "Bank                       0.70\n",
            "Services                   0.67\n",
            "Restaurant                 0.65\n",
            "Police                     0.55\n",
            "Trade: type 2              0.54\n",
            "Security Ministries        0.53\n",
            "Transport: type 3          0.50\n",
            "Industry: type 7           0.38\n",
            "Industry: type 1           0.38\n",
            "Hotel                      0.37\n",
            "University                 0.36\n",
            "Industry: type 4           0.31\n",
            "Electricity                0.29\n",
            "Emergency                  0.22\n",
            "Insurance                  0.19\n",
            "Industry: type 2           0.19\n",
            "Telecom                    0.17\n",
            "Industry: type 5           0.17\n",
            "Trade: type 6              0.17\n",
            "Realtor                    0.14\n",
            "Advertising                0.14\n",
            "Legal Services             0.13\n",
            "Industry: type 12          0.12\n",
            "Mobile                     0.12\n",
            "Trade: type 1              0.12\n",
            "Industry: type 13          0.08\n",
            "Cleaning                   0.07\n",
            "Culture                    0.07\n",
            "Transport: type 1          0.06\n",
            "Industry: type 10          0.06\n",
            "Trade: type 5              0.04\n",
            "Religion                   0.03\n",
            "Industry: type 6           0.02\n",
            "Trade: type 4              0.01\n",
            "Industry: type 8           0.01\n",
            "Name: ORGANIZATION_TYPE, dtype: float64\n",
            "\n",
            "\n",
            "reg oper account         76.682369\n",
            "reg oper spec account    12.079408\n",
            "org spec account          5.854643\n",
            "not specified             5.383580\n",
            "Name: FONDKAPREMONT_MODE, dtype: float64\n",
            "\n",
            "\n",
            "block of flats      97.877814\n",
            "specific housing     1.157556\n",
            "terraced house       0.964630\n",
            "Name: HOUSETYPE_MODE, dtype: float64\n",
            "\n",
            "\n",
            "Stone, brick    43.263181\n",
            "Panel           42.395314\n",
            "Block            6.639184\n",
            "Wooden           4.078976\n",
            "Mixed            1.562161\n",
            "Others           1.215014\n",
            "Monolithic       0.846171\n",
            "Name: WALLSMATERIAL_MODE, dtype: float64\n",
            "\n",
            "\n",
            "No     98.333333\n",
            "Yes     1.666667\n",
            "Name: EMERGENCYSTATE_MODE, dtype: float64\n",
            "\n",
            "\n"
          ]
        }
      ]
    },
    {
      "cell_type": "code",
      "source": [
        "decode_map = {0: \"Non Default\", 1: \"Default\"}\n",
        "def decode_sentiment(label):\n",
        "    return decode_map[int(label)]\n",
        "\n",
        "df['TARGET'] = df['TARGET'].apply(lambda x: decode_sentiment(x))"
      ],
      "metadata": {
        "id": "LvLcUrtOHjNQ"
      },
      "execution_count": 56,
      "outputs": []
    },
    {
      "cell_type": "code",
      "source": [
        "target = (df[['TARGET']]\n",
        "                .groupby(\"TARGET\")\n",
        "                .agg(COUNT=(\"TARGET\",\"count\"))\n",
        "                .sort_values(by=[\"COUNT\"],ascending=False)\n",
        "                .reset_index()\n",
        "                )\n",
        "\n",
        "target.style.background_gradient(cmap='Blues')"
      ],
      "metadata": {
        "colab": {
          "base_uri": "https://localhost:8080/",
          "height": 112
        },
        "id": "dPE7pG3cHqKO",
        "outputId": "e73792c1-29d3-47b4-98d4-6d8ef19c5e74"
      },
      "execution_count": 57,
      "outputs": [
        {
          "output_type": "execute_result",
          "data": {
            "text/plain": [
              "<pandas.io.formats.style.Styler at 0x7f3172b77fd0>"
            ],
            "text/html": [
              "<style type=\"text/css\">\n",
              "#T_02272_row0_col1, #T_02272_row1_col1 {\n",
              "  background-color: #f7fbff;\n",
              "  color: #000000;\n",
              "}\n",
              "</style>\n",
              "<table id=\"T_02272_\" class=\"dataframe\">\n",
              "  <thead>\n",
              "    <tr>\n",
              "      <th class=\"blank level0\" >&nbsp;</th>\n",
              "      <th class=\"col_heading level0 col0\" >TARGET</th>\n",
              "      <th class=\"col_heading level0 col1\" >COUNT</th>\n",
              "    </tr>\n",
              "  </thead>\n",
              "  <tbody>\n",
              "    <tr>\n",
              "      <th id=\"T_02272_level0_row0\" class=\"row_heading level0 row0\" >0</th>\n",
              "      <td id=\"T_02272_row0_col0\" class=\"data row0 col0\" >Default</td>\n",
              "      <td id=\"T_02272_row0_col1\" class=\"data row0 col1\" >5000</td>\n",
              "    </tr>\n",
              "    <tr>\n",
              "      <th id=\"T_02272_level0_row1\" class=\"row_heading level0 row1\" >1</th>\n",
              "      <td id=\"T_02272_row1_col0\" class=\"data row1 col0\" >Non Default</td>\n",
              "      <td id=\"T_02272_row1_col1\" class=\"data row1 col1\" >5000</td>\n",
              "    </tr>\n",
              "  </tbody>\n",
              "</table>\n"
            ]
          },
          "metadata": {},
          "execution_count": 57
        }
      ]
    },
    {
      "cell_type": "code",
      "source": [
        "df.TARGET.value_counts()"
      ],
      "metadata": {
        "id": "3gG22FZwSrLH",
        "outputId": "67a3b86b-3af9-46c7-8236-7434c0f8fa56",
        "colab": {
          "base_uri": "https://localhost:8080/"
        }
      },
      "execution_count": 58,
      "outputs": [
        {
          "output_type": "execute_result",
          "data": {
            "text/plain": [
              "Non Default    5000\n",
              "Default        5000\n",
              "Name: TARGET, dtype: int64"
            ]
          },
          "metadata": {},
          "execution_count": 58
        }
      ]
    },
    {
      "cell_type": "code",
      "execution_count": 64,
      "metadata": {
        "colab": {
          "base_uri": "https://localhost:8080/",
          "height": 264
        },
        "id": "z9E1oz8_L202",
        "outputId": "3ab7a299-d3a0-4057-dbe6-3141a3b01ff7"
      },
      "outputs": [
        {
          "output_type": "display_data",
          "data": {
            "text/plain": [
              "<Figure size 432x288 with 1 Axes>"
            ],
            "image/png": "[encoded data removed]"
          },
          "metadata": {}
        }
      ],
      "source": [
        "label = ('Non Default', 'Default')\n",
        "color = ('lightgrey','darkblue')\n",
        "explode = (0.1, 0.1)\n",
        "\n",
        "plt.title('Repayment Abilities')\n",
        "plt.pie(\n",
        "    df.TARGET.value_counts(),\n",
        "    labels=label,\n",
        "    autopct='%1.1f%%',\n",
        "    colors=color,\n",
        "    explode=explode,\n",
        "    shadow=True,\n",
        "    startangle=45\n",
        ")\n",
        "plt.show()"
      ]
    },
    {
      "cell_type": "markdown",
      "source": [
        "Jumlah Nasabah Berdasarkan Kemampuan Membayarnya\n",
        "\n",
        "0 = lunas/tidak ada masalah pelunasan, 1 = gagal bayar/memiliki kesulitan dalam pembayaran. Data keduanya balance."
      ],
      "metadata": {
        "id": "7eHiXqedG7Xd"
      }
    },
    {
      "cell_type": "markdown",
      "source": [
        "# Bivariate: Categorical Features Vs Target\n",
        "\n",
        "Contract Type, Gender, Car Ownership Status, and Realty Ownership Status"
      ],
      "metadata": {
        "id": "uD9hkJQ__CpR"
      }
    },
    {
      "cell_type": "code",
      "source": [
        "# visualization pt 1\n",
        "sns.set_style('whitegrid')\n",
        "fig, ax = plt.subplots(2,2, figsize=(25,25))\n",
        "sns.set_context('paper', font_scale=1)\n",
        "\n",
        "ax[0][0].set_title('Clients Repayment Abilities By Contract Type\\n', fontweight='bold', fontsize=14)\n",
        "sns.countplot(x='NAME_CONTRACT_TYPE', data = df, hue = 'TARGET', palette = 'ch:start=0.2,rot=-.3_r', ax=ax[0][0])\n",
        "\n",
        "ax[0][1].set_title('Clients Repayment Abilities By Gender\\n', fontweight='bold', fontsize=14)\n",
        "sns.countplot(x='CODE_GENDER', data = df, hue = 'TARGET', palette = 'ch:start=0.2,rot=-.3_r', ax=ax[0][1])\n",
        "\n",
        "ax[1][0].set_title('\\nClients Repayment Abilities By Car Ownership Status\\n', fontweight='bold', fontsize=14)\n",
        "sns.countplot(x='FLAG_OWN_CAR', data = df, hue = 'TARGET', palette = 'ch:start=0.2,rot=-.3_r', ax=ax[1][0])\n",
        "\n",
        "ax[1][1].set_title('\\nClients Repayment Abilities By Realty Ownership Status\\n', fontweight='bold', fontsize=14)\n",
        "sns.countplot(x='FLAG_OWN_REALTY', data = df, hue = 'TARGET', palette = 'ch:start=0.2,rot=-.3_r', ax=ax[1][1])"
      ],
      "metadata": {
        "colab": {
          "base_uri": "https://localhost:8080/",
          "height": 656
        },
        "id": "fbuWtk6P-aer",
        "outputId": "e7b35775-ec08-4628-b33f-7958dd1bcf67"
      },
      "execution_count": 73,
      "outputs": [
        {
          "output_type": "execute_result",
          "data": {
            "text/plain": [
              "<matplotlib.axes._subplots.AxesSubplot at 0x7f31711999d0>"
            ]
          },
          "metadata": {},
          "execution_count": 73
        },
        {
          "output_type": "display_data",
          "data": {
            "text/plain": [
              "<Figure size 1800x1800 with 4 Axes>"
            ],
            "image/png": "[encoded data removed]"
          },
          "metadata": {}
        }
      ]
    },
    {
      "cell_type": "markdown",
      "source": [
        "Gender vs Target"
      ],
      "metadata": {
        "id": "zVK3wjbPIghm"
      }
    },
    {
      "cell_type": "code",
      "source": [
        "df['CODE_GENDER'] = df['CODE_GENDER'].replace(['F','M'],['Female','Male'])"
      ],
      "metadata": {
        "id": "OGvlHvRCBLb3"
      },
      "execution_count": 60,
      "outputs": []
    },
    {
      "cell_type": "code",
      "source": [
        "gt = df.groupby(by=['CODE_GENDER','TARGET'], as_index=False)['SK_ID_CURR'].count()\n",
        "print('Clients Repayment Abilities By Gender')\n",
        "gt.sort_values(by='SK_ID_CURR', ascending=False)\n",
        "gt.style.background_gradient(cmap='Blues')"
      ],
      "metadata": {
        "id": "o6akRYp-A5Ju",
        "outputId": "5d1693b5-4867-40fc-8d16-675d7cefba2b",
        "colab": {
          "base_uri": "https://localhost:8080/",
          "height": 192
        }
      },
      "execution_count": 65,
      "outputs": [
        {
          "output_type": "stream",
          "name": "stdout",
          "text": [
            "Clients Repayment Abilities By Gender\n"
          ]
        },
        {
          "output_type": "execute_result",
          "data": {
            "text/plain": [
              "<pandas.io.formats.style.Styler at 0x7f3171298580>"
            ],
            "text/html": [
              "<style type=\"text/css\">\n",
              "#T_3c5e6_row0_col2 {\n",
              "  background-color: #3080bd;\n",
              "  color: #f1f1f1;\n",
              "}\n",
              "#T_3c5e6_row1_col2 {\n",
              "  background-color: #08306b;\n",
              "  color: #f1f1f1;\n",
              "}\n",
              "#T_3c5e6_row2_col2 {\n",
              "  background-color: #b4d3e9;\n",
              "  color: #000000;\n",
              "}\n",
              "#T_3c5e6_row3_col2 {\n",
              "  background-color: #f7fbff;\n",
              "  color: #000000;\n",
              "}\n",
              "</style>\n",
              "<table id=\"T_3c5e6_\" class=\"dataframe\">\n",
              "  <thead>\n",
              "    <tr>\n",
              "      <th class=\"blank level0\" >&nbsp;</th>\n",
              "      <th class=\"col_heading level0 col0\" >CODE_GENDER</th>\n",
              "      <th class=\"col_heading level0 col1\" >TARGET</th>\n",
              "      <th class=\"col_heading level0 col2\" >SK_ID_CURR</th>\n",
              "    </tr>\n",
              "  </thead>\n",
              "  <tbody>\n",
              "    <tr>\n",
              "      <th id=\"T_3c5e6_level0_row0\" class=\"row_heading level0 row0\" >0</th>\n",
              "      <td id=\"T_3c5e6_row0_col0\" class=\"data row0 col0\" >Female</td>\n",
              "      <td id=\"T_3c5e6_row0_col1\" class=\"data row0 col1\" >Default</td>\n",
              "      <td id=\"T_3c5e6_row0_col2\" class=\"data row0 col2\" >2827</td>\n",
              "    </tr>\n",
              "    <tr>\n",
              "      <th id=\"T_3c5e6_level0_row1\" class=\"row_heading level0 row1\" >1</th>\n",
              "      <td id=\"T_3c5e6_row1_col0\" class=\"data row1 col0\" >Female</td>\n",
              "      <td id=\"T_3c5e6_row1_col1\" class=\"data row1 col1\" >Non Default</td>\n",
              "      <td id=\"T_3c5e6_row1_col2\" class=\"data row1 col2\" >3344</td>\n",
              "    </tr>\n",
              "    <tr>\n",
              "      <th id=\"T_3c5e6_level0_row2\" class=\"row_heading level0 row2\" >2</th>\n",
              "      <td id=\"T_3c5e6_row2_col0\" class=\"data row2 col0\" >Male</td>\n",
              "      <td id=\"T_3c5e6_row2_col1\" class=\"data row2 col1\" >Default</td>\n",
              "      <td id=\"T_3c5e6_row2_col2\" class=\"data row2 col2\" >2173</td>\n",
              "    </tr>\n",
              "    <tr>\n",
              "      <th id=\"T_3c5e6_level0_row3\" class=\"row_heading level0 row3\" >3</th>\n",
              "      <td id=\"T_3c5e6_row3_col0\" class=\"data row3 col0\" >Male</td>\n",
              "      <td id=\"T_3c5e6_row3_col1\" class=\"data row3 col1\" >Non Default</td>\n",
              "      <td id=\"T_3c5e6_row3_col2\" class=\"data row3 col2\" >1656</td>\n",
              "    </tr>\n",
              "  </tbody>\n",
              "</table>\n"
            ]
          },
          "metadata": {},
          "execution_count": 65
        }
      ]
    },
    {
      "cell_type": "code",
      "source": [
        "data[['CODE_GENDER','TARGET']].groupby(['CODE_GENDER'],as_index=False).mean().sort_values(['TARGET'], ascending=False)"
      ],
      "metadata": {
        "colab": {
          "base_uri": "https://localhost:8080/",
          "height": 112
        },
        "id": "16MAHGm6Pe9m",
        "outputId": "49adb43e-e79f-4644-9dc5-f2e78b802d9f"
      },
      "execution_count": 66,
      "outputs": [
        {
          "output_type": "execute_result",
          "data": {
            "text/plain": [
              "  CODE_GENDER    TARGET\n",
              "1           M  0.567511\n",
              "0           F  0.458111"
            ],
            "text/html": [
              "\n",
              "  <div id=\"df-23d876f7-0174-4870-a1d4-a2dbe72b1352\">\n",
              "    <div class=\"colab-df-container\">\n",
              "      <div>\n",
              "<style scoped>\n",
              "    .dataframe tbody tr th:only-of-type {\n",
              "        vertical-align: middle;\n",
              "    }\n",
              "\n",
              "    .dataframe tbody tr th {\n",
              "        vertical-align: top;\n",
              "    }\n",
              "\n",
              "    .dataframe thead th {\n",
              "        text-align: right;\n",
              "    }\n",
              "</style>\n",
              "<table border=\"1\" class=\"dataframe\">\n",
              "  <thead>\n",
              "    <tr style=\"text-align: right;\">\n",
              "      <th></th>\n",
              "      <th>CODE_GENDER</th>\n",
              "      <th>TARGET</th>\n",
              "    </tr>\n",
              "  </thead>\n",
              "  <tbody>\n",
              "    <tr>\n",
              "      <th>1</th>\n",
              "      <td>M</td>\n",
              "      <td>0.567511</td>\n",
              "    </tr>\n",
              "    <tr>\n",
              "      <th>0</th>\n",
              "      <td>F</td>\n",
              "      <td>0.458111</td>\n",
              "    </tr>\n",
              "  </tbody>\n",
              "</table>\n",
              "</div>\n",
              "      <button class=\"colab-df-convert\" onclick=\"convertToInteractive('df-23d876f7-0174-4870-a1d4-a2dbe72b1352')\"\n",
              "              title=\"Convert this dataframe to an interactive table.\"\n",
              "              style=\"display:none;\">\n",
              "        \n",
              "  <svg xmlns=\"http://www.w3.org/2000/svg\" height=\"24px\"viewBox=\"0 0 24 24\"\n",
              "       width=\"24px\">\n",
              "    <path d=\"M0 0h24v24H0V0z\" fill=\"none\"/>\n",
              "    <path d=\"M18.56 5.44l.94 2.06.94-2.06 2.06-.94-2.06-.94-.94-2.06-.94 2.06-2.06.94zm-11 1L8.5 8.5l.94-2.06 2.06-.94-2.06-.94L8.5 2.5l-.94 2.06-2.06.94zm10 10l.94 2.06.94-2.06 2.06-.94-2.06-.94-.94-2.06-.94 2.06-2.06.94z\"/><path d=\"M17.41 7.96l-1.37-1.37c-.4-.4-.92-.59-1.43-.59-.52 0-1.04.2-1.43.59L10.3 9.45l-7.72 7.72c-.78.78-.78 2.05 0 2.83L4 21.41c.39.39.9.59 1.41.59.51 0 1.02-.2 1.41-.59l7.78-7.78 2.81-2.81c.8-.78.8-2.07 0-2.86zM5.41 20L4 18.59l7.72-7.72 1.47 1.35L5.41 20z\"/>\n",
              "  </svg>\n",
              "      </button>\n",
              "      \n",
              "  <style>\n",
              "    .colab-df-container {\n",
              "      display:flex;\n",
              "      flex-wrap:wrap;\n",
              "      gap: 12px;\n",
              "    }\n",
              "\n",
              "    .colab-df-convert {\n",
              "      background-color: #E8F0FE;\n",
              "      border: none;\n",
              "      border-radius: 50%;\n",
              "      cursor: pointer;\n",
              "      display: none;\n",
              "      fill: #1967D2;\n",
              "      height: 32px;\n",
              "      padding: 0 0 0 0;\n",
              "      width: 32px;\n",
              "    }\n",
              "\n",
              "    .colab-df-convert:hover {\n",
              "      background-color: #E2EBFA;\n",
              "      box-shadow: 0px 1px 2px rgba(60, 64, 67, 0.3), 0px 1px 3px 1px rgba(60, 64, 67, 0.15);\n",
              "      fill: #174EA6;\n",
              "    }\n",
              "\n",
              "    [theme=dark] .colab-df-convert {\n",
              "      background-color: #3B4455;\n",
              "      fill: #D2E3FC;\n",
              "    }\n",
              "\n",
              "    [theme=dark] .colab-df-convert:hover {\n",
              "      background-color: #434B5C;\n",
              "      box-shadow: 0px 1px 3px 1px rgba(0, 0, 0, 0.15);\n",
              "      filter: drop-shadow(0px 1px 2px rgba(0, 0, 0, 0.3));\n",
              "      fill: #FFFFFF;\n",
              "    }\n",
              "  </style>\n",
              "\n",
              "      <script>\n",
              "        const buttonEl =\n",
              "          document.querySelector('#df-23d876f7-0174-4870-a1d4-a2dbe72b1352 button.colab-df-convert');\n",
              "        buttonEl.style.display =\n",
              "          google.colab.kernel.accessAllowed ? 'block' : 'none';\n",
              "\n",
              "        async function convertToInteractive(key) {\n",
              "          const element = document.querySelector('#df-23d876f7-0174-4870-a1d4-a2dbe72b1352');\n",
              "          const dataTable =\n",
              "            await google.colab.kernel.invokeFunction('convertToInteractive',\n",
              "                                                     [key], {});\n",
              "          if (!dataTable) return;\n",
              "\n",
              "          const docLinkHtml = 'Like what you see? Visit the ' +\n",
              "            '<a target=\"_blank\" href=https://colab.research.google.com/notebooks/data_table.ipynb>data table notebook</a>'\n",
              "            + ' to learn more about interactive tables.';\n",
              "          element.innerHTML = '';\n",
              "          dataTable['output_type'] = 'display_data';\n",
              "          await google.colab.output.renderOutput(dataTable, element);\n",
              "          const docLink = document.createElement('div');\n",
              "          docLink.innerHTML = docLinkHtml;\n",
              "          element.appendChild(docLink);\n",
              "        }\n",
              "      </script>\n",
              "    </div>\n",
              "  </div>\n",
              "  "
            ]
          },
          "metadata": {},
          "execution_count": 66
        }
      ]
    },
    {
      "cell_type": "markdown",
      "source": [
        "Dapat dilihat bahwa wanita yang kebanyakan mengajukan pinjaman dalam data. \n",
        "\n",
        "Namun, persentase yang lebih besar (sekitar 60% dari total) pria mengalami masalah dalam membayar pinjaman dibandingkan dengan nasabah wanita (sekitar 40%)."
      ],
      "metadata": {
        "id": "hHWBWbU7Jobv"
      }
    },
    {
      "cell_type": "markdown",
      "source": [
        "Car Ownership Status vs Target"
      ],
      "metadata": {
        "id": "0rTQGATkF_MH"
      }
    },
    {
      "cell_type": "code",
      "source": [
        "df['FLAG_OWN_CAR'] = df['FLAG_OWN_CAR'].replace(['Y','N'],['Yes','No'])"
      ],
      "metadata": {
        "id": "UeobIxFcmoX8"
      },
      "execution_count": 67,
      "outputs": []
    },
    {
      "cell_type": "code",
      "source": [
        "ot = df.groupby(by=['FLAG_OWN_CAR','TARGET'], as_index=False)['SK_ID_CURR'].count()\n",
        "print('Clients Repayment Abilities By Car Ownership Status')\n",
        "ot.sort_values(by='SK_ID_CURR', ascending=False)\n",
        "ot.style.background_gradient(cmap='Blues')"
      ],
      "metadata": {
        "colab": {
          "base_uri": "https://localhost:8080/",
          "height": 192
        },
        "id": "IQ_ONeFZmuj8",
        "outputId": "050c3534-5def-4c30-f9a6-5d17d04cf085"
      },
      "execution_count": 68,
      "outputs": [
        {
          "output_type": "stream",
          "name": "stdout",
          "text": [
            "Clients Repayment Abilities By Car Ownership Status\n"
          ]
        },
        {
          "output_type": "execute_result",
          "data": {
            "text/plain": [
              "<pandas.io.formats.style.Styler at 0x7f3172c821f0>"
            ],
            "text/html": [
              "<style type=\"text/css\">\n",
              "#T_00417_row0_col2 {\n",
              "  background-color: #08306b;\n",
              "  color: #f1f1f1;\n",
              "}\n",
              "#T_00417_row1_col2 {\n",
              "  background-color: #084488;\n",
              "  color: #f1f1f1;\n",
              "}\n",
              "#T_00417_row2_col2 {\n",
              "  background-color: #f7fbff;\n",
              "  color: #000000;\n",
              "}\n",
              "#T_00417_row3_col2 {\n",
              "  background-color: #e8f1fa;\n",
              "  color: #000000;\n",
              "}\n",
              "</style>\n",
              "<table id=\"T_00417_\" class=\"dataframe\">\n",
              "  <thead>\n",
              "    <tr>\n",
              "      <th class=\"blank level0\" >&nbsp;</th>\n",
              "      <th class=\"col_heading level0 col0\" >FLAG_OWN_CAR</th>\n",
              "      <th class=\"col_heading level0 col1\" >TARGET</th>\n",
              "      <th class=\"col_heading level0 col2\" >SK_ID_CURR</th>\n",
              "    </tr>\n",
              "  </thead>\n",
              "  <tbody>\n",
              "    <tr>\n",
              "      <th id=\"T_00417_level0_row0\" class=\"row_heading level0 row0\" >0</th>\n",
              "      <td id=\"T_00417_row0_col0\" class=\"data row0 col0\" >No</td>\n",
              "      <td id=\"T_00417_row0_col1\" class=\"data row0 col1\" >Default</td>\n",
              "      <td id=\"T_00417_row0_col2\" class=\"data row0 col2\" >3450</td>\n",
              "    </tr>\n",
              "    <tr>\n",
              "      <th id=\"T_00417_level0_row1\" class=\"row_heading level0 row1\" >1</th>\n",
              "      <td id=\"T_00417_row1_col0\" class=\"data row1 col0\" >No</td>\n",
              "      <td id=\"T_00417_row1_col1\" class=\"data row1 col1\" >Non Default</td>\n",
              "      <td id=\"T_00417_row1_col2\" class=\"data row1 col2\" >3308</td>\n",
              "    </tr>\n",
              "    <tr>\n",
              "      <th id=\"T_00417_level0_row2\" class=\"row_heading level0 row2\" >2</th>\n",
              "      <td id=\"T_00417_row2_col0\" class=\"data row2 col0\" >Yes</td>\n",
              "      <td id=\"T_00417_row2_col1\" class=\"data row2 col1\" >Default</td>\n",
              "      <td id=\"T_00417_row2_col2\" class=\"data row2 col2\" >1550</td>\n",
              "    </tr>\n",
              "    <tr>\n",
              "      <th id=\"T_00417_level0_row3\" class=\"row_heading level0 row3\" >3</th>\n",
              "      <td id=\"T_00417_row3_col0\" class=\"data row3 col0\" >Yes</td>\n",
              "      <td id=\"T_00417_row3_col1\" class=\"data row3 col1\" >Non Default</td>\n",
              "      <td id=\"T_00417_row3_col2\" class=\"data row3 col2\" >1692</td>\n",
              "    </tr>\n",
              "  </tbody>\n",
              "</table>\n"
            ]
          },
          "metadata": {},
          "execution_count": 68
        }
      ]
    },
    {
      "cell_type": "code",
      "source": [
        "data[['FLAG_OWN_CAR','TARGET']].groupby(['FLAG_OWN_CAR'],as_index=False).mean().sort_values(by=['TARGET'], ascending=False)"
      ],
      "metadata": {
        "colab": {
          "base_uri": "https://localhost:8080/",
          "height": 112
        },
        "id": "rv3cZ49gmzy7",
        "outputId": "a63e7481-9625-4eac-d357-84e898d95041"
      },
      "execution_count": 69,
      "outputs": [
        {
          "output_type": "execute_result",
          "data": {
            "text/plain": [
              "  FLAG_OWN_CAR    TARGET\n",
              "0            N  0.510506\n",
              "1            Y  0.478100"
            ],
            "text/html": [
              "\n",
              "  <div id=\"df-42daa522-8e33-48d1-b0e6-308e11c4297d\">\n",
              "    <div class=\"colab-df-container\">\n",
              "      <div>\n",
              "<style scoped>\n",
              "    .dataframe tbody tr th:only-of-type {\n",
              "        vertical-align: middle;\n",
              "    }\n",
              "\n",
              "    .dataframe tbody tr th {\n",
              "        vertical-align: top;\n",
              "    }\n",
              "\n",
              "    .dataframe thead th {\n",
              "        text-align: right;\n",
              "    }\n",
              "</style>\n",
              "<table border=\"1\" class=\"dataframe\">\n",
              "  <thead>\n",
              "    <tr style=\"text-align: right;\">\n",
              "      <th></th>\n",
              "      <th>FLAG_OWN_CAR</th>\n",
              "      <th>TARGET</th>\n",
              "    </tr>\n",
              "  </thead>\n",
              "  <tbody>\n",
              "    <tr>\n",
              "      <th>0</th>\n",
              "      <td>N</td>\n",
              "      <td>0.510506</td>\n",
              "    </tr>\n",
              "    <tr>\n",
              "      <th>1</th>\n",
              "      <td>Y</td>\n",
              "      <td>0.478100</td>\n",
              "    </tr>\n",
              "  </tbody>\n",
              "</table>\n",
              "</div>\n",
              "      <button class=\"colab-df-convert\" onclick=\"convertToInteractive('df-42daa522-8e33-48d1-b0e6-308e11c4297d')\"\n",
              "              title=\"Convert this dataframe to an interactive table.\"\n",
              "              style=\"display:none;\">\n",
              "        \n",
              "  <svg xmlns=\"http://www.w3.org/2000/svg\" height=\"24px\"viewBox=\"0 0 24 24\"\n",
              "       width=\"24px\">\n",
              "    <path d=\"M0 0h24v24H0V0z\" fill=\"none\"/>\n",
              "    <path d=\"M18.56 5.44l.94 2.06.94-2.06 2.06-.94-2.06-.94-.94-2.06-.94 2.06-2.06.94zm-11 1L8.5 8.5l.94-2.06 2.06-.94-2.06-.94L8.5 2.5l-.94 2.06-2.06.94zm10 10l.94 2.06.94-2.06 2.06-.94-2.06-.94-.94-2.06-.94 2.06-2.06.94z\"/><path d=\"M17.41 7.96l-1.37-1.37c-.4-.4-.92-.59-1.43-.59-.52 0-1.04.2-1.43.59L10.3 9.45l-7.72 7.72c-.78.78-.78 2.05 0 2.83L4 21.41c.39.39.9.59 1.41.59.51 0 1.02-.2 1.41-.59l7.78-7.78 2.81-2.81c.8-.78.8-2.07 0-2.86zM5.41 20L4 18.59l7.72-7.72 1.47 1.35L5.41 20z\"/>\n",
              "  </svg>\n",
              "      </button>\n",
              "      \n",
              "  <style>\n",
              "    .colab-df-container {\n",
              "      display:flex;\n",
              "      flex-wrap:wrap;\n",
              "      gap: 12px;\n",
              "    }\n",
              "\n",
              "    .colab-df-convert {\n",
              "      background-color: #E8F0FE;\n",
              "      border: none;\n",
              "      border-radius: 50%;\n",
              "      cursor: pointer;\n",
              "      display: none;\n",
              "      fill: #1967D2;\n",
              "      height: 32px;\n",
              "      padding: 0 0 0 0;\n",
              "      width: 32px;\n",
              "    }\n",
              "\n",
              "    .colab-df-convert:hover {\n",
              "      background-color: #E2EBFA;\n",
              "      box-shadow: 0px 1px 2px rgba(60, 64, 67, 0.3), 0px 1px 3px 1px rgba(60, 64, 67, 0.15);\n",
              "      fill: #174EA6;\n",
              "    }\n",
              "\n",
              "    [theme=dark] .colab-df-convert {\n",
              "      background-color: #3B4455;\n",
              "      fill: #D2E3FC;\n",
              "    }\n",
              "\n",
              "    [theme=dark] .colab-df-convert:hover {\n",
              "      background-color: #434B5C;\n",
              "      box-shadow: 0px 1px 3px 1px rgba(0, 0, 0, 0.15);\n",
              "      filter: drop-shadow(0px 1px 2px rgba(0, 0, 0, 0.3));\n",
              "      fill: #FFFFFF;\n",
              "    }\n",
              "  </style>\n",
              "\n",
              "      <script>\n",
              "        const buttonEl =\n",
              "          document.querySelector('#df-42daa522-8e33-48d1-b0e6-308e11c4297d button.colab-df-convert');\n",
              "        buttonEl.style.display =\n",
              "          google.colab.kernel.accessAllowed ? 'block' : 'none';\n",
              "\n",
              "        async function convertToInteractive(key) {\n",
              "          const element = document.querySelector('#df-42daa522-8e33-48d1-b0e6-308e11c4297d');\n",
              "          const dataTable =\n",
              "            await google.colab.kernel.invokeFunction('convertToInteractive',\n",
              "                                                     [key], {});\n",
              "          if (!dataTable) return;\n",
              "\n",
              "          const docLinkHtml = 'Like what you see? Visit the ' +\n",
              "            '<a target=\"_blank\" href=https://colab.research.google.com/notebooks/data_table.ipynb>data table notebook</a>'\n",
              "            + ' to learn more about interactive tables.';\n",
              "          element.innerHTML = '';\n",
              "          dataTable['output_type'] = 'display_data';\n",
              "          await google.colab.output.renderOutput(dataTable, element);\n",
              "          const docLink = document.createElement('div');\n",
              "          docLink.innerHTML = docLinkHtml;\n",
              "          element.appendChild(docLink);\n",
              "        }\n",
              "      </script>\n",
              "    </div>\n",
              "  </div>\n",
              "  "
            ]
          },
          "metadata": {},
          "execution_count": 69
        }
      ]
    },
    {
      "cell_type": "markdown",
      "source": [
        "Sebagian besar nasabah tidak memiliki mobil. \n",
        "\n",
        "Nasabah yang memiliki mobil (sekitar 51%) mengalami kesulitan dalam pengembalian pinjaman dibandingkan dengan nasabah yang tidak memiliki mobil (48%). Namun perbedaannya tidak terlalu signifikan."
      ],
      "metadata": {
        "id": "Zf8_VeTTnSK1"
      }
    },
    {
      "cell_type": "code",
      "source": [
        "df['FLAG_OWN_REALTY'] = df['FLAG_OWN_REALTY'].replace(['Y','N'],['Yes','No'])"
      ],
      "metadata": {
        "id": "sKysBsUT6iKL"
      },
      "execution_count": 70,
      "outputs": []
    },
    {
      "cell_type": "markdown",
      "source": [
        "Realty Owenership Status vs Target"
      ],
      "metadata": {
        "id": "6X4yu9bd8kTB"
      }
    },
    {
      "cell_type": "code",
      "source": [
        "rt = df.groupby(by=['FLAG_OWN_REALTY','TARGET'], as_index=False)['SK_ID_CURR'].count()\n",
        "print('Clients Repayment Abilities By Realty Ownership Status')\n",
        "rt.sort_values(by='SK_ID_CURR', ascending=False)\n",
        "rt.style.background_gradient(cmap='Blues')"
      ],
      "metadata": {
        "colab": {
          "base_uri": "https://localhost:8080/",
          "height": 192
        },
        "id": "wdKq_5US6oGb",
        "outputId": "843b17b0-74ea-40f6-80bf-d44552fab511"
      },
      "execution_count": 71,
      "outputs": [
        {
          "output_type": "stream",
          "name": "stdout",
          "text": [
            "Clients Repayment Abilities By Realty Ownership Status\n"
          ]
        },
        {
          "output_type": "execute_result",
          "data": {
            "text/plain": [
              "<pandas.io.formats.style.Styler at 0x7f31711fc070>"
            ],
            "text/html": [
              "<style type=\"text/css\">\n",
              "#T_80345_row0_col2 {\n",
              "  background-color: #f3f8fe;\n",
              "  color: #000000;\n",
              "}\n",
              "#T_80345_row1_col2 {\n",
              "  background-color: #f7fbff;\n",
              "  color: #000000;\n",
              "}\n",
              "#T_80345_row2_col2 {\n",
              "  background-color: #083573;\n",
              "  color: #f1f1f1;\n",
              "}\n",
              "#T_80345_row3_col2 {\n",
              "  background-color: #08306b;\n",
              "  color: #f1f1f1;\n",
              "}\n",
              "</style>\n",
              "<table id=\"T_80345_\" class=\"dataframe\">\n",
              "  <thead>\n",
              "    <tr>\n",
              "      <th class=\"blank level0\" >&nbsp;</th>\n",
              "      <th class=\"col_heading level0 col0\" >FLAG_OWN_REALTY</th>\n",
              "      <th class=\"col_heading level0 col1\" >TARGET</th>\n",
              "      <th class=\"col_heading level0 col2\" >SK_ID_CURR</th>\n",
              "    </tr>\n",
              "  </thead>\n",
              "  <tbody>\n",
              "    <tr>\n",
              "      <th id=\"T_80345_level0_row0\" class=\"row_heading level0 row0\" >0</th>\n",
              "      <td id=\"T_80345_row0_col0\" class=\"data row0 col0\" >No</td>\n",
              "      <td id=\"T_80345_row0_col1\" class=\"data row0 col1\" >Default</td>\n",
              "      <td id=\"T_80345_row0_col2\" class=\"data row0 col2\" >1562</td>\n",
              "    </tr>\n",
              "    <tr>\n",
              "      <th id=\"T_80345_level0_row1\" class=\"row_heading level0 row1\" >1</th>\n",
              "      <td id=\"T_80345_row1_col0\" class=\"data row1 col0\" >No</td>\n",
              "      <td id=\"T_80345_row1_col1\" class=\"data row1 col1\" >Non Default</td>\n",
              "      <td id=\"T_80345_row1_col2\" class=\"data row1 col2\" >1521</td>\n",
              "    </tr>\n",
              "    <tr>\n",
              "      <th id=\"T_80345_level0_row2\" class=\"row_heading level0 row2\" >2</th>\n",
              "      <td id=\"T_80345_row2_col0\" class=\"data row2 col0\" >Yes</td>\n",
              "      <td id=\"T_80345_row2_col1\" class=\"data row2 col1\" >Default</td>\n",
              "      <td id=\"T_80345_row2_col2\" class=\"data row2 col2\" >3438</td>\n",
              "    </tr>\n",
              "    <tr>\n",
              "      <th id=\"T_80345_level0_row3\" class=\"row_heading level0 row3\" >3</th>\n",
              "      <td id=\"T_80345_row3_col0\" class=\"data row3 col0\" >Yes</td>\n",
              "      <td id=\"T_80345_row3_col1\" class=\"data row3 col1\" >Non Default</td>\n",
              "      <td id=\"T_80345_row3_col2\" class=\"data row3 col2\" >3479</td>\n",
              "    </tr>\n",
              "  </tbody>\n",
              "</table>\n"
            ]
          },
          "metadata": {},
          "execution_count": 71
        }
      ]
    },
    {
      "cell_type": "code",
      "source": [
        "data[['FLAG_OWN_REALTY','TARGET']].groupby(['FLAG_OWN_REALTY'],as_index=False).mean().sort_values(by=['TARGET'], ascending=False)"
      ],
      "metadata": {
        "colab": {
          "base_uri": "https://localhost:8080/",
          "height": 112
        },
        "id": "-njUkTWl8w2p",
        "outputId": "b22aac4a-8d11-4fa9-eaab-3fa4a7807a4f"
      },
      "execution_count": 72,
      "outputs": [
        {
          "output_type": "execute_result",
          "data": {
            "text/plain": [
              "  FLAG_OWN_REALTY    TARGET\n",
              "0               N  0.506649\n",
              "1               Y  0.497036"
            ],
            "text/html": [
              "\n",
              "  <div id=\"df-96b362f2-415a-4415-a07b-746174761283\">\n",
              "    <div class=\"colab-df-container\">\n",
              "      <div>\n",
              "<style scoped>\n",
              "    .dataframe tbody tr th:only-of-type {\n",
              "        vertical-align: middle;\n",
              "    }\n",
              "\n",
              "    .dataframe tbody tr th {\n",
              "        vertical-align: top;\n",
              "    }\n",
              "\n",
              "    .dataframe thead th {\n",
              "        text-align: right;\n",
              "    }\n",
              "</style>\n",
              "<table border=\"1\" class=\"dataframe\">\n",
              "  <thead>\n",
              "    <tr style=\"text-align: right;\">\n",
              "      <th></th>\n",
              "      <th>FLAG_OWN_REALTY</th>\n",
              "      <th>TARGET</th>\n",
              "    </tr>\n",
              "  </thead>\n",
              "  <tbody>\n",
              "    <tr>\n",
              "      <th>0</th>\n",
              "      <td>N</td>\n",
              "      <td>0.506649</td>\n",
              "    </tr>\n",
              "    <tr>\n",
              "      <th>1</th>\n",
              "      <td>Y</td>\n",
              "      <td>0.497036</td>\n",
              "    </tr>\n",
              "  </tbody>\n",
              "</table>\n",
              "</div>\n",
              "      <button class=\"colab-df-convert\" onclick=\"convertToInteractive('df-96b362f2-415a-4415-a07b-746174761283')\"\n",
              "              title=\"Convert this dataframe to an interactive table.\"\n",
              "              style=\"display:none;\">\n",
              "        \n",
              "  <svg xmlns=\"http://www.w3.org/2000/svg\" height=\"24px\"viewBox=\"0 0 24 24\"\n",
              "       width=\"24px\">\n",
              "    <path d=\"M0 0h24v24H0V0z\" fill=\"none\"/>\n",
              "    <path d=\"M18.56 5.44l.94 2.06.94-2.06 2.06-.94-2.06-.94-.94-2.06-.94 2.06-2.06.94zm-11 1L8.5 8.5l.94-2.06 2.06-.94-2.06-.94L8.5 2.5l-.94 2.06-2.06.94zm10 10l.94 2.06.94-2.06 2.06-.94-2.06-.94-.94-2.06-.94 2.06-2.06.94z\"/><path d=\"M17.41 7.96l-1.37-1.37c-.4-.4-.92-.59-1.43-.59-.52 0-1.04.2-1.43.59L10.3 9.45l-7.72 7.72c-.78.78-.78 2.05 0 2.83L4 21.41c.39.39.9.59 1.41.59.51 0 1.02-.2 1.41-.59l7.78-7.78 2.81-2.81c.8-.78.8-2.07 0-2.86zM5.41 20L4 18.59l7.72-7.72 1.47 1.35L5.41 20z\"/>\n",
              "  </svg>\n",
              "      </button>\n",
              "      \n",
              "  <style>\n",
              "    .colab-df-container {\n",
              "      display:flex;\n",
              "      flex-wrap:wrap;\n",
              "      gap: 12px;\n",
              "    }\n",
              "\n",
              "    .colab-df-convert {\n",
              "      background-color: #E8F0FE;\n",
              "      border: none;\n",
              "      border-radius: 50%;\n",
              "      cursor: pointer;\n",
              "      display: none;\n",
              "      fill: #1967D2;\n",
              "      height: 32px;\n",
              "      padding: 0 0 0 0;\n",
              "      width: 32px;\n",
              "    }\n",
              "\n",
              "    .colab-df-convert:hover {\n",
              "      background-color: #E2EBFA;\n",
              "      box-shadow: 0px 1px 2px rgba(60, 64, 67, 0.3), 0px 1px 3px 1px rgba(60, 64, 67, 0.15);\n",
              "      fill: #174EA6;\n",
              "    }\n",
              "\n",
              "    [theme=dark] .colab-df-convert {\n",
              "      background-color: #3B4455;\n",
              "      fill: #D2E3FC;\n",
              "    }\n",
              "\n",
              "    [theme=dark] .colab-df-convert:hover {\n",
              "      background-color: #434B5C;\n",
              "      box-shadow: 0px 1px 3px 1px rgba(0, 0, 0, 0.15);\n",
              "      filter: drop-shadow(0px 1px 2px rgba(0, 0, 0, 0.3));\n",
              "      fill: #FFFFFF;\n",
              "    }\n",
              "  </style>\n",
              "\n",
              "      <script>\n",
              "        const buttonEl =\n",
              "          document.querySelector('#df-96b362f2-415a-4415-a07b-746174761283 button.colab-df-convert');\n",
              "        buttonEl.style.display =\n",
              "          google.colab.kernel.accessAllowed ? 'block' : 'none';\n",
              "\n",
              "        async function convertToInteractive(key) {\n",
              "          const element = document.querySelector('#df-96b362f2-415a-4415-a07b-746174761283');\n",
              "          const dataTable =\n",
              "            await google.colab.kernel.invokeFunction('convertToInteractive',\n",
              "                                                     [key], {});\n",
              "          if (!dataTable) return;\n",
              "\n",
              "          const docLinkHtml = 'Like what you see? Visit the ' +\n",
              "            '<a target=\"_blank\" href=https://colab.research.google.com/notebooks/data_table.ipynb>data table notebook</a>'\n",
              "            + ' to learn more about interactive tables.';\n",
              "          element.innerHTML = '';\n",
              "          dataTable['output_type'] = 'display_data';\n",
              "          await google.colab.output.renderOutput(dataTable, element);\n",
              "          const docLink = document.createElement('div');\n",
              "          docLink.innerHTML = docLinkHtml;\n",
              "          element.appendChild(docLink);\n",
              "        }\n",
              "      </script>\n",
              "    </div>\n",
              "  </div>\n",
              "  "
            ]
          },
          "metadata": {},
          "execution_count": 72
        }
      ]
    },
    {
      "cell_type": "markdown",
      "source": [
        "Sebagian besar nasabah memiliki rumah/apartemen.\n",
        "\n",
        "Nasabah yang memiliki rumah/flat (sekitar 8%) memiliki masalah dalam membayar pinjaman dibandingkan dengan nasabah yang tidak memiliki rumah/flat (sekitar 7%). Namun, perbedaannya tidak terlalu signifikan."
      ],
      "metadata": {
        "id": "sox3hd34869g"
      }
    },
    {
      "cell_type": "markdown",
      "source": [
        "Suite Type, Income Type, Education Type, and Family Status"
      ],
      "metadata": {
        "id": "hrFxS_A3_toZ"
      }
    },
    {
      "cell_type": "code",
      "source": [
        "# visualization pt. 2\n",
        "sns.set_style('whitegrid')\n",
        "fig, ax = plt.subplots(2,2, figsize=(25,35))\n",
        "sns.set_context('paper', font_scale=1)\n",
        "\n",
        "ax[0][0].set_title('Clients Repayment Abilities By Suite Type\\n', fontweight='bold', fontsize=14)\n",
        "sns.countplot(x='NAME_TYPE_SUITE', data = df, hue = 'TARGET', palette = 'ch:start=0.2,rot=-.3_r', ax=ax[0][0])\n",
        "\n",
        "ax[0][1].set_title('Clients Repayment Abilities By Income Type\\n', fontweight='bold', fontsize=14)\n",
        "sns.countplot(x='NAME_INCOME_TYPE', data = df, hue = 'TARGET', palette = 'ch:start=0.2,rot=-.3_r', ax=ax[0][1])\n",
        "\n",
        "ax[1][0].set_title('\\nClients Repayment Abilities By Education Type)\\n', fontweight='bold', fontsize=14)\n",
        "sns.countplot(x='NAME_EDUCATION_TYPE', data = df, hue = 'TARGET', palette = 'ch:start=0.2,rot=-.3_r', ax=ax[1][0])\n",
        "\n",
        "ax[1][1].set_title('\\nClients Repayment Abilities By Family Status\\n', fontweight='bold', fontsize=14)\n",
        "sns.countplot(x='NAME_FAMILY_STATUS', data = df, hue = 'TARGET', palette = 'ch:start=0.2,rot=-.3_r', ax=ax[1][1])"
      ],
      "metadata": {
        "colab": {
          "base_uri": "https://localhost:8080/",
          "height": 1000
        },
        "id": "L0L__0-h_vsI",
        "outputId": "8e62689b-a457-4d9a-f327-ce7a1ebb6a1b"
      },
      "execution_count": 74,
      "outputs": [
        {
          "output_type": "execute_result",
          "data": {
            "text/plain": [
              "<matplotlib.axes._subplots.AxesSubplot at 0x7f316f81d370>"
            ]
          },
          "metadata": {},
          "execution_count": 74
        },
        {
          "output_type": "display_data",
          "data": {
            "text/plain": [
              "<Figure size 1800x2520 with 4 Axes>"
            ],
            "image/png": "[encoded data removed]"
          },
          "metadata": {}
        }
      ]
    },
    {
      "cell_type": "markdown",
      "source": [
        "Suite Type Vs Target"
      ],
      "metadata": {
        "id": "EAslQjI0_-aC"
      }
    },
    {
      "cell_type": "code",
      "source": [
        "st = df.groupby(by=['NAME_TYPE_SUITE','TARGET'], as_index=False)['SK_ID_CURR'].count()\n",
        "print('Clients Repayment Abilities By Suite Type')\n",
        "st.sort_values(by='SK_ID_CURR', ascending=False)\n",
        "st.style.background_gradient(cmap='Blues')"
      ],
      "metadata": {
        "colab": {
          "base_uri": "https://localhost:8080/",
          "height": 506
        },
        "id": "Wx0UQC5Q__cg",
        "outputId": "d2f03317-98b3-4dc8-a167-02a198e87d35"
      },
      "execution_count": 75,
      "outputs": [
        {
          "output_type": "stream",
          "name": "stdout",
          "text": [
            "Clients Repayment Abilities By Suite Type\n"
          ]
        },
        {
          "output_type": "execute_result",
          "data": {
            "text/plain": [
              "<pandas.io.formats.style.Styler at 0x7f31712bd610>"
            ],
            "text/html": [
              "<style type=\"text/css\">\n",
              "#T_a7c94_row0_col2 {\n",
              "  background-color: #f5f9fe;\n",
              "  color: #000000;\n",
              "}\n",
              "#T_a7c94_row1_col2, #T_a7c94_row8_col2 {\n",
              "  background-color: #f5fafe;\n",
              "  color: #000000;\n",
              "}\n",
              "#T_a7c94_row2_col2 {\n",
              "  background-color: #d9e8f5;\n",
              "  color: #000000;\n",
              "}\n",
              "#T_a7c94_row3_col2 {\n",
              "  background-color: #d7e6f5;\n",
              "  color: #000000;\n",
              "}\n",
              "#T_a7c94_row4_col2, #T_a7c94_row5_col2, #T_a7c94_row6_col2, #T_a7c94_row7_col2 {\n",
              "  background-color: #f7fbff;\n",
              "  color: #000000;\n",
              "}\n",
              "#T_a7c94_row9_col2 {\n",
              "  background-color: #f6faff;\n",
              "  color: #000000;\n",
              "}\n",
              "#T_a7c94_row10_col2 {\n",
              "  background-color: #eff6fc;\n",
              "  color: #000000;\n",
              "}\n",
              "#T_a7c94_row11_col2 {\n",
              "  background-color: #eef5fc;\n",
              "  color: #000000;\n",
              "}\n",
              "#T_a7c94_row12_col2 {\n",
              "  background-color: #08306b;\n",
              "  color: #f1f1f1;\n",
              "}\n",
              "#T_a7c94_row13_col2 {\n",
              "  background-color: #083370;\n",
              "  color: #f1f1f1;\n",
              "}\n",
              "</style>\n",
              "<table id=\"T_a7c94_\" class=\"dataframe\">\n",
              "  <thead>\n",
              "    <tr>\n",
              "      <th class=\"blank level0\" >&nbsp;</th>\n",
              "      <th class=\"col_heading level0 col0\" >NAME_TYPE_SUITE</th>\n",
              "      <th class=\"col_heading level0 col1\" >TARGET</th>\n",
              "      <th class=\"col_heading level0 col2\" >SK_ID_CURR</th>\n",
              "    </tr>\n",
              "  </thead>\n",
              "  <tbody>\n",
              "    <tr>\n",
              "      <th id=\"T_a7c94_level0_row0\" class=\"row_heading level0 row0\" >0</th>\n",
              "      <td id=\"T_a7c94_row0_col0\" class=\"data row0 col0\" >Children</td>\n",
              "      <td id=\"T_a7c94_row0_col1\" class=\"data row0 col1\" >Default</td>\n",
              "      <td id=\"T_a7c94_row0_col2\" class=\"data row0 col2\" >59</td>\n",
              "    </tr>\n",
              "    <tr>\n",
              "      <th id=\"T_a7c94_level0_row1\" class=\"row_heading level0 row1\" >1</th>\n",
              "      <td id=\"T_a7c94_row1_col0\" class=\"data row1 col0\" >Children</td>\n",
              "      <td id=\"T_a7c94_row1_col1\" class=\"data row1 col1\" >Non Default</td>\n",
              "      <td id=\"T_a7c94_row1_col2\" class=\"data row1 col2\" >48</td>\n",
              "    </tr>\n",
              "    <tr>\n",
              "      <th id=\"T_a7c94_level0_row2\" class=\"row_heading level0 row2\" >2</th>\n",
              "      <td id=\"T_a7c94_row2_col0\" class=\"data row2 col0\" >Family</td>\n",
              "      <td id=\"T_a7c94_row2_col1\" class=\"data row2 col1\" >Default</td>\n",
              "      <td id=\"T_a7c94_row2_col2\" class=\"data row2 col2\" >622</td>\n",
              "    </tr>\n",
              "    <tr>\n",
              "      <th id=\"T_a7c94_level0_row3\" class=\"row_heading level0 row3\" >3</th>\n",
              "      <td id=\"T_a7c94_row3_col0\" class=\"data row3 col0\" >Family</td>\n",
              "      <td id=\"T_a7c94_row3_col1\" class=\"data row3 col1\" >Non Default</td>\n",
              "      <td id=\"T_a7c94_row3_col2\" class=\"data row3 col2\" >660</td>\n",
              "    </tr>\n",
              "    <tr>\n",
              "      <th id=\"T_a7c94_level0_row4\" class=\"row_heading level0 row4\" >4</th>\n",
              "      <td id=\"T_a7c94_row4_col0\" class=\"data row4 col0\" >Group of people</td>\n",
              "      <td id=\"T_a7c94_row4_col1\" class=\"data row4 col1\" >Default</td>\n",
              "      <td id=\"T_a7c94_row4_col2\" class=\"data row4 col2\" >2</td>\n",
              "    </tr>\n",
              "    <tr>\n",
              "      <th id=\"T_a7c94_level0_row5\" class=\"row_heading level0 row5\" >5</th>\n",
              "      <td id=\"T_a7c94_row5_col0\" class=\"data row5 col0\" >Group of people</td>\n",
              "      <td id=\"T_a7c94_row5_col1\" class=\"data row5 col1\" >Non Default</td>\n",
              "      <td id=\"T_a7c94_row5_col2\" class=\"data row5 col2\" >6</td>\n",
              "    </tr>\n",
              "    <tr>\n",
              "      <th id=\"T_a7c94_level0_row6\" class=\"row_heading level0 row6\" >6</th>\n",
              "      <td id=\"T_a7c94_row6_col0\" class=\"data row6 col0\" >Other_A</td>\n",
              "      <td id=\"T_a7c94_row6_col1\" class=\"data row6 col1\" >Default</td>\n",
              "      <td id=\"T_a7c94_row6_col2\" class=\"data row6 col2\" >15</td>\n",
              "    </tr>\n",
              "    <tr>\n",
              "      <th id=\"T_a7c94_level0_row7\" class=\"row_heading level0 row7\" >7</th>\n",
              "      <td id=\"T_a7c94_row7_col0\" class=\"data row7 col0\" >Other_A</td>\n",
              "      <td id=\"T_a7c94_row7_col1\" class=\"data row7 col1\" >Non Default</td>\n",
              "      <td id=\"T_a7c94_row7_col2\" class=\"data row7 col2\" >11</td>\n",
              "    </tr>\n",
              "    <tr>\n",
              "      <th id=\"T_a7c94_level0_row8\" class=\"row_heading level0 row8\" >8</th>\n",
              "      <td id=\"T_a7c94_row8_col0\" class=\"data row8 col0\" >Other_B</td>\n",
              "      <td id=\"T_a7c94_row8_col1\" class=\"data row8 col1\" >Default</td>\n",
              "      <td id=\"T_a7c94_row8_col2\" class=\"data row8 col2\" >35</td>\n",
              "    </tr>\n",
              "    <tr>\n",
              "      <th id=\"T_a7c94_level0_row9\" class=\"row_heading level0 row9\" >9</th>\n",
              "      <td id=\"T_a7c94_row9_col0\" class=\"data row9 col0\" >Other_B</td>\n",
              "      <td id=\"T_a7c94_row9_col1\" class=\"data row9 col1\" >Non Default</td>\n",
              "      <td id=\"T_a7c94_row9_col2\" class=\"data row9 col2\" >31</td>\n",
              "    </tr>\n",
              "    <tr>\n",
              "      <th id=\"T_a7c94_level0_row10\" class=\"row_heading level0 row10\" >10</th>\n",
              "      <td id=\"T_a7c94_row10_col0\" class=\"data row10 col0\" >Spouse, partner</td>\n",
              "      <td id=\"T_a7c94_row10_col1\" class=\"data row10 col1\" >Default</td>\n",
              "      <td id=\"T_a7c94_row10_col2\" class=\"data row10 col2\" >167</td>\n",
              "    </tr>\n",
              "    <tr>\n",
              "      <th id=\"T_a7c94_level0_row11\" class=\"row_heading level0 row11\" >11</th>\n",
              "      <td id=\"T_a7c94_row11_col0\" class=\"data row11 col0\" >Spouse, partner</td>\n",
              "      <td id=\"T_a7c94_row11_col1\" class=\"data row11 col1\" >Non Default</td>\n",
              "      <td id=\"T_a7c94_row11_col2\" class=\"data row11 col2\" >187</td>\n",
              "    </tr>\n",
              "    <tr>\n",
              "      <th id=\"T_a7c94_level0_row12\" class=\"row_heading level0 row12\" >12</th>\n",
              "      <td id=\"T_a7c94_row12_col0\" class=\"data row12 col0\" >Unaccompanied</td>\n",
              "      <td id=\"T_a7c94_row12_col1\" class=\"data row12 col1\" >Default</td>\n",
              "      <td id=\"T_a7c94_row12_col2\" class=\"data row12 col2\" >4090</td>\n",
              "    </tr>\n",
              "    <tr>\n",
              "      <th id=\"T_a7c94_level0_row13\" class=\"row_heading level0 row13\" >13</th>\n",
              "      <td id=\"T_a7c94_row13_col0\" class=\"data row13 col0\" >Unaccompanied</td>\n",
              "      <td id=\"T_a7c94_row13_col1\" class=\"data row13 col1\" >Non Default</td>\n",
              "      <td id=\"T_a7c94_row13_col2\" class=\"data row13 col2\" >4036</td>\n",
              "    </tr>\n",
              "  </tbody>\n",
              "</table>\n"
            ]
          },
          "metadata": {},
          "execution_count": 75
        }
      ]
    },
    {
      "cell_type": "code",
      "source": [
        "data[['NAME_TYPE_SUITE','TARGET']].groupby(['NAME_TYPE_SUITE'],as_index=False).mean().sort_values(by=['TARGET'], ascending=False)"
      ],
      "metadata": {
        "colab": {
          "base_uri": "https://localhost:8080/",
          "height": 269
        },
        "id": "BcuV52uTAEoa",
        "outputId": "93464192-7805-4ffa-b063-d6404213c928"
      },
      "execution_count": 76,
      "outputs": [
        {
          "output_type": "execute_result",
          "data": {
            "text/plain": [
              "   NAME_TYPE_SUITE    TARGET\n",
              "3          Other_A  0.576923\n",
              "0         Children  0.551402\n",
              "4          Other_B  0.530303\n",
              "6    Unaccompanied  0.503323\n",
              "1           Family  0.485179\n",
              "5  Spouse, partner  0.471751\n",
              "2  Group of people  0.250000"
            ],
            "text/html": [
              "\n",
              "  <div id=\"df-00bb9347-3813-4897-9035-638c323e70eb\">\n",
              "    <div class=\"colab-df-container\">\n",
              "      <div>\n",
              "<style scoped>\n",
              "    .dataframe tbody tr th:only-of-type {\n",
              "        vertical-align: middle;\n",
              "    }\n",
              "\n",
              "    .dataframe tbody tr th {\n",
              "        vertical-align: top;\n",
              "    }\n",
              "\n",
              "    .dataframe thead th {\n",
              "        text-align: right;\n",
              "    }\n",
              "</style>\n",
              "<table border=\"1\" class=\"dataframe\">\n",
              "  <thead>\n",
              "    <tr style=\"text-align: right;\">\n",
              "      <th></th>\n",
              "      <th>NAME_TYPE_SUITE</th>\n",
              "      <th>TARGET</th>\n",
              "    </tr>\n",
              "  </thead>\n",
              "  <tbody>\n",
              "    <tr>\n",
              "      <th>3</th>\n",
              "      <td>Other_A</td>\n",
              "      <td>0.576923</td>\n",
              "    </tr>\n",
              "    <tr>\n",
              "      <th>0</th>\n",
              "      <td>Children</td>\n",
              "      <td>0.551402</td>\n",
              "    </tr>\n",
              "    <tr>\n",
              "      <th>4</th>\n",
              "      <td>Other_B</td>\n",
              "      <td>0.530303</td>\n",
              "    </tr>\n",
              "    <tr>\n",
              "      <th>6</th>\n",
              "      <td>Unaccompanied</td>\n",
              "      <td>0.503323</td>\n",
              "    </tr>\n",
              "    <tr>\n",
              "      <th>1</th>\n",
              "      <td>Family</td>\n",
              "      <td>0.485179</td>\n",
              "    </tr>\n",
              "    <tr>\n",
              "      <th>5</th>\n",
              "      <td>Spouse, partner</td>\n",
              "      <td>0.471751</td>\n",
              "    </tr>\n",
              "    <tr>\n",
              "      <th>2</th>\n",
              "      <td>Group of people</td>\n",
              "      <td>0.250000</td>\n",
              "    </tr>\n",
              "  </tbody>\n",
              "</table>\n",
              "</div>\n",
              "      <button class=\"colab-df-convert\" onclick=\"convertToInteractive('df-00bb9347-3813-4897-9035-638c323e70eb')\"\n",
              "              title=\"Convert this dataframe to an interactive table.\"\n",
              "              style=\"display:none;\">\n",
              "        \n",
              "  <svg xmlns=\"http://www.w3.org/2000/svg\" height=\"24px\"viewBox=\"0 0 24 24\"\n",
              "       width=\"24px\">\n",
              "    <path d=\"M0 0h24v24H0V0z\" fill=\"none\"/>\n",
              "    <path d=\"M18.56 5.44l.94 2.06.94-2.06 2.06-.94-2.06-.94-.94-2.06-.94 2.06-2.06.94zm-11 1L8.5 8.5l.94-2.06 2.06-.94-2.06-.94L8.5 2.5l-.94 2.06-2.06.94zm10 10l.94 2.06.94-2.06 2.06-.94-2.06-.94-.94-2.06-.94 2.06-2.06.94z\"/><path d=\"M17.41 7.96l-1.37-1.37c-.4-.4-.92-.59-1.43-.59-.52 0-1.04.2-1.43.59L10.3 9.45l-7.72 7.72c-.78.78-.78 2.05 0 2.83L4 21.41c.39.39.9.59 1.41.59.51 0 1.02-.2 1.41-.59l7.78-7.78 2.81-2.81c.8-.78.8-2.07 0-2.86zM5.41 20L4 18.59l7.72-7.72 1.47 1.35L5.41 20z\"/>\n",
              "  </svg>\n",
              "      </button>\n",
              "      \n",
              "  <style>\n",
              "    .colab-df-container {\n",
              "      display:flex;\n",
              "      flex-wrap:wrap;\n",
              "      gap: 12px;\n",
              "    }\n",
              "\n",
              "    .colab-df-convert {\n",
              "      background-color: #E8F0FE;\n",
              "      border: none;\n",
              "      border-radius: 50%;\n",
              "      cursor: pointer;\n",
              "      display: none;\n",
              "      fill: #1967D2;\n",
              "      height: 32px;\n",
              "      padding: 0 0 0 0;\n",
              "      width: 32px;\n",
              "    }\n",
              "\n",
              "    .colab-df-convert:hover {\n",
              "      background-color: #E2EBFA;\n",
              "      box-shadow: 0px 1px 2px rgba(60, 64, 67, 0.3), 0px 1px 3px 1px rgba(60, 64, 67, 0.15);\n",
              "      fill: #174EA6;\n",
              "    }\n",
              "\n",
              "    [theme=dark] .colab-df-convert {\n",
              "      background-color: #3B4455;\n",
              "      fill: #D2E3FC;\n",
              "    }\n",
              "\n",
              "    [theme=dark] .colab-df-convert:hover {\n",
              "      background-color: #434B5C;\n",
              "      box-shadow: 0px 1px 3px 1px rgba(0, 0, 0, 0.15);\n",
              "      filter: drop-shadow(0px 1px 2px rgba(0, 0, 0, 0.3));\n",
              "      fill: #FFFFFF;\n",
              "    }\n",
              "  </style>\n",
              "\n",
              "      <script>\n",
              "        const buttonEl =\n",
              "          document.querySelector('#df-00bb9347-3813-4897-9035-638c323e70eb button.colab-df-convert');\n",
              "        buttonEl.style.display =\n",
              "          google.colab.kernel.accessAllowed ? 'block' : 'none';\n",
              "\n",
              "        async function convertToInteractive(key) {\n",
              "          const element = document.querySelector('#df-00bb9347-3813-4897-9035-638c323e70eb');\n",
              "          const dataTable =\n",
              "            await google.colab.kernel.invokeFunction('convertToInteractive',\n",
              "                                                     [key], {});\n",
              "          if (!dataTable) return;\n",
              "\n",
              "          const docLinkHtml = 'Like what you see? Visit the ' +\n",
              "            '<a target=\"_blank\" href=https://colab.research.google.com/notebooks/data_table.ipynb>data table notebook</a>'\n",
              "            + ' to learn more about interactive tables.';\n",
              "          element.innerHTML = '';\n",
              "          dataTable['output_type'] = 'display_data';\n",
              "          await google.colab.output.renderOutput(dataTable, element);\n",
              "          const docLink = document.createElement('div');\n",
              "          docLink.innerHTML = docLinkHtml;\n",
              "          element.appendChild(docLink);\n",
              "        }\n",
              "      </script>\n",
              "    </div>\n",
              "  </div>\n",
              "  "
            ]
          },
          "metadata": {},
          "execution_count": 76
        }
      ]
    },
    {
      "cell_type": "markdown",
      "source": [
        "Klien yang ditemani oleh other_b saat mengajukan pinjaman memiliki persentase yang lebih tinggi untuk mengalami kesulitan dalam melunasi pinjaman (sekitar 10%)."
      ],
      "metadata": {
        "id": "GIugLbl-AM5h"
      }
    },
    {
      "cell_type": "code",
      "source": [
        "rt = df.groupby(by=['NAME_INCOME_TYPE','TARGET'], as_index=False)['SK_ID_CURR'].count()\n",
        "print('Clients Repayment Abilities By Income Type')\n",
        "rt.sort_values(by='SK_ID_CURR', ascending=False)\n",
        "rt.style.background_gradient(cmap='Blues')"
      ],
      "metadata": {
        "colab": {
          "base_uri": "https://localhost:8080/",
          "height": 380
        },
        "id": "QC2mwfMqANtD",
        "outputId": "5036b837-a9ed-4b04-ce99-4ce15e3bef95"
      },
      "execution_count": 77,
      "outputs": [
        {
          "output_type": "stream",
          "name": "stdout",
          "text": [
            "Clients Repayment Abilities By Income Type\n"
          ]
        },
        {
          "output_type": "execute_result",
          "data": {
            "text/plain": [
              "<pandas.io.formats.style.Styler at 0x7f316f7a7f10>"
            ],
            "text/html": [
              "<style type=\"text/css\">\n",
              "#T_dc56e_row0_col2 {\n",
              "  background-color: #a6cee4;\n",
              "  color: #000000;\n",
              "}\n",
              "#T_dc56e_row1_col2 {\n",
              "  background-color: #9ac8e0;\n",
              "  color: #000000;\n",
              "}\n",
              "#T_dc56e_row2_col2 {\n",
              "  background-color: #cfe1f2;\n",
              "  color: #000000;\n",
              "}\n",
              "#T_dc56e_row3_col2 {\n",
              "  background-color: #b5d4e9;\n",
              "  color: #000000;\n",
              "}\n",
              "#T_dc56e_row4_col2 {\n",
              "  background-color: #e7f1fa;\n",
              "  color: #000000;\n",
              "}\n",
              "#T_dc56e_row5_col2 {\n",
              "  background-color: #e2edf8;\n",
              "  color: #000000;\n",
              "}\n",
              "#T_dc56e_row6_col2, #T_dc56e_row7_col2 {\n",
              "  background-color: #f7fbff;\n",
              "  color: #000000;\n",
              "}\n",
              "#T_dc56e_row8_col2 {\n",
              "  background-color: #08306b;\n",
              "  color: #f1f1f1;\n",
              "}\n",
              "#T_dc56e_row9_col2 {\n",
              "  background-color: #105ba4;\n",
              "  color: #f1f1f1;\n",
              "}\n",
              "</style>\n",
              "<table id=\"T_dc56e_\" class=\"dataframe\">\n",
              "  <thead>\n",
              "    <tr>\n",
              "      <th class=\"blank level0\" >&nbsp;</th>\n",
              "      <th class=\"col_heading level0 col0\" >NAME_INCOME_TYPE</th>\n",
              "      <th class=\"col_heading level0 col1\" >TARGET</th>\n",
              "      <th class=\"col_heading level0 col2\" >SK_ID_CURR</th>\n",
              "    </tr>\n",
              "  </thead>\n",
              "  <tbody>\n",
              "    <tr>\n",
              "      <th id=\"T_dc56e_level0_row0\" class=\"row_heading level0 row0\" >0</th>\n",
              "      <td id=\"T_dc56e_row0_col0\" class=\"data row0 col0\" >Commercial associate</td>\n",
              "      <td id=\"T_dc56e_row0_col1\" class=\"data row0 col1\" >Default</td>\n",
              "      <td id=\"T_dc56e_row0_col2\" class=\"data row0 col2\" >1070</td>\n",
              "    </tr>\n",
              "    <tr>\n",
              "      <th id=\"T_dc56e_level0_row1\" class=\"row_heading level0 row1\" >1</th>\n",
              "      <td id=\"T_dc56e_row1_col0\" class=\"data row1 col0\" >Commercial associate</td>\n",
              "      <td id=\"T_dc56e_row1_col1\" class=\"data row1 col1\" >Non Default</td>\n",
              "      <td id=\"T_dc56e_row1_col2\" class=\"data row1 col2\" >1182</td>\n",
              "    </tr>\n",
              "    <tr>\n",
              "      <th id=\"T_dc56e_level0_row2\" class=\"row_heading level0 row2\" >2</th>\n",
              "      <td id=\"T_dc56e_row2_col0\" class=\"data row2 col0\" >Pensioner</td>\n",
              "      <td id=\"T_dc56e_row2_col1\" class=\"data row2 col1\" >Default</td>\n",
              "      <td id=\"T_dc56e_row2_col2\" class=\"data row2 col2\" >623</td>\n",
              "    </tr>\n",
              "    <tr>\n",
              "      <th id=\"T_dc56e_level0_row3\" class=\"row_heading level0 row3\" >3</th>\n",
              "      <td id=\"T_dc56e_row3_col0\" class=\"data row3 col0\" >Pensioner</td>\n",
              "      <td id=\"T_dc56e_row3_col1\" class=\"data row3 col1\" >Non Default</td>\n",
              "      <td id=\"T_dc56e_row3_col2\" class=\"data row3 col2\" >930</td>\n",
              "    </tr>\n",
              "    <tr>\n",
              "      <th id=\"T_dc56e_level0_row4\" class=\"row_heading level0 row4\" >4</th>\n",
              "      <td id=\"T_dc56e_row4_col0\" class=\"data row4 col0\" >State servant</td>\n",
              "      <td id=\"T_dc56e_row4_col1\" class=\"data row4 col1\" >Default</td>\n",
              "      <td id=\"T_dc56e_row4_col2\" class=\"data row4 col2\" >249</td>\n",
              "    </tr>\n",
              "    <tr>\n",
              "      <th id=\"T_dc56e_level0_row5\" class=\"row_heading level0 row5\" >5</th>\n",
              "      <td id=\"T_dc56e_row5_col0\" class=\"data row5 col0\" >State servant</td>\n",
              "      <td id=\"T_dc56e_row5_col1\" class=\"data row5 col1\" >Non Default</td>\n",
              "      <td id=\"T_dc56e_row5_col2\" class=\"data row5 col2\" >333</td>\n",
              "    </tr>\n",
              "    <tr>\n",
              "      <th id=\"T_dc56e_level0_row6\" class=\"row_heading level0 row6\" >6</th>\n",
              "      <td id=\"T_dc56e_row6_col0\" class=\"data row6 col0\" >Unemployed</td>\n",
              "      <td id=\"T_dc56e_row6_col1\" class=\"data row6 col1\" >Default</td>\n",
              "      <td id=\"T_dc56e_row6_col2\" class=\"data row6 col2\" >2</td>\n",
              "    </tr>\n",
              "    <tr>\n",
              "      <th id=\"T_dc56e_level0_row7\" class=\"row_heading level0 row7\" >7</th>\n",
              "      <td id=\"T_dc56e_row7_col0\" class=\"data row7 col0\" >Unemployed</td>\n",
              "      <td id=\"T_dc56e_row7_col1\" class=\"data row7 col1\" >Non Default</td>\n",
              "      <td id=\"T_dc56e_row7_col2\" class=\"data row7 col2\" >2</td>\n",
              "    </tr>\n",
              "    <tr>\n",
              "      <th id=\"T_dc56e_level0_row8\" class=\"row_heading level0 row8\" >8</th>\n",
              "      <td id=\"T_dc56e_row8_col0\" class=\"data row8 col0\" >Working</td>\n",
              "      <td id=\"T_dc56e_row8_col1\" class=\"data row8 col1\" >Default</td>\n",
              "      <td id=\"T_dc56e_row8_col2\" class=\"data row8 col2\" >3056</td>\n",
              "    </tr>\n",
              "    <tr>\n",
              "      <th id=\"T_dc56e_level0_row9\" class=\"row_heading level0 row9\" >9</th>\n",
              "      <td id=\"T_dc56e_row9_col0\" class=\"data row9 col0\" >Working</td>\n",
              "      <td id=\"T_dc56e_row9_col1\" class=\"data row9 col1\" >Non Default</td>\n",
              "      <td id=\"T_dc56e_row9_col2\" class=\"data row9 col2\" >2553</td>\n",
              "    </tr>\n",
              "  </tbody>\n",
              "</table>\n"
            ]
          },
          "metadata": {},
          "execution_count": 77
        }
      ]
    },
    {
      "cell_type": "code",
      "source": [
        "data[['NAME_INCOME_TYPE','TARGET']].groupby(['NAME_INCOME_TYPE'],as_index=False).mean().sort_values(by=['TARGET'], ascending=False)"
      ],
      "metadata": {
        "colab": {
          "base_uri": "https://localhost:8080/",
          "height": 206
        },
        "id": "axHqfx98Ajyj",
        "outputId": "f24630cd-365f-436d-d825-80e156492574"
      },
      "execution_count": 78,
      "outputs": [
        {
          "output_type": "execute_result",
          "data": {
            "text/plain": [
              "       NAME_INCOME_TYPE    TARGET\n",
              "4               Working  0.544839\n",
              "3            Unemployed  0.500000\n",
              "0  Commercial associate  0.475133\n",
              "2         State servant  0.427835\n",
              "1             Pensioner  0.401159"
            ],
            "text/html": [
              "\n",
              "  <div id=\"df-b1709943-ee7c-48d1-b761-a57f88ce820e\">\n",
              "    <div class=\"colab-df-container\">\n",
              "      <div>\n",
              "<style scoped>\n",
              "    .dataframe tbody tr th:only-of-type {\n",
              "        vertical-align: middle;\n",
              "    }\n",
              "\n",
              "    .dataframe tbody tr th {\n",
              "        vertical-align: top;\n",
              "    }\n",
              "\n",
              "    .dataframe thead th {\n",
              "        text-align: right;\n",
              "    }\n",
              "</style>\n",
              "<table border=\"1\" class=\"dataframe\">\n",
              "  <thead>\n",
              "    <tr style=\"text-align: right;\">\n",
              "      <th></th>\n",
              "      <th>NAME_INCOME_TYPE</th>\n",
              "      <th>TARGET</th>\n",
              "    </tr>\n",
              "  </thead>\n",
              "  <tbody>\n",
              "    <tr>\n",
              "      <th>4</th>\n",
              "      <td>Working</td>\n",
              "      <td>0.544839</td>\n",
              "    </tr>\n",
              "    <tr>\n",
              "      <th>3</th>\n",
              "      <td>Unemployed</td>\n",
              "      <td>0.500000</td>\n",
              "    </tr>\n",
              "    <tr>\n",
              "      <th>0</th>\n",
              "      <td>Commercial associate</td>\n",
              "      <td>0.475133</td>\n",
              "    </tr>\n",
              "    <tr>\n",
              "      <th>2</th>\n",
              "      <td>State servant</td>\n",
              "      <td>0.427835</td>\n",
              "    </tr>\n",
              "    <tr>\n",
              "      <th>1</th>\n",
              "      <td>Pensioner</td>\n",
              "      <td>0.401159</td>\n",
              "    </tr>\n",
              "  </tbody>\n",
              "</table>\n",
              "</div>\n",
              "      <button class=\"colab-df-convert\" onclick=\"convertToInteractive('df-b1709943-ee7c-48d1-b761-a57f88ce820e')\"\n",
              "              title=\"Convert this dataframe to an interactive table.\"\n",
              "              style=\"display:none;\">\n",
              "        \n",
              "  <svg xmlns=\"http://www.w3.org/2000/svg\" height=\"24px\"viewBox=\"0 0 24 24\"\n",
              "       width=\"24px\">\n",
              "    <path d=\"M0 0h24v24H0V0z\" fill=\"none\"/>\n",
              "    <path d=\"M18.56 5.44l.94 2.06.94-2.06 2.06-.94-2.06-.94-.94-2.06-.94 2.06-2.06.94zm-11 1L8.5 8.5l.94-2.06 2.06-.94-2.06-.94L8.5 2.5l-.94 2.06-2.06.94zm10 10l.94 2.06.94-2.06 2.06-.94-2.06-.94-.94-2.06-.94 2.06-2.06.94z\"/><path d=\"M17.41 7.96l-1.37-1.37c-.4-.4-.92-.59-1.43-.59-.52 0-1.04.2-1.43.59L10.3 9.45l-7.72 7.72c-.78.78-.78 2.05 0 2.83L4 21.41c.39.39.9.59 1.41.59.51 0 1.02-.2 1.41-.59l7.78-7.78 2.81-2.81c.8-.78.8-2.07 0-2.86zM5.41 20L4 18.59l7.72-7.72 1.47 1.35L5.41 20z\"/>\n",
              "  </svg>\n",
              "      </button>\n",
              "      \n",
              "  <style>\n",
              "    .colab-df-container {\n",
              "      display:flex;\n",
              "      flex-wrap:wrap;\n",
              "      gap: 12px;\n",
              "    }\n",
              "\n",
              "    .colab-df-convert {\n",
              "      background-color: #E8F0FE;\n",
              "      border: none;\n",
              "      border-radius: 50%;\n",
              "      cursor: pointer;\n",
              "      display: none;\n",
              "      fill: #1967D2;\n",
              "      height: 32px;\n",
              "      padding: 0 0 0 0;\n",
              "      width: 32px;\n",
              "    }\n",
              "\n",
              "    .colab-df-convert:hover {\n",
              "      background-color: #E2EBFA;\n",
              "      box-shadow: 0px 1px 2px rgba(60, 64, 67, 0.3), 0px 1px 3px 1px rgba(60, 64, 67, 0.15);\n",
              "      fill: #174EA6;\n",
              "    }\n",
              "\n",
              "    [theme=dark] .colab-df-convert {\n",
              "      background-color: #3B4455;\n",
              "      fill: #D2E3FC;\n",
              "    }\n",
              "\n",
              "    [theme=dark] .colab-df-convert:hover {\n",
              "      background-color: #434B5C;\n",
              "      box-shadow: 0px 1px 3px 1px rgba(0, 0, 0, 0.15);\n",
              "      filter: drop-shadow(0px 1px 2px rgba(0, 0, 0, 0.3));\n",
              "      fill: #FFFFFF;\n",
              "    }\n",
              "  </style>\n",
              "\n",
              "      <script>\n",
              "        const buttonEl =\n",
              "          document.querySelector('#df-b1709943-ee7c-48d1-b761-a57f88ce820e button.colab-df-convert');\n",
              "        buttonEl.style.display =\n",
              "          google.colab.kernel.accessAllowed ? 'block' : 'none';\n",
              "\n",
              "        async function convertToInteractive(key) {\n",
              "          const element = document.querySelector('#df-b1709943-ee7c-48d1-b761-a57f88ce820e');\n",
              "          const dataTable =\n",
              "            await google.colab.kernel.invokeFunction('convertToInteractive',\n",
              "                                                     [key], {});\n",
              "          if (!dataTable) return;\n",
              "\n",
              "          const docLinkHtml = 'Like what you see? Visit the ' +\n",
              "            '<a target=\"_blank\" href=https://colab.research.google.com/notebooks/data_table.ipynb>data table notebook</a>'\n",
              "            + ' to learn more about interactive tables.';\n",
              "          element.innerHTML = '';\n",
              "          dataTable['output_type'] = 'display_data';\n",
              "          await google.colab.output.renderOutput(dataTable, element);\n",
              "          const docLink = document.createElement('div');\n",
              "          docLink.innerHTML = docLinkHtml;\n",
              "          element.appendChild(docLink);\n",
              "        }\n",
              "      </script>\n",
              "    </div>\n",
              "  </div>\n",
              "  "
            ]
          },
          "metadata": {},
          "execution_count": 78
        }
      ]
    },
    {
      "cell_type": "markdown",
      "source": [
        "Dapat dilihat bahwa nasabah dengan tipe pendapatan bekerja telah mengajukan mayoritas pinjaman yang lebih besar, yaitu sekitar 158.774 pengajuan pinjaman.\n",
        "\n",
        "Nasabah dengan tipe pendapatan pengusaha dan pelajar tidak mengalami kesulitan dalam membayar pinjaman mereka.\n",
        "\n",
        "Sedangkan nasabah dengan jenis pendapatan cuti melahirkan dan tidak bekerja memiliki persentase tertinggi (sekitar 40% dan 36%) TARGET = 1, yaitu mengalami kesulitan dalam melunasi pinjaman.\n",
        "\n",
        "Translated with www.DeepL.com/Translator (free version)"
      ],
      "metadata": {
        "id": "maNw0y0vAuvI"
      }
    },
    {
      "cell_type": "markdown",
      "source": [
        "Education Type Vs Target"
      ],
      "metadata": {
        "id": "0PNzzPxlBAPp"
      }
    },
    {
      "cell_type": "code",
      "source": [
        "et = df.groupby(by=['NAME_EDUCATION_TYPE','TARGET'], as_index=False)['SK_ID_CURR'].count()\n",
        "print('Clients Repayment Abilities By Education Type')\n",
        "et.sort_values(by='SK_ID_CURR', ascending=False)\n",
        "et.style.background_gradient(cmap='Blues')"
      ],
      "metadata": {
        "colab": {
          "base_uri": "https://localhost:8080/",
          "height": 380
        },
        "id": "v9OEp5jVBA8D",
        "outputId": "d82787b6-fed9-42d3-8d9c-f786e9075cc1"
      },
      "execution_count": 79,
      "outputs": [
        {
          "output_type": "stream",
          "name": "stdout",
          "text": [
            "Clients Repayment Abilities By Education Type\n"
          ]
        },
        {
          "output_type": "execute_result",
          "data": {
            "text/plain": [
              "<pandas.io.formats.style.Styler at 0x7f316f6b9520>"
            ],
            "text/html": [
              "<style type=\"text/css\">\n",
              "#T_f7997_row0_col2, #T_f7997_row1_col2 {\n",
              "  background-color: #f7fbff;\n",
              "  color: #000000;\n",
              "}\n",
              "#T_f7997_row2_col2 {\n",
              "  background-color: #d0e2f2;\n",
              "  color: #000000;\n",
              "}\n",
              "#T_f7997_row3_col2 {\n",
              "  background-color: #b2d2e8;\n",
              "  color: #000000;\n",
              "}\n",
              "#T_f7997_row4_col2, #T_f7997_row5_col2 {\n",
              "  background-color: #eff6fc;\n",
              "  color: #000000;\n",
              "}\n",
              "#T_f7997_row6_col2 {\n",
              "  background-color: #f3f8fe;\n",
              "  color: #000000;\n",
              "}\n",
              "#T_f7997_row7_col2 {\n",
              "  background-color: #f5f9fe;\n",
              "  color: #000000;\n",
              "}\n",
              "#T_f7997_row8_col2 {\n",
              "  background-color: #08306b;\n",
              "  color: #f1f1f1;\n",
              "}\n",
              "#T_f7997_row9_col2 {\n",
              "  background-color: #084d96;\n",
              "  color: #f1f1f1;\n",
              "}\n",
              "</style>\n",
              "<table id=\"T_f7997_\" class=\"dataframe\">\n",
              "  <thead>\n",
              "    <tr>\n",
              "      <th class=\"blank level0\" >&nbsp;</th>\n",
              "      <th class=\"col_heading level0 col0\" >NAME_EDUCATION_TYPE</th>\n",
              "      <th class=\"col_heading level0 col1\" >TARGET</th>\n",
              "      <th class=\"col_heading level0 col2\" >SK_ID_CURR</th>\n",
              "    </tr>\n",
              "  </thead>\n",
              "  <tbody>\n",
              "    <tr>\n",
              "      <th id=\"T_f7997_level0_row0\" class=\"row_heading level0 row0\" >0</th>\n",
              "      <td id=\"T_f7997_row0_col0\" class=\"data row0 col0\" >Academic degree</td>\n",
              "      <td id=\"T_f7997_row0_col1\" class=\"data row0 col1\" >Default</td>\n",
              "      <td id=\"T_f7997_row0_col2\" class=\"data row0 col2\" >1</td>\n",
              "    </tr>\n",
              "    <tr>\n",
              "      <th id=\"T_f7997_level0_row1\" class=\"row_heading level0 row1\" >1</th>\n",
              "      <td id=\"T_f7997_row1_col0\" class=\"data row1 col0\" >Academic degree</td>\n",
              "      <td id=\"T_f7997_row1_col1\" class=\"data row1 col1\" >Non Default</td>\n",
              "      <td id=\"T_f7997_row1_col2\" class=\"data row1 col2\" >7</td>\n",
              "    </tr>\n",
              "    <tr>\n",
              "      <th id=\"T_f7997_level0_row2\" class=\"row_heading level0 row2\" >2</th>\n",
              "      <td id=\"T_f7997_row2_col0\" class=\"data row2 col0\" >Higher education</td>\n",
              "      <td id=\"T_f7997_row2_col1\" class=\"data row2 col1\" >Default</td>\n",
              "      <td id=\"T_f7997_row2_col2\" class=\"data row2 col2\" >780</td>\n",
              "    </tr>\n",
              "    <tr>\n",
              "      <th id=\"T_f7997_level0_row3\" class=\"row_heading level0 row3\" >3</th>\n",
              "      <td id=\"T_f7997_row3_col0\" class=\"data row3 col0\" >Higher education</td>\n",
              "      <td id=\"T_f7997_row3_col1\" class=\"data row3 col1\" >Non Default</td>\n",
              "      <td id=\"T_f7997_row3_col2\" class=\"data row3 col2\" >1248</td>\n",
              "    </tr>\n",
              "    <tr>\n",
              "      <th id=\"T_f7997_level0_row4\" class=\"row_heading level0 row4\" >4</th>\n",
              "      <td id=\"T_f7997_row4_col0\" class=\"data row4 col0\" >Incomplete higher</td>\n",
              "      <td id=\"T_f7997_row4_col1\" class=\"data row4 col1\" >Default</td>\n",
              "      <td id=\"T_f7997_row4_col2\" class=\"data row4 col2\" >163</td>\n",
              "    </tr>\n",
              "    <tr>\n",
              "      <th id=\"T_f7997_level0_row5\" class=\"row_heading level0 row5\" >5</th>\n",
              "      <td id=\"T_f7997_row5_col0\" class=\"data row5 col0\" >Incomplete higher</td>\n",
              "      <td id=\"T_f7997_row5_col1\" class=\"data row5 col1\" >Non Default</td>\n",
              "      <td id=\"T_f7997_row5_col2\" class=\"data row5 col2\" >158</td>\n",
              "    </tr>\n",
              "    <tr>\n",
              "      <th id=\"T_f7997_level0_row6\" class=\"row_heading level0 row6\" >6</th>\n",
              "      <td id=\"T_f7997_row6_col0\" class=\"data row6 col0\" >Lower secondary</td>\n",
              "      <td id=\"T_f7997_row6_col1\" class=\"data row6 col1\" >Default</td>\n",
              "      <td id=\"T_f7997_row6_col2\" class=\"data row6 col2\" >86</td>\n",
              "    </tr>\n",
              "    <tr>\n",
              "      <th id=\"T_f7997_level0_row7\" class=\"row_heading level0 row7\" >7</th>\n",
              "      <td id=\"T_f7997_row7_col0\" class=\"data row7 col0\" >Lower secondary</td>\n",
              "      <td id=\"T_f7997_row7_col1\" class=\"data row7 col1\" >Non Default</td>\n",
              "      <td id=\"T_f7997_row7_col2\" class=\"data row7 col2\" >57</td>\n",
              "    </tr>\n",
              "    <tr>\n",
              "      <th id=\"T_f7997_level0_row8\" class=\"row_heading level0 row8\" >8</th>\n",
              "      <td id=\"T_f7997_row8_col0\" class=\"data row8 col0\" >Secondary / secondary special</td>\n",
              "      <td id=\"T_f7997_row8_col1\" class=\"data row8 col1\" >Default</td>\n",
              "      <td id=\"T_f7997_row8_col2\" class=\"data row8 col2\" >3970</td>\n",
              "    </tr>\n",
              "    <tr>\n",
              "      <th id=\"T_f7997_level0_row9\" class=\"row_heading level0 row9\" >9</th>\n",
              "      <td id=\"T_f7997_row9_col0\" class=\"data row9 col0\" >Secondary / secondary special</td>\n",
              "      <td id=\"T_f7997_row9_col1\" class=\"data row9 col1\" >Non Default</td>\n",
              "      <td id=\"T_f7997_row9_col2\" class=\"data row9 col2\" >3530</td>\n",
              "    </tr>\n",
              "  </tbody>\n",
              "</table>\n"
            ]
          },
          "metadata": {},
          "execution_count": 79
        }
      ]
    },
    {
      "cell_type": "code",
      "source": [
        "data[['NAME_EDUCATION_TYPE','TARGET']].groupby(['NAME_EDUCATION_TYPE'],as_index=False).mean().sort_values(by=['TARGET'], ascending=False)"
      ],
      "metadata": {
        "colab": {
          "base_uri": "https://localhost:8080/",
          "height": 206
        },
        "id": "5EU5wJ-WBG5J",
        "outputId": "cca1835f-77f2-4bf6-ecb8-47c984c467a2"
      },
      "execution_count": 80,
      "outputs": [
        {
          "output_type": "execute_result",
          "data": {
            "text/plain": [
              "             NAME_EDUCATION_TYPE    TARGET\n",
              "3                Lower secondary  0.601399\n",
              "4  Secondary / secondary special  0.529333\n",
              "2              Incomplete higher  0.507788\n",
              "1               Higher education  0.384615\n",
              "0                Academic degree  0.125000"
            ],
            "text/html": [
              "\n",
              "  <div id=\"df-2ca3b5a5-97d3-49a7-ab00-fef6a0e88c33\">\n",
              "    <div class=\"colab-df-container\">\n",
              "      <div>\n",
              "<style scoped>\n",
              "    .dataframe tbody tr th:only-of-type {\n",
              "        vertical-align: middle;\n",
              "    }\n",
              "\n",
              "    .dataframe tbody tr th {\n",
              "        vertical-align: top;\n",
              "    }\n",
              "\n",
              "    .dataframe thead th {\n",
              "        text-align: right;\n",
              "    }\n",
              "</style>\n",
              "<table border=\"1\" class=\"dataframe\">\n",
              "  <thead>\n",
              "    <tr style=\"text-align: right;\">\n",
              "      <th></th>\n",
              "      <th>NAME_EDUCATION_TYPE</th>\n",
              "      <th>TARGET</th>\n",
              "    </tr>\n",
              "  </thead>\n",
              "  <tbody>\n",
              "    <tr>\n",
              "      <th>3</th>\n",
              "      <td>Lower secondary</td>\n",
              "      <td>0.601399</td>\n",
              "    </tr>\n",
              "    <tr>\n",
              "      <th>4</th>\n",
              "      <td>Secondary / secondary special</td>\n",
              "      <td>0.529333</td>\n",
              "    </tr>\n",
              "    <tr>\n",
              "      <th>2</th>\n",
              "      <td>Incomplete higher</td>\n",
              "      <td>0.507788</td>\n",
              "    </tr>\n",
              "    <tr>\n",
              "      <th>1</th>\n",
              "      <td>Higher education</td>\n",
              "      <td>0.384615</td>\n",
              "    </tr>\n",
              "    <tr>\n",
              "      <th>0</th>\n",
              "      <td>Academic degree</td>\n",
              "      <td>0.125000</td>\n",
              "    </tr>\n",
              "  </tbody>\n",
              "</table>\n",
              "</div>\n",
              "      <button class=\"colab-df-convert\" onclick=\"convertToInteractive('df-2ca3b5a5-97d3-49a7-ab00-fef6a0e88c33')\"\n",
              "              title=\"Convert this dataframe to an interactive table.\"\n",
              "              style=\"display:none;\">\n",
              "        \n",
              "  <svg xmlns=\"http://www.w3.org/2000/svg\" height=\"24px\"viewBox=\"0 0 24 24\"\n",
              "       width=\"24px\">\n",
              "    <path d=\"M0 0h24v24H0V0z\" fill=\"none\"/>\n",
              "    <path d=\"M18.56 5.44l.94 2.06.94-2.06 2.06-.94-2.06-.94-.94-2.06-.94 2.06-2.06.94zm-11 1L8.5 8.5l.94-2.06 2.06-.94-2.06-.94L8.5 2.5l-.94 2.06-2.06.94zm10 10l.94 2.06.94-2.06 2.06-.94-2.06-.94-.94-2.06-.94 2.06-2.06.94z\"/><path d=\"M17.41 7.96l-1.37-1.37c-.4-.4-.92-.59-1.43-.59-.52 0-1.04.2-1.43.59L10.3 9.45l-7.72 7.72c-.78.78-.78 2.05 0 2.83L4 21.41c.39.39.9.59 1.41.59.51 0 1.02-.2 1.41-.59l7.78-7.78 2.81-2.81c.8-.78.8-2.07 0-2.86zM5.41 20L4 18.59l7.72-7.72 1.47 1.35L5.41 20z\"/>\n",
              "  </svg>\n",
              "      </button>\n",
              "      \n",
              "  <style>\n",
              "    .colab-df-container {\n",
              "      display:flex;\n",
              "      flex-wrap:wrap;\n",
              "      gap: 12px;\n",
              "    }\n",
              "\n",
              "    .colab-df-convert {\n",
              "      background-color: #E8F0FE;\n",
              "      border: none;\n",
              "      border-radius: 50%;\n",
              "      cursor: pointer;\n",
              "      display: none;\n",
              "      fill: #1967D2;\n",
              "      height: 32px;\n",
              "      padding: 0 0 0 0;\n",
              "      width: 32px;\n",
              "    }\n",
              "\n",
              "    .colab-df-convert:hover {\n",
              "      background-color: #E2EBFA;\n",
              "      box-shadow: 0px 1px 2px rgba(60, 64, 67, 0.3), 0px 1px 3px 1px rgba(60, 64, 67, 0.15);\n",
              "      fill: #174EA6;\n",
              "    }\n",
              "\n",
              "    [theme=dark] .colab-df-convert {\n",
              "      background-color: #3B4455;\n",
              "      fill: #D2E3FC;\n",
              "    }\n",
              "\n",
              "    [theme=dark] .colab-df-convert:hover {\n",
              "      background-color: #434B5C;\n",
              "      box-shadow: 0px 1px 3px 1px rgba(0, 0, 0, 0.15);\n",
              "      filter: drop-shadow(0px 1px 2px rgba(0, 0, 0, 0.3));\n",
              "      fill: #FFFFFF;\n",
              "    }\n",
              "  </style>\n",
              "\n",
              "      <script>\n",
              "        const buttonEl =\n",
              "          document.querySelector('#df-2ca3b5a5-97d3-49a7-ab00-fef6a0e88c33 button.colab-df-convert');\n",
              "        buttonEl.style.display =\n",
              "          google.colab.kernel.accessAllowed ? 'block' : 'none';\n",
              "\n",
              "        async function convertToInteractive(key) {\n",
              "          const element = document.querySelector('#df-2ca3b5a5-97d3-49a7-ab00-fef6a0e88c33');\n",
              "          const dataTable =\n",
              "            await google.colab.kernel.invokeFunction('convertToInteractive',\n",
              "                                                     [key], {});\n",
              "          if (!dataTable) return;\n",
              "\n",
              "          const docLinkHtml = 'Like what you see? Visit the ' +\n",
              "            '<a target=\"_blank\" href=https://colab.research.google.com/notebooks/data_table.ipynb>data table notebook</a>'\n",
              "            + ' to learn more about interactive tables.';\n",
              "          element.innerHTML = '';\n",
              "          dataTable['output_type'] = 'display_data';\n",
              "          await google.colab.output.renderOutput(dataTable, element);\n",
              "          const docLink = document.createElement('div');\n",
              "          docLink.innerHTML = docLinkHtml;\n",
              "          element.appendChild(docLink);\n",
              "        }\n",
              "      </script>\n",
              "    </div>\n",
              "  </div>\n",
              "  "
            ]
          },
          "metadata": {},
          "execution_count": 80
        }
      ]
    },
    {
      "cell_type": "markdown",
      "source": [
        "Sejumlah besar aplikasi (218 ribu) diajukan oleh nasabah yang memiliki pendidikan menengah, diikuti oleh nasabah dengan pendidikan tinggi dengan 75 ribu aplikasi.\n",
        "\n",
        "Sementara itu, dapat dilihat bahwa nasabah dengan jenis pendidikan menengah ke bawah memiliki persentase tertinggi (sekitar 10%) dari TARGET = 1, yaitu mengalami masalah dalam membayar pinjaman."
      ],
      "metadata": {
        "id": "wpA3znYrBSaQ"
      }
    },
    {
      "cell_type": "markdown",
      "source": [
        "Family Status Vs Target"
      ],
      "metadata": {
        "id": "niXyxZGRBU0o"
      }
    },
    {
      "cell_type": "code",
      "source": [
        "ft = df.groupby(by=['NAME_FAMILY_STATUS','TARGET'], as_index=False)['SK_ID_CURR'].count()\n",
        "print('Clients Repayment Abilities By Family Status')\n",
        "ft.sort_values(by='SK_ID_CURR', ascending=False)\n",
        "ft.style.background_gradient(cmap='Blues')"
      ],
      "metadata": {
        "colab": {
          "base_uri": "https://localhost:8080/",
          "height": 380
        },
        "id": "G47YCTUEBXDB",
        "outputId": "8f43c16c-6ffc-42b5-ae92-7c43125fb0d9"
      },
      "execution_count": 82,
      "outputs": [
        {
          "output_type": "stream",
          "name": "stdout",
          "text": [
            "Clients Repayment Abilities By Family Status\n"
          ]
        },
        {
          "output_type": "execute_result",
          "data": {
            "text/plain": [
              "<pandas.io.formats.style.Styler at 0x7f31710764c0>"
            ],
            "text/html": [
              "<style type=\"text/css\">\n",
              "#T_f42c9_row0_col2 {\n",
              "  background-color: #dbe9f6;\n",
              "  color: #000000;\n",
              "}\n",
              "#T_f42c9_row1_col2 {\n",
              "  background-color: #e7f0fa;\n",
              "  color: #000000;\n",
              "}\n",
              "#T_f42c9_row2_col2 {\n",
              "  background-color: #08478d;\n",
              "  color: #f1f1f1;\n",
              "}\n",
              "#T_f42c9_row3_col2 {\n",
              "  background-color: #08306b;\n",
              "  color: #f1f1f1;\n",
              "}\n",
              "#T_f42c9_row4_col2 {\n",
              "  background-color: #eef5fc;\n",
              "  color: #000000;\n",
              "}\n",
              "#T_f42c9_row5_col2 {\n",
              "  background-color: #eff6fc;\n",
              "  color: #000000;\n",
              "}\n",
              "#T_f42c9_row6_col2 {\n",
              "  background-color: #caddf0;\n",
              "  color: #000000;\n",
              "}\n",
              "#T_f42c9_row7_col2 {\n",
              "  background-color: #d4e4f4;\n",
              "  color: #000000;\n",
              "}\n",
              "#T_f42c9_row8_col2 {\n",
              "  background-color: #f7fbff;\n",
              "  color: #000000;\n",
              "}\n",
              "#T_f42c9_row9_col2 {\n",
              "  background-color: #f2f7fd;\n",
              "  color: #000000;\n",
              "}\n",
              "</style>\n",
              "<table id=\"T_f42c9_\" class=\"dataframe\">\n",
              "  <thead>\n",
              "    <tr>\n",
              "      <th class=\"blank level0\" >&nbsp;</th>\n",
              "      <th class=\"col_heading level0 col0\" >NAME_FAMILY_STATUS</th>\n",
              "      <th class=\"col_heading level0 col1\" >TARGET</th>\n",
              "      <th class=\"col_heading level0 col2\" >SK_ID_CURR</th>\n",
              "    </tr>\n",
              "  </thead>\n",
              "  <tbody>\n",
              "    <tr>\n",
              "      <th id=\"T_f42c9_level0_row0\" class=\"row_heading level0 row0\" >0</th>\n",
              "      <td id=\"T_f42c9_row0_col0\" class=\"data row0 col0\" >Civil marriage</td>\n",
              "      <td id=\"T_f42c9_row0_col1\" class=\"data row0 col1\" >Default</td>\n",
              "      <td id=\"T_f42c9_row0_col2\" class=\"data row0 col2\" >619</td>\n",
              "    </tr>\n",
              "    <tr>\n",
              "      <th id=\"T_f42c9_level0_row1\" class=\"row_heading level0 row1\" >1</th>\n",
              "      <td id=\"T_f42c9_row1_col0\" class=\"data row1 col0\" >Civil marriage</td>\n",
              "      <td id=\"T_f42c9_row1_col1\" class=\"data row1 col1\" >Non Default</td>\n",
              "      <td id=\"T_f42c9_row1_col2\" class=\"data row1 col2\" >448</td>\n",
              "    </tr>\n",
              "    <tr>\n",
              "      <th id=\"T_f42c9_level0_row2\" class=\"row_heading level0 row2\" >2</th>\n",
              "      <td id=\"T_f42c9_row2_col0\" class=\"data row2 col0\" >Married</td>\n",
              "      <td id=\"T_f42c9_row2_col1\" class=\"data row2 col1\" >Default</td>\n",
              "      <td id=\"T_f42c9_row2_col2\" class=\"data row2 col2\" >2957</td>\n",
              "    </tr>\n",
              "    <tr>\n",
              "      <th id=\"T_f42c9_level0_row3\" class=\"row_heading level0 row3\" >3</th>\n",
              "      <td id=\"T_f42c9_row3_col0\" class=\"data row3 col0\" >Married</td>\n",
              "      <td id=\"T_f42c9_row3_col1\" class=\"data row3 col1\" >Non Default</td>\n",
              "      <td id=\"T_f42c9_row3_col2\" class=\"data row3 col2\" >3224</td>\n",
              "    </tr>\n",
              "    <tr>\n",
              "      <th id=\"T_f42c9_level0_row4\" class=\"row_heading level0 row4\" >4</th>\n",
              "      <td id=\"T_f42c9_row4_col0\" class=\"data row4 col0\" >Separated</td>\n",
              "      <td id=\"T_f42c9_row4_col1\" class=\"data row4 col1\" >Default</td>\n",
              "      <td id=\"T_f42c9_row4_col2\" class=\"data row4 col2\" >341</td>\n",
              "    </tr>\n",
              "    <tr>\n",
              "      <th id=\"T_f42c9_level0_row5\" class=\"row_heading level0 row5\" >5</th>\n",
              "      <td id=\"T_f42c9_row5_col0\" class=\"data row5 col0\" >Separated</td>\n",
              "      <td id=\"T_f42c9_row5_col1\" class=\"data row5 col1\" >Non Default</td>\n",
              "      <td id=\"T_f42c9_row5_col2\" class=\"data row5 col2\" >312</td>\n",
              "    </tr>\n",
              "    <tr>\n",
              "      <th id=\"T_f42c9_level0_row6\" class=\"row_heading level0 row6\" >6</th>\n",
              "      <td id=\"T_f42c9_row6_col0\" class=\"data row6 col0\" >Single / not married</td>\n",
              "      <td id=\"T_f42c9_row6_col1\" class=\"data row6 col1\" >Default</td>\n",
              "      <td id=\"T_f42c9_row6_col2\" class=\"data row6 col2\" >892</td>\n",
              "    </tr>\n",
              "    <tr>\n",
              "      <th id=\"T_f42c9_level0_row7\" class=\"row_heading level0 row7\" >7</th>\n",
              "      <td id=\"T_f42c9_row7_col0\" class=\"data row7 col0\" >Single / not married</td>\n",
              "      <td id=\"T_f42c9_row7_col1\" class=\"data row7 col1\" >Non Default</td>\n",
              "      <td id=\"T_f42c9_row7_col2\" class=\"data row7 col2\" >731</td>\n",
              "    </tr>\n",
              "    <tr>\n",
              "      <th id=\"T_f42c9_level0_row8\" class=\"row_heading level0 row8\" >8</th>\n",
              "      <td id=\"T_f42c9_row8_col0\" class=\"data row8 col0\" >Widow</td>\n",
              "      <td id=\"T_f42c9_row8_col1\" class=\"data row8 col1\" >Default</td>\n",
              "      <td id=\"T_f42c9_row8_col2\" class=\"data row8 col2\" >191</td>\n",
              "    </tr>\n",
              "    <tr>\n",
              "      <th id=\"T_f42c9_level0_row9\" class=\"row_heading level0 row9\" >9</th>\n",
              "      <td id=\"T_f42c9_row9_col0\" class=\"data row9 col0\" >Widow</td>\n",
              "      <td id=\"T_f42c9_row9_col1\" class=\"data row9 col1\" >Non Default</td>\n",
              "      <td id=\"T_f42c9_row9_col2\" class=\"data row9 col2\" >285</td>\n",
              "    </tr>\n",
              "  </tbody>\n",
              "</table>\n"
            ]
          },
          "metadata": {},
          "execution_count": 82
        }
      ]
    },
    {
      "cell_type": "code",
      "source": [
        "data[['NAME_FAMILY_STATUS','TARGET']].groupby(['NAME_FAMILY_STATUS'],as_index=False).mean().sort_values(by=['TARGET'], ascending=False)"
      ],
      "metadata": {
        "colab": {
          "base_uri": "https://localhost:8080/",
          "height": 206
        },
        "id": "T5EZtHP8Blky",
        "outputId": "595e476a-0eaa-49f7-ec92-a642527946a9"
      },
      "execution_count": 83,
      "outputs": [
        {
          "output_type": "execute_result",
          "data": {
            "text/plain": [
              "     NAME_FAMILY_STATUS    TARGET\n",
              "0        Civil marriage  0.580131\n",
              "3  Single / not married  0.549600\n",
              "2             Separated  0.522205\n",
              "1               Married  0.478402\n",
              "4                 Widow  0.401261"
            ],
            "text/html": [
              "\n",
              "  <div id=\"df-5b11d42f-ecc2-4c9d-aa24-785cd0de5fdf\">\n",
              "    <div class=\"colab-df-container\">\n",
              "      <div>\n",
              "<style scoped>\n",
              "    .dataframe tbody tr th:only-of-type {\n",
              "        vertical-align: middle;\n",
              "    }\n",
              "\n",
              "    .dataframe tbody tr th {\n",
              "        vertical-align: top;\n",
              "    }\n",
              "\n",
              "    .dataframe thead th {\n",
              "        text-align: right;\n",
              "    }\n",
              "</style>\n",
              "<table border=\"1\" class=\"dataframe\">\n",
              "  <thead>\n",
              "    <tr style=\"text-align: right;\">\n",
              "      <th></th>\n",
              "      <th>NAME_FAMILY_STATUS</th>\n",
              "      <th>TARGET</th>\n",
              "    </tr>\n",
              "  </thead>\n",
              "  <tbody>\n",
              "    <tr>\n",
              "      <th>0</th>\n",
              "      <td>Civil marriage</td>\n",
              "      <td>0.580131</td>\n",
              "    </tr>\n",
              "    <tr>\n",
              "      <th>3</th>\n",
              "      <td>Single / not married</td>\n",
              "      <td>0.549600</td>\n",
              "    </tr>\n",
              "    <tr>\n",
              "      <th>2</th>\n",
              "      <td>Separated</td>\n",
              "      <td>0.522205</td>\n",
              "    </tr>\n",
              "    <tr>\n",
              "      <th>1</th>\n",
              "      <td>Married</td>\n",
              "      <td>0.478402</td>\n",
              "    </tr>\n",
              "    <tr>\n",
              "      <th>4</th>\n",
              "      <td>Widow</td>\n",
              "      <td>0.401261</td>\n",
              "    </tr>\n",
              "  </tbody>\n",
              "</table>\n",
              "</div>\n",
              "      <button class=\"colab-df-convert\" onclick=\"convertToInteractive('df-5b11d42f-ecc2-4c9d-aa24-785cd0de5fdf')\"\n",
              "              title=\"Convert this dataframe to an interactive table.\"\n",
              "              style=\"display:none;\">\n",
              "        \n",
              "  <svg xmlns=\"http://www.w3.org/2000/svg\" height=\"24px\"viewBox=\"0 0 24 24\"\n",
              "       width=\"24px\">\n",
              "    <path d=\"M0 0h24v24H0V0z\" fill=\"none\"/>\n",
              "    <path d=\"M18.56 5.44l.94 2.06.94-2.06 2.06-.94-2.06-.94-.94-2.06-.94 2.06-2.06.94zm-11 1L8.5 8.5l.94-2.06 2.06-.94-2.06-.94L8.5 2.5l-.94 2.06-2.06.94zm10 10l.94 2.06.94-2.06 2.06-.94-2.06-.94-.94-2.06-.94 2.06-2.06.94z\"/><path d=\"M17.41 7.96l-1.37-1.37c-.4-.4-.92-.59-1.43-.59-.52 0-1.04.2-1.43.59L10.3 9.45l-7.72 7.72c-.78.78-.78 2.05 0 2.83L4 21.41c.39.39.9.59 1.41.59.51 0 1.02-.2 1.41-.59l7.78-7.78 2.81-2.81c.8-.78.8-2.07 0-2.86zM5.41 20L4 18.59l7.72-7.72 1.47 1.35L5.41 20z\"/>\n",
              "  </svg>\n",
              "      </button>\n",
              "      \n",
              "  <style>\n",
              "    .colab-df-container {\n",
              "      display:flex;\n",
              "      flex-wrap:wrap;\n",
              "      gap: 12px;\n",
              "    }\n",
              "\n",
              "    .colab-df-convert {\n",
              "      background-color: #E8F0FE;\n",
              "      border: none;\n",
              "      border-radius: 50%;\n",
              "      cursor: pointer;\n",
              "      display: none;\n",
              "      fill: #1967D2;\n",
              "      height: 32px;\n",
              "      padding: 0 0 0 0;\n",
              "      width: 32px;\n",
              "    }\n",
              "\n",
              "    .colab-df-convert:hover {\n",
              "      background-color: #E2EBFA;\n",
              "      box-shadow: 0px 1px 2px rgba(60, 64, 67, 0.3), 0px 1px 3px 1px rgba(60, 64, 67, 0.15);\n",
              "      fill: #174EA6;\n",
              "    }\n",
              "\n",
              "    [theme=dark] .colab-df-convert {\n",
              "      background-color: #3B4455;\n",
              "      fill: #D2E3FC;\n",
              "    }\n",
              "\n",
              "    [theme=dark] .colab-df-convert:hover {\n",
              "      background-color: #434B5C;\n",
              "      box-shadow: 0px 1px 3px 1px rgba(0, 0, 0, 0.15);\n",
              "      filter: drop-shadow(0px 1px 2px rgba(0, 0, 0, 0.3));\n",
              "      fill: #FFFFFF;\n",
              "    }\n",
              "  </style>\n",
              "\n",
              "      <script>\n",
              "        const buttonEl =\n",
              "          document.querySelector('#df-5b11d42f-ecc2-4c9d-aa24-785cd0de5fdf button.colab-df-convert');\n",
              "        buttonEl.style.display =\n",
              "          google.colab.kernel.accessAllowed ? 'block' : 'none';\n",
              "\n",
              "        async function convertToInteractive(key) {\n",
              "          const element = document.querySelector('#df-5b11d42f-ecc2-4c9d-aa24-785cd0de5fdf');\n",
              "          const dataTable =\n",
              "            await google.colab.kernel.invokeFunction('convertToInteractive',\n",
              "                                                     [key], {});\n",
              "          if (!dataTable) return;\n",
              "\n",
              "          const docLinkHtml = 'Like what you see? Visit the ' +\n",
              "            '<a target=\"_blank\" href=https://colab.research.google.com/notebooks/data_table.ipynb>data table notebook</a>'\n",
              "            + ' to learn more about interactive tables.';\n",
              "          element.innerHTML = '';\n",
              "          dataTable['output_type'] = 'display_data';\n",
              "          await google.colab.output.renderOutput(dataTable, element);\n",
              "          const docLink = document.createElement('div');\n",
              "          docLink.innerHTML = docLinkHtml;\n",
              "          element.appendChild(docLink);\n",
              "        }\n",
              "      </script>\n",
              "    </div>\n",
              "  </div>\n",
              "  "
            ]
          },
          "metadata": {},
          "execution_count": 83
        }
      ]
    },
    {
      "cell_type": "markdown",
      "source": [
        "Terlihat bahwa nasabah yang sudah menikah lebih banyak mengajukan pinjaman, yaitu sekitar 196.432 pengajuan pinjaman.\n",
        "\n",
        "Nasabah dengan status keluarga kawin dan lajang memiliki persentase tertinggi (sekitar 9%) dari nasabah yang mengalami masalah dalam pengembalian pinjaman."
      ],
      "metadata": {
        "id": "R9mRZDHMBtfY"
      }
    },
    {
      "cell_type": "markdown",
      "source": [
        "Housing Type, Occupation Type, Process Day, and Organization Type"
      ],
      "metadata": {
        "id": "Pleu1RzEByJy"
      }
    },
    {
      "cell_type": "markdown",
      "source": [
        "Housing Type vs Target"
      ],
      "metadata": {
        "id": "6laqWJelBzlo"
      }
    },
    {
      "cell_type": "code",
      "source": [
        "ht = df.groupby(by=['NAME_HOUSING_TYPE','TARGET'], as_index=False)['SK_ID_CURR'].count()\n",
        "print('Clients Repayment Abilities By Housing Type')\n",
        "ht.sort_values(by='SK_ID_CURR', ascending=False)\n",
        "ht.style.background_gradient(cmap='Blues')"
      ],
      "metadata": {
        "colab": {
          "base_uri": "https://localhost:8080/",
          "height": 443
        },
        "id": "Q8y0dGrnBy8y",
        "outputId": "fa2e3246-e0c1-49aa-ac0a-6569a2fa5944"
      },
      "execution_count": 84,
      "outputs": [
        {
          "output_type": "stream",
          "name": "stdout",
          "text": [
            "Clients Repayment Abilities By Housing Type\n"
          ]
        },
        {
          "output_type": "execute_result",
          "data": {
            "text/plain": [
              "<pandas.io.formats.style.Styler at 0x7f316f6d79d0>"
            ],
            "text/html": [
              "<style type=\"text/css\">\n",
              "#T_9b3be_row0_col2, #T_9b3be_row1_col2 {\n",
              "  background-color: #f7fbff;\n",
              "  color: #000000;\n",
              "}\n",
              "#T_9b3be_row2_col2 {\n",
              "  background-color: #083674;\n",
              "  color: #f1f1f1;\n",
              "}\n",
              "#T_9b3be_row3_col2 {\n",
              "  background-color: #08306b;\n",
              "  color: #f1f1f1;\n",
              "}\n",
              "#T_9b3be_row4_col2 {\n",
              "  background-color: #f0f6fd;\n",
              "  color: #000000;\n",
              "}\n",
              "#T_9b3be_row5_col2 {\n",
              "  background-color: #eff6fc;\n",
              "  color: #000000;\n",
              "}\n",
              "#T_9b3be_row6_col2, #T_9b3be_row7_col2 {\n",
              "  background-color: #f6faff;\n",
              "  color: #000000;\n",
              "}\n",
              "#T_9b3be_row8_col2 {\n",
              "  background-color: #f3f8fe;\n",
              "  color: #000000;\n",
              "}\n",
              "#T_9b3be_row9_col2 {\n",
              "  background-color: #f5f9fe;\n",
              "  color: #000000;\n",
              "}\n",
              "#T_9b3be_row10_col2 {\n",
              "  background-color: #e9f2fa;\n",
              "  color: #000000;\n",
              "}\n",
              "#T_9b3be_row11_col2 {\n",
              "  background-color: #eef5fc;\n",
              "  color: #000000;\n",
              "}\n",
              "</style>\n",
              "<table id=\"T_9b3be_\" class=\"dataframe\">\n",
              "  <thead>\n",
              "    <tr>\n",
              "      <th class=\"blank level0\" >&nbsp;</th>\n",
              "      <th class=\"col_heading level0 col0\" >NAME_HOUSING_TYPE</th>\n",
              "      <th class=\"col_heading level0 col1\" >TARGET</th>\n",
              "      <th class=\"col_heading level0 col2\" >SK_ID_CURR</th>\n",
              "    </tr>\n",
              "  </thead>\n",
              "  <tbody>\n",
              "    <tr>\n",
              "      <th id=\"T_9b3be_level0_row0\" class=\"row_heading level0 row0\" >0</th>\n",
              "      <td id=\"T_9b3be_row0_col0\" class=\"data row0 col0\" >Co-op apartment</td>\n",
              "      <td id=\"T_9b3be_row0_col1\" class=\"data row0 col1\" >Default</td>\n",
              "      <td id=\"T_9b3be_row0_col2\" class=\"data row0 col2\" >17</td>\n",
              "    </tr>\n",
              "    <tr>\n",
              "      <th id=\"T_9b3be_level0_row1\" class=\"row_heading level0 row1\" >1</th>\n",
              "      <td id=\"T_9b3be_row1_col0\" class=\"data row1 col0\" >Co-op apartment</td>\n",
              "      <td id=\"T_9b3be_row1_col1\" class=\"data row1 col1\" >Non Default</td>\n",
              "      <td id=\"T_9b3be_row1_col2\" class=\"data row1 col2\" >26</td>\n",
              "    </tr>\n",
              "    <tr>\n",
              "      <th id=\"T_9b3be_level0_row2\" class=\"row_heading level0 row2\" >2</th>\n",
              "      <td id=\"T_9b3be_row2_col0\" class=\"data row2 col0\" >House / apartment</td>\n",
              "      <td id=\"T_9b3be_row2_col1\" class=\"data row2 col1\" >Default</td>\n",
              "      <td id=\"T_9b3be_row2_col2\" class=\"data row2 col2\" >4316</td>\n",
              "    </tr>\n",
              "    <tr>\n",
              "      <th id=\"T_9b3be_level0_row3\" class=\"row_heading level0 row3\" >3</th>\n",
              "      <td id=\"T_9b3be_row3_col0\" class=\"data row3 col0\" >House / apartment</td>\n",
              "      <td id=\"T_9b3be_row3_col1\" class=\"data row3 col1\" >Non Default</td>\n",
              "      <td id=\"T_9b3be_row3_col2\" class=\"data row3 col2\" >4436</td>\n",
              "    </tr>\n",
              "    <tr>\n",
              "      <th id=\"T_9b3be_level0_row4\" class=\"row_heading level0 row4\" >4</th>\n",
              "      <td id=\"T_9b3be_row4_col0\" class=\"data row4 col0\" >Municipal apartment</td>\n",
              "      <td id=\"T_9b3be_row4_col1\" class=\"data row4 col1\" >Default</td>\n",
              "      <td id=\"T_9b3be_row4_col2\" class=\"data row4 col2\" >179</td>\n",
              "    </tr>\n",
              "    <tr>\n",
              "      <th id=\"T_9b3be_level0_row5\" class=\"row_heading level0 row5\" >5</th>\n",
              "      <td id=\"T_9b3be_row5_col0\" class=\"data row5 col0\" >Municipal apartment</td>\n",
              "      <td id=\"T_9b3be_row5_col1\" class=\"data row5 col1\" >Non Default</td>\n",
              "      <td id=\"T_9b3be_row5_col2\" class=\"data row5 col2\" >191</td>\n",
              "    </tr>\n",
              "    <tr>\n",
              "      <th id=\"T_9b3be_level0_row6\" class=\"row_heading level0 row6\" >6</th>\n",
              "      <td id=\"T_9b3be_row6_col0\" class=\"data row6 col0\" >Office apartment</td>\n",
              "      <td id=\"T_9b3be_row6_col1\" class=\"data row6 col1\" >Default</td>\n",
              "      <td id=\"T_9b3be_row6_col2\" class=\"data row6 col2\" >35</td>\n",
              "    </tr>\n",
              "    <tr>\n",
              "      <th id=\"T_9b3be_level0_row7\" class=\"row_heading level0 row7\" >7</th>\n",
              "      <td id=\"T_9b3be_row7_col0\" class=\"data row7 col0\" >Office apartment</td>\n",
              "      <td id=\"T_9b3be_row7_col1\" class=\"data row7 col1\" >Non Default</td>\n",
              "      <td id=\"T_9b3be_row7_col2\" class=\"data row7 col2\" >38</td>\n",
              "    </tr>\n",
              "    <tr>\n",
              "      <th id=\"T_9b3be_level0_row8\" class=\"row_heading level0 row8\" >8</th>\n",
              "      <td id=\"T_9b3be_row8_col0\" class=\"data row8 col0\" >Rented apartment</td>\n",
              "      <td id=\"T_9b3be_row8_col1\" class=\"data row8 col1\" >Default</td>\n",
              "      <td id=\"T_9b3be_row8_col2\" class=\"data row8 col2\" >114</td>\n",
              "    </tr>\n",
              "    <tr>\n",
              "      <th id=\"T_9b3be_level0_row9\" class=\"row_heading level0 row9\" >9</th>\n",
              "      <td id=\"T_9b3be_row9_col0\" class=\"data row9 col0\" >Rented apartment</td>\n",
              "      <td id=\"T_9b3be_row9_col1\" class=\"data row9 col1\" >Non Default</td>\n",
              "      <td id=\"T_9b3be_row9_col2\" class=\"data row9 col2\" >85</td>\n",
              "    </tr>\n",
              "    <tr>\n",
              "      <th id=\"T_9b3be_level0_row10\" class=\"row_heading level0 row10\" >10</th>\n",
              "      <td id=\"T_9b3be_row10_col0\" class=\"data row10 col0\" >With parents</td>\n",
              "      <td id=\"T_9b3be_row10_col1\" class=\"data row10 col1\" >Default</td>\n",
              "      <td id=\"T_9b3be_row10_col2\" class=\"data row10 col2\" >339</td>\n",
              "    </tr>\n",
              "    <tr>\n",
              "      <th id=\"T_9b3be_level0_row11\" class=\"row_heading level0 row11\" >11</th>\n",
              "      <td id=\"T_9b3be_row11_col0\" class=\"data row11 col0\" >With parents</td>\n",
              "      <td id=\"T_9b3be_row11_col1\" class=\"data row11 col1\" >Non Default</td>\n",
              "      <td id=\"T_9b3be_row11_col2\" class=\"data row11 col2\" >224</td>\n",
              "    </tr>\n",
              "  </tbody>\n",
              "</table>\n"
            ]
          },
          "metadata": {},
          "execution_count": 84
        }
      ]
    },
    {
      "cell_type": "code",
      "source": [
        "data[['NAME_HOUSING_TYPE','TARGET']].groupby(['NAME_HOUSING_TYPE'],as_index=False).mean().sort_values(by=['TARGET'], ascending=False)"
      ],
      "metadata": {
        "colab": {
          "base_uri": "https://localhost:8080/",
          "height": 238
        },
        "id": "F3UoVzm8CDgo",
        "outputId": "e9a6330d-6498-4d20-d47e-4f8c19f71a93"
      },
      "execution_count": 85,
      "outputs": [
        {
          "output_type": "execute_result",
          "data": {
            "text/plain": [
              "     NAME_HOUSING_TYPE    TARGET\n",
              "5         With parents  0.602131\n",
              "4     Rented apartment  0.572864\n",
              "1    House / apartment  0.493144\n",
              "2  Municipal apartment  0.483784\n",
              "3     Office apartment  0.479452\n",
              "0      Co-op apartment  0.395349"
            ],
            "text/html": [
              "\n",
              "  <div id=\"df-5049924d-cc11-4f38-bea3-6926346f9c21\">\n",
              "    <div class=\"colab-df-container\">\n",
              "      <div>\n",
              "<style scoped>\n",
              "    .dataframe tbody tr th:only-of-type {\n",
              "        vertical-align: middle;\n",
              "    }\n",
              "\n",
              "    .dataframe tbody tr th {\n",
              "        vertical-align: top;\n",
              "    }\n",
              "\n",
              "    .dataframe thead th {\n",
              "        text-align: right;\n",
              "    }\n",
              "</style>\n",
              "<table border=\"1\" class=\"dataframe\">\n",
              "  <thead>\n",
              "    <tr style=\"text-align: right;\">\n",
              "      <th></th>\n",
              "      <th>NAME_HOUSING_TYPE</th>\n",
              "      <th>TARGET</th>\n",
              "    </tr>\n",
              "  </thead>\n",
              "  <tbody>\n",
              "    <tr>\n",
              "      <th>5</th>\n",
              "      <td>With parents</td>\n",
              "      <td>0.602131</td>\n",
              "    </tr>\n",
              "    <tr>\n",
              "      <th>4</th>\n",
              "      <td>Rented apartment</td>\n",
              "      <td>0.572864</td>\n",
              "    </tr>\n",
              "    <tr>\n",
              "      <th>1</th>\n",
              "      <td>House / apartment</td>\n",
              "      <td>0.493144</td>\n",
              "    </tr>\n",
              "    <tr>\n",
              "      <th>2</th>\n",
              "      <td>Municipal apartment</td>\n",
              "      <td>0.483784</td>\n",
              "    </tr>\n",
              "    <tr>\n",
              "      <th>3</th>\n",
              "      <td>Office apartment</td>\n",
              "      <td>0.479452</td>\n",
              "    </tr>\n",
              "    <tr>\n",
              "      <th>0</th>\n",
              "      <td>Co-op apartment</td>\n",
              "      <td>0.395349</td>\n",
              "    </tr>\n",
              "  </tbody>\n",
              "</table>\n",
              "</div>\n",
              "      <button class=\"colab-df-convert\" onclick=\"convertToInteractive('df-5049924d-cc11-4f38-bea3-6926346f9c21')\"\n",
              "              title=\"Convert this dataframe to an interactive table.\"\n",
              "              style=\"display:none;\">\n",
              "        \n",
              "  <svg xmlns=\"http://www.w3.org/2000/svg\" height=\"24px\"viewBox=\"0 0 24 24\"\n",
              "       width=\"24px\">\n",
              "    <path d=\"M0 0h24v24H0V0z\" fill=\"none\"/>\n",
              "    <path d=\"M18.56 5.44l.94 2.06.94-2.06 2.06-.94-2.06-.94-.94-2.06-.94 2.06-2.06.94zm-11 1L8.5 8.5l.94-2.06 2.06-.94-2.06-.94L8.5 2.5l-.94 2.06-2.06.94zm10 10l.94 2.06.94-2.06 2.06-.94-2.06-.94-.94-2.06-.94 2.06-2.06.94z\"/><path d=\"M17.41 7.96l-1.37-1.37c-.4-.4-.92-.59-1.43-.59-.52 0-1.04.2-1.43.59L10.3 9.45l-7.72 7.72c-.78.78-.78 2.05 0 2.83L4 21.41c.39.39.9.59 1.41.59.51 0 1.02-.2 1.41-.59l7.78-7.78 2.81-2.81c.8-.78.8-2.07 0-2.86zM5.41 20L4 18.59l7.72-7.72 1.47 1.35L5.41 20z\"/>\n",
              "  </svg>\n",
              "      </button>\n",
              "      \n",
              "  <style>\n",
              "    .colab-df-container {\n",
              "      display:flex;\n",
              "      flex-wrap:wrap;\n",
              "      gap: 12px;\n",
              "    }\n",
              "\n",
              "    .colab-df-convert {\n",
              "      background-color: #E8F0FE;\n",
              "      border: none;\n",
              "      border-radius: 50%;\n",
              "      cursor: pointer;\n",
              "      display: none;\n",
              "      fill: #1967D2;\n",
              "      height: 32px;\n",
              "      padding: 0 0 0 0;\n",
              "      width: 32px;\n",
              "    }\n",
              "\n",
              "    .colab-df-convert:hover {\n",
              "      background-color: #E2EBFA;\n",
              "      box-shadow: 0px 1px 2px rgba(60, 64, 67, 0.3), 0px 1px 3px 1px rgba(60, 64, 67, 0.15);\n",
              "      fill: #174EA6;\n",
              "    }\n",
              "\n",
              "    [theme=dark] .colab-df-convert {\n",
              "      background-color: #3B4455;\n",
              "      fill: #D2E3FC;\n",
              "    }\n",
              "\n",
              "    [theme=dark] .colab-df-convert:hover {\n",
              "      background-color: #434B5C;\n",
              "      box-shadow: 0px 1px 3px 1px rgba(0, 0, 0, 0.15);\n",
              "      filter: drop-shadow(0px 1px 2px rgba(0, 0, 0, 0.3));\n",
              "      fill: #FFFFFF;\n",
              "    }\n",
              "  </style>\n",
              "\n",
              "      <script>\n",
              "        const buttonEl =\n",
              "          document.querySelector('#df-5049924d-cc11-4f38-bea3-6926346f9c21 button.colab-df-convert');\n",
              "        buttonEl.style.display =\n",
              "          google.colab.kernel.accessAllowed ? 'block' : 'none';\n",
              "\n",
              "        async function convertToInteractive(key) {\n",
              "          const element = document.querySelector('#df-5049924d-cc11-4f38-bea3-6926346f9c21');\n",
              "          const dataTable =\n",
              "            await google.colab.kernel.invokeFunction('convertToInteractive',\n",
              "                                                     [key], {});\n",
              "          if (!dataTable) return;\n",
              "\n",
              "          const docLinkHtml = 'Like what you see? Visit the ' +\n",
              "            '<a target=\"_blank\" href=https://colab.research.google.com/notebooks/data_table.ipynb>data table notebook</a>'\n",
              "            + ' to learn more about interactive tables.';\n",
              "          element.innerHTML = '';\n",
              "          dataTable['output_type'] = 'display_data';\n",
              "          await google.colab.output.renderOutput(dataTable, element);\n",
              "          const docLink = document.createElement('div');\n",
              "          docLink.innerHTML = docLinkHtml;\n",
              "          element.appendChild(docLink);\n",
              "        }\n",
              "      </script>\n",
              "    </div>\n",
              "  </div>\n",
              "  "
            ]
          },
          "metadata": {},
          "execution_count": 85
        }
      ]
    },
    {
      "cell_type": "markdown",
      "source": [
        "Dapat dilihat bahwa nasabah dengan tipe rumah kontrakan memiliki persentase tertinggi (sekitar 12%) dalam hal kesulitan melunasi pinjaman."
      ],
      "metadata": {
        "id": "CP455iTxCKLY"
      }
    },
    {
      "cell_type": "code",
      "source": [
        "# visualization\n",
        "plt.figure(figsize=(15,8))\n",
        "fig = sns.countplot(x='NAME_HOUSING_TYPE', data = df, hue = 'TARGET', palette = 'ch:start=0.2,rot=-.3_r')\n",
        "plt.title('Clients Repayment Abilities By Housing Type\\n', fontweight='bold', fontsize=14)\n",
        "plt.xlabel('\\nHousing Type', fontsize=12)"
      ],
      "metadata": {
        "colab": {
          "base_uri": "https://localhost:8080/",
          "height": 407
        },
        "id": "Iq50NNilCQ3E",
        "outputId": "708dc737-c251-4095-93c9-1201727af6f6"
      },
      "execution_count": 87,
      "outputs": [
        {
          "output_type": "execute_result",
          "data": {
            "text/plain": [
              "Text(0.5, 0, '\\nHousing Type')"
            ]
          },
          "metadata": {},
          "execution_count": 87
        },
        {
          "output_type": "display_data",
          "data": {
            "text/plain": [
              "<Figure size 1080x576 with 1 Axes>"
            ],
            "image/png": "[encoded data removed]"
          },
          "metadata": {}
        }
      ]
    },
    {
      "cell_type": "markdown",
      "source": [
        "Klien yang tinggal di rumah/apartemen memiliki jumlah pengajuan pinjaman tertinggi yaitu sebesar 272 ribu."
      ],
      "metadata": {
        "id": "_alo2VryCpKp"
      }
    },
    {
      "cell_type": "markdown",
      "source": [
        "Occupation Type Vs Target"
      ],
      "metadata": {
        "id": "Sie0XkDCCw7Z"
      }
    },
    {
      "cell_type": "code",
      "source": [
        "ot = df.groupby(by=['OCCUPATION_TYPE','TARGET'], as_index=False)['SK_ID_CURR'].count()\n",
        "print('Clients Repayment Abilities By Occupation Type')\n",
        "ot.sort_values(by='SK_ID_CURR', ascending=False)\n",
        "ot.style.background_gradient(cmap='Blues')"
      ],
      "metadata": {
        "colab": {
          "base_uri": "https://localhost:8080/",
          "height": 1000
        },
        "id": "MQDvuTyHCzYY",
        "outputId": "d58fb285-3bb5-472d-f3fd-e2401fb66500"
      },
      "execution_count": 88,
      "outputs": [
        {
          "output_type": "stream",
          "name": "stdout",
          "text": [
            "Clients Repayment Abilities By Occupation Type\n"
          ]
        },
        {
          "output_type": "execute_result",
          "data": {
            "text/plain": [
              "<pandas.io.formats.style.Styler at 0x7f316f71f9d0>"
            ],
            "text/html": [
              "<style type=\"text/css\">\n",
              "#T_73dbc_row0_col2 {\n",
              "  background-color: #e7f0fa;\n",
              "  color: #000000;\n",
              "}\n",
              "#T_73dbc_row1_col2 {\n",
              "  background-color: #dae8f6;\n",
              "  color: #000000;\n",
              "}\n",
              "#T_73dbc_row2_col2 {\n",
              "  background-color: #eaf2fb;\n",
              "  color: #000000;\n",
              "}\n",
              "#T_73dbc_row3_col2 {\n",
              "  background-color: #edf4fc;\n",
              "  color: #000000;\n",
              "}\n",
              "#T_73dbc_row4_col2 {\n",
              "  background-color: #e1edf8;\n",
              "  color: #000000;\n",
              "}\n",
              "#T_73dbc_row5_col2 {\n",
              "  background-color: #e7f1fa;\n",
              "  color: #000000;\n",
              "}\n",
              "#T_73dbc_row6_col2 {\n",
              "  background-color: #b9d6ea;\n",
              "  color: #000000;\n",
              "}\n",
              "#T_73dbc_row7_col2 {\n",
              "  background-color: #91c3de;\n",
              "  color: #000000;\n",
              "}\n",
              "#T_73dbc_row8_col2 {\n",
              "  background-color: #a3cce3;\n",
              "  color: #000000;\n",
              "}\n",
              "#T_73dbc_row9_col2 {\n",
              "  background-color: #c3daee;\n",
              "  color: #000000;\n",
              "}\n",
              "#T_73dbc_row10_col2, #T_73dbc_row14_col2, #T_73dbc_row15_col2 {\n",
              "  background-color: #f7fbff;\n",
              "  color: #000000;\n",
              "}\n",
              "#T_73dbc_row11_col2, #T_73dbc_row26_col2, #T_73dbc_row30_col2 {\n",
              "  background-color: #f6faff;\n",
              "  color: #000000;\n",
              "}\n",
              "#T_73dbc_row12_col2 {\n",
              "  background-color: #dfebf7;\n",
              "  color: #000000;\n",
              "}\n",
              "#T_73dbc_row13_col2 {\n",
              "  background-color: #d9e7f5;\n",
              "  color: #000000;\n",
              "}\n",
              "#T_73dbc_row16_col2 {\n",
              "  background-color: #08306b;\n",
              "  color: #f1f1f1;\n",
              "}\n",
              "#T_73dbc_row17_col2 {\n",
              "  background-color: #2979b9;\n",
              "  color: #f1f1f1;\n",
              "}\n",
              "#T_73dbc_row18_col2 {\n",
              "  background-color: #ecf4fb;\n",
              "  color: #000000;\n",
              "}\n",
              "#T_73dbc_row19_col2, #T_73dbc_row24_col2 {\n",
              "  background-color: #f1f7fd;\n",
              "  color: #000000;\n",
              "}\n",
              "#T_73dbc_row20_col2 {\n",
              "  background-color: #caddf0;\n",
              "  color: #000000;\n",
              "}\n",
              "#T_73dbc_row21_col2 {\n",
              "  background-color: #bfd8ed;\n",
              "  color: #000000;\n",
              "}\n",
              "#T_73dbc_row22_col2 {\n",
              "  background-color: #e3eef9;\n",
              "  color: #000000;\n",
              "}\n",
              "#T_73dbc_row23_col2, #T_73dbc_row32_col2 {\n",
              "  background-color: #dfecf7;\n",
              "  color: #000000;\n",
              "}\n",
              "#T_73dbc_row25_col2 {\n",
              "  background-color: #f0f6fd;\n",
              "  color: #000000;\n",
              "}\n",
              "#T_73dbc_row27_col2, #T_73dbc_row35_col2 {\n",
              "  background-color: #f5fafe;\n",
              "  color: #000000;\n",
              "}\n",
              "#T_73dbc_row28_col2 {\n",
              "  background-color: #5fa6d1;\n",
              "  color: #f1f1f1;\n",
              "}\n",
              "#T_73dbc_row29_col2 {\n",
              "  background-color: #75b4d8;\n",
              "  color: #000000;\n",
              "}\n",
              "#T_73dbc_row31_col2, #T_73dbc_row34_col2 {\n",
              "  background-color: #f3f8fe;\n",
              "  color: #000000;\n",
              "}\n",
              "#T_73dbc_row33_col2 {\n",
              "  background-color: #e6f0f9;\n",
              "  color: #000000;\n",
              "}\n",
              "</style>\n",
              "<table id=\"T_73dbc_\" class=\"dataframe\">\n",
              "  <thead>\n",
              "    <tr>\n",
              "      <th class=\"blank level0\" >&nbsp;</th>\n",
              "      <th class=\"col_heading level0 col0\" >OCCUPATION_TYPE</th>\n",
              "      <th class=\"col_heading level0 col1\" >TARGET</th>\n",
              "      <th class=\"col_heading level0 col2\" >SK_ID_CURR</th>\n",
              "    </tr>\n",
              "  </thead>\n",
              "  <tbody>\n",
              "    <tr>\n",
              "      <th id=\"T_73dbc_level0_row0\" class=\"row_heading level0 row0\" >0</th>\n",
              "      <td id=\"T_73dbc_row0_col0\" class=\"data row0 col0\" >Accountants</td>\n",
              "      <td id=\"T_73dbc_row0_col1\" class=\"data row0 col1\" >Default</td>\n",
              "      <td id=\"T_73dbc_row0_col2\" class=\"data row0 col2\" >102</td>\n",
              "    </tr>\n",
              "    <tr>\n",
              "      <th id=\"T_73dbc_level0_row1\" class=\"row_heading level0 row1\" >1</th>\n",
              "      <td id=\"T_73dbc_row1_col0\" class=\"data row1 col0\" >Accountants</td>\n",
              "      <td id=\"T_73dbc_row1_col1\" class=\"data row1 col1\" >Non Default</td>\n",
              "      <td id=\"T_73dbc_row1_col2\" class=\"data row1 col2\" >175</td>\n",
              "    </tr>\n",
              "    <tr>\n",
              "      <th id=\"T_73dbc_level0_row2\" class=\"row_heading level0 row2\" >2</th>\n",
              "      <td id=\"T_73dbc_row2_col0\" class=\"data row2 col0\" >Cleaning staff</td>\n",
              "      <td id=\"T_73dbc_row2_col1\" class=\"data row2 col1\" >Default</td>\n",
              "      <td id=\"T_73dbc_row2_col2\" class=\"data row2 col2\" >85</td>\n",
              "    </tr>\n",
              "    <tr>\n",
              "      <th id=\"T_73dbc_level0_row3\" class=\"row_heading level0 row3\" >3</th>\n",
              "      <td id=\"T_73dbc_row3_col0\" class=\"data row3 col0\" >Cleaning staff</td>\n",
              "      <td id=\"T_73dbc_row3_col1\" class=\"data row3 col1\" >Non Default</td>\n",
              "      <td id=\"T_73dbc_row3_col2\" class=\"data row3 col2\" >66</td>\n",
              "    </tr>\n",
              "    <tr>\n",
              "      <th id=\"T_73dbc_level0_row4\" class=\"row_heading level0 row4\" >4</th>\n",
              "      <td id=\"T_73dbc_row4_col0\" class=\"data row4 col0\" >Cooking staff</td>\n",
              "      <td id=\"T_73dbc_row4_col1\" class=\"data row4 col1\" >Default</td>\n",
              "      <td id=\"T_73dbc_row4_col2\" class=\"data row4 col2\" >135</td>\n",
              "    </tr>\n",
              "    <tr>\n",
              "      <th id=\"T_73dbc_level0_row5\" class=\"row_heading level0 row5\" >5</th>\n",
              "      <td id=\"T_73dbc_row5_col0\" class=\"data row5 col0\" >Cooking staff</td>\n",
              "      <td id=\"T_73dbc_row5_col1\" class=\"data row5 col1\" >Non Default</td>\n",
              "      <td id=\"T_73dbc_row5_col2\" class=\"data row5 col2\" >95</td>\n",
              "    </tr>\n",
              "    <tr>\n",
              "      <th id=\"T_73dbc_level0_row6\" class=\"row_heading level0 row6\" >6</th>\n",
              "      <td id=\"T_73dbc_row6_col0\" class=\"data row6 col0\" >Core staff</td>\n",
              "      <td id=\"T_73dbc_row6_col1\" class=\"data row6 col1\" >Default</td>\n",
              "      <td id=\"T_73dbc_row6_col2\" class=\"data row6 col2\" >340</td>\n",
              "    </tr>\n",
              "    <tr>\n",
              "      <th id=\"T_73dbc_level0_row7\" class=\"row_heading level0 row7\" >7</th>\n",
              "      <td id=\"T_73dbc_row7_col0\" class=\"data row7 col0\" >Core staff</td>\n",
              "      <td id=\"T_73dbc_row7_col1\" class=\"data row7 col1\" >Non Default</td>\n",
              "      <td id=\"T_73dbc_row7_col2\" class=\"data row7 col2\" >473</td>\n",
              "    </tr>\n",
              "    <tr>\n",
              "      <th id=\"T_73dbc_level0_row8\" class=\"row_heading level0 row8\" >8</th>\n",
              "      <td id=\"T_73dbc_row8_col0\" class=\"data row8 col0\" >Drivers</td>\n",
              "      <td id=\"T_73dbc_row8_col1\" class=\"data row8 col1\" >Default</td>\n",
              "      <td id=\"T_73dbc_row8_col2\" class=\"data row8 col2\" >420</td>\n",
              "    </tr>\n",
              "    <tr>\n",
              "      <th id=\"T_73dbc_level0_row9\" class=\"row_heading level0 row9\" >9</th>\n",
              "      <td id=\"T_73dbc_row9_col0\" class=\"data row9 col0\" >Drivers</td>\n",
              "      <td id=\"T_73dbc_row9_col1\" class=\"data row9 col1\" >Non Default</td>\n",
              "      <td id=\"T_73dbc_row9_col2\" class=\"data row9 col2\" >304</td>\n",
              "    </tr>\n",
              "    <tr>\n",
              "      <th id=\"T_73dbc_level0_row10\" class=\"row_heading level0 row10\" >10</th>\n",
              "      <td id=\"T_73dbc_row10_col0\" class=\"data row10 col0\" >HR staff</td>\n",
              "      <td id=\"T_73dbc_row10_col1\" class=\"data row10 col1\" >Default</td>\n",
              "      <td id=\"T_73dbc_row10_col2\" class=\"data row10 col2\" >9</td>\n",
              "    </tr>\n",
              "    <tr>\n",
              "      <th id=\"T_73dbc_level0_row11\" class=\"row_heading level0 row11\" >11</th>\n",
              "      <td id=\"T_73dbc_row11_col0\" class=\"data row11 col0\" >HR staff</td>\n",
              "      <td id=\"T_73dbc_row11_col1\" class=\"data row11 col1\" >Non Default</td>\n",
              "      <td id=\"T_73dbc_row11_col2\" class=\"data row11 col2\" >13</td>\n",
              "    </tr>\n",
              "    <tr>\n",
              "      <th id=\"T_73dbc_level0_row12\" class=\"row_heading level0 row12\" >12</th>\n",
              "      <td id=\"T_73dbc_row12_col0\" class=\"data row12 col0\" >High skill tech staff</td>\n",
              "      <td id=\"T_73dbc_row12_col1\" class=\"data row12 col1\" >Default</td>\n",
              "      <td id=\"T_73dbc_row12_col2\" class=\"data row12 col2\" >147</td>\n",
              "    </tr>\n",
              "    <tr>\n",
              "      <th id=\"T_73dbc_level0_row13\" class=\"row_heading level0 row13\" >13</th>\n",
              "      <td id=\"T_73dbc_row13_col0\" class=\"data row13 col0\" >High skill tech staff</td>\n",
              "      <td id=\"T_73dbc_row13_col1\" class=\"data row13 col1\" >Non Default</td>\n",
              "      <td id=\"T_73dbc_row13_col2\" class=\"data row13 col2\" >181</td>\n",
              "    </tr>\n",
              "    <tr>\n",
              "      <th id=\"T_73dbc_level0_row14\" class=\"row_heading level0 row14\" >14</th>\n",
              "      <td id=\"T_73dbc_row14_col0\" class=\"data row14 col0\" >IT staff</td>\n",
              "      <td id=\"T_73dbc_row14_col1\" class=\"data row14 col1\" >Default</td>\n",
              "      <td id=\"T_73dbc_row14_col2\" class=\"data row14 col2\" >5</td>\n",
              "    </tr>\n",
              "    <tr>\n",
              "      <th id=\"T_73dbc_level0_row15\" class=\"row_heading level0 row15\" >15</th>\n",
              "      <td id=\"T_73dbc_row15_col0\" class=\"data row15 col0\" >IT staff</td>\n",
              "      <td id=\"T_73dbc_row15_col1\" class=\"data row15 col1\" >Non Default</td>\n",
              "      <td id=\"T_73dbc_row15_col2\" class=\"data row15 col2\" >6</td>\n",
              "    </tr>\n",
              "    <tr>\n",
              "      <th id=\"T_73dbc_level0_row16\" class=\"row_heading level0 row16\" >16</th>\n",
              "      <td id=\"T_73dbc_row16_col0\" class=\"data row16 col0\" >Laborers</td>\n",
              "      <td id=\"T_73dbc_row16_col1\" class=\"data row16 col1\" >Default</td>\n",
              "      <td id=\"T_73dbc_row16_col2\" class=\"data row16 col2\" >1153</td>\n",
              "    </tr>\n",
              "    <tr>\n",
              "      <th id=\"T_73dbc_level0_row17\" class=\"row_heading level0 row17\" >17</th>\n",
              "      <td id=\"T_73dbc_row17_col0\" class=\"data row17 col0\" >Laborers</td>\n",
              "      <td id=\"T_73dbc_row17_col1\" class=\"data row17 col1\" >Non Default</td>\n",
              "      <td id=\"T_73dbc_row17_col2\" class=\"data row17 col2\" >833</td>\n",
              "    </tr>\n",
              "    <tr>\n",
              "      <th id=\"T_73dbc_level0_row18\" class=\"row_heading level0 row18\" >18</th>\n",
              "      <td id=\"T_73dbc_row18_col0\" class=\"data row18 col0\" >Low-skill Laborers</td>\n",
              "      <td id=\"T_73dbc_row18_col1\" class=\"data row18 col1\" >Default</td>\n",
              "      <td id=\"T_73dbc_row18_col2\" class=\"data row18 col2\" >70</td>\n",
              "    </tr>\n",
              "    <tr>\n",
              "      <th id=\"T_73dbc_level0_row19\" class=\"row_heading level0 row19\" >19</th>\n",
              "      <td id=\"T_73dbc_row19_col0\" class=\"data row19 col0\" >Low-skill Laborers</td>\n",
              "      <td id=\"T_73dbc_row19_col1\" class=\"data row19 col1\" >Non Default</td>\n",
              "      <td id=\"T_73dbc_row19_col2\" class=\"data row19 col2\" >42</td>\n",
              "    </tr>\n",
              "    <tr>\n",
              "      <th id=\"T_73dbc_level0_row20\" class=\"row_heading level0 row20\" >20</th>\n",
              "      <td id=\"T_73dbc_row20_col0\" class=\"data row20 col0\" >Managers</td>\n",
              "      <td id=\"T_73dbc_row20_col1\" class=\"data row20 col1\" >Default</td>\n",
              "      <td id=\"T_73dbc_row20_col2\" class=\"data row20 col2\" >273</td>\n",
              "    </tr>\n",
              "    <tr>\n",
              "      <th id=\"T_73dbc_level0_row21\" class=\"row_heading level0 row21\" >21</th>\n",
              "      <td id=\"T_73dbc_row21_col0\" class=\"data row21 col0\" >Managers</td>\n",
              "      <td id=\"T_73dbc_row21_col1\" class=\"data row21 col1\" >Non Default</td>\n",
              "      <td id=\"T_73dbc_row21_col2\" class=\"data row21 col2\" >315</td>\n",
              "    </tr>\n",
              "    <tr>\n",
              "      <th id=\"T_73dbc_level0_row22\" class=\"row_heading level0 row22\" >22</th>\n",
              "      <td id=\"T_73dbc_row22_col0\" class=\"data row22 col0\" >Medicine staff</td>\n",
              "      <td id=\"T_73dbc_row22_col1\" class=\"data row22 col1\" >Default</td>\n",
              "      <td id=\"T_73dbc_row22_col2\" class=\"data row22 col2\" >120</td>\n",
              "    </tr>\n",
              "    <tr>\n",
              "      <th id=\"T_73dbc_level0_row23\" class=\"row_heading level0 row23\" >23</th>\n",
              "      <td id=\"T_73dbc_row23_col0\" class=\"data row23 col0\" >Medicine staff</td>\n",
              "      <td id=\"T_73dbc_row23_col1\" class=\"data row23 col1\" >Non Default</td>\n",
              "      <td id=\"T_73dbc_row23_col2\" class=\"data row23 col2\" >144</td>\n",
              "    </tr>\n",
              "    <tr>\n",
              "      <th id=\"T_73dbc_level0_row24\" class=\"row_heading level0 row24\" >24</th>\n",
              "      <td id=\"T_73dbc_row24_col0\" class=\"data row24 col0\" >Private service staff</td>\n",
              "      <td id=\"T_73dbc_row24_col1\" class=\"data row24 col1\" >Default</td>\n",
              "      <td id=\"T_73dbc_row24_col2\" class=\"data row24 col2\" >42</td>\n",
              "    </tr>\n",
              "    <tr>\n",
              "      <th id=\"T_73dbc_level0_row25\" class=\"row_heading level0 row25\" >25</th>\n",
              "      <td id=\"T_73dbc_row25_col0\" class=\"data row25 col0\" >Private service staff</td>\n",
              "      <td id=\"T_73dbc_row25_col1\" class=\"data row25 col1\" >Non Default</td>\n",
              "      <td id=\"T_73dbc_row25_col2\" class=\"data row25 col2\" >46</td>\n",
              "    </tr>\n",
              "    <tr>\n",
              "      <th id=\"T_73dbc_level0_row26\" class=\"row_heading level0 row26\" >26</th>\n",
              "      <td id=\"T_73dbc_row26_col0\" class=\"data row26 col0\" >Realty agents</td>\n",
              "      <td id=\"T_73dbc_row26_col1\" class=\"data row26 col1\" >Default</td>\n",
              "      <td id=\"T_73dbc_row26_col2\" class=\"data row26 col2\" >13</td>\n",
              "    </tr>\n",
              "    <tr>\n",
              "      <th id=\"T_73dbc_level0_row27\" class=\"row_heading level0 row27\" >27</th>\n",
              "      <td id=\"T_73dbc_row27_col0\" class=\"data row27 col0\" >Realty agents</td>\n",
              "      <td id=\"T_73dbc_row27_col1\" class=\"data row27 col1\" >Non Default</td>\n",
              "      <td id=\"T_73dbc_row27_col2\" class=\"data row27 col2\" >14</td>\n",
              "    </tr>\n",
              "    <tr>\n",
              "      <th id=\"T_73dbc_level0_row28\" class=\"row_heading level0 row28\" >28</th>\n",
              "      <td id=\"T_73dbc_row28_col0\" class=\"data row28 col0\" >Sales staff</td>\n",
              "      <td id=\"T_73dbc_row28_col1\" class=\"data row28 col1\" >Default</td>\n",
              "      <td id=\"T_73dbc_row28_col2\" class=\"data row28 col2\" >621</td>\n",
              "    </tr>\n",
              "    <tr>\n",
              "      <th id=\"T_73dbc_level0_row29\" class=\"row_heading level0 row29\" >29</th>\n",
              "      <td id=\"T_73dbc_row29_col0\" class=\"data row29 col0\" >Sales staff</td>\n",
              "      <td id=\"T_73dbc_row29_col1\" class=\"data row29 col1\" >Non Default</td>\n",
              "      <td id=\"T_73dbc_row29_col2\" class=\"data row29 col2\" >548</td>\n",
              "    </tr>\n",
              "    <tr>\n",
              "      <th id=\"T_73dbc_level0_row30\" class=\"row_heading level0 row30\" >30</th>\n",
              "      <td id=\"T_73dbc_row30_col0\" class=\"data row30 col0\" >Secretaries</td>\n",
              "      <td id=\"T_73dbc_row30_col1\" class=\"data row30 col1\" >Default</td>\n",
              "      <td id=\"T_73dbc_row30_col2\" class=\"data row30 col2\" >13</td>\n",
              "    </tr>\n",
              "    <tr>\n",
              "      <th id=\"T_73dbc_level0_row31\" class=\"row_heading level0 row31\" >31</th>\n",
              "      <td id=\"T_73dbc_row31_col0\" class=\"data row31 col0\" >Secretaries</td>\n",
              "      <td id=\"T_73dbc_row31_col1\" class=\"data row31 col1\" >Non Default</td>\n",
              "      <td id=\"T_73dbc_row31_col2\" class=\"data row31 col2\" >28</td>\n",
              "    </tr>\n",
              "    <tr>\n",
              "      <th id=\"T_73dbc_level0_row32\" class=\"row_heading level0 row32\" >32</th>\n",
              "      <td id=\"T_73dbc_row32_col0\" class=\"data row32 col0\" >Security staff</td>\n",
              "      <td id=\"T_73dbc_row32_col1\" class=\"data row32 col1\" >Default</td>\n",
              "      <td id=\"T_73dbc_row32_col2\" class=\"data row32 col2\" >141</td>\n",
              "    </tr>\n",
              "    <tr>\n",
              "      <th id=\"T_73dbc_level0_row33\" class=\"row_heading level0 row33\" >33</th>\n",
              "      <td id=\"T_73dbc_row33_col0\" class=\"data row33 col0\" >Security staff</td>\n",
              "      <td id=\"T_73dbc_row33_col1\" class=\"data row33 col1\" >Non Default</td>\n",
              "      <td id=\"T_73dbc_row33_col2\" class=\"data row33 col2\" >105</td>\n",
              "    </tr>\n",
              "    <tr>\n",
              "      <th id=\"T_73dbc_level0_row34\" class=\"row_heading level0 row34\" >34</th>\n",
              "      <td id=\"T_73dbc_row34_col0\" class=\"data row34 col0\" >Waiters/barmen staff</td>\n",
              "      <td id=\"T_73dbc_row34_col1\" class=\"data row34 col1\" >Default</td>\n",
              "      <td id=\"T_73dbc_row34_col2\" class=\"data row34 col2\" >30</td>\n",
              "    </tr>\n",
              "    <tr>\n",
              "      <th id=\"T_73dbc_level0_row35\" class=\"row_heading level0 row35\" >35</th>\n",
              "      <td id=\"T_73dbc_row35_col0\" class=\"data row35 col0\" >Waiters/barmen staff</td>\n",
              "      <td id=\"T_73dbc_row35_col1\" class=\"data row35 col1\" >Non Default</td>\n",
              "      <td id=\"T_73dbc_row35_col2\" class=\"data row35 col2\" >18</td>\n",
              "    </tr>\n",
              "  </tbody>\n",
              "</table>\n"
            ]
          },
          "metadata": {},
          "execution_count": 88
        }
      ]
    },
    {
      "cell_type": "code",
      "source": [
        "data[['OCCUPATION_TYPE','TARGET']].groupby(['OCCUPATION_TYPE'],as_index=False).mean().sort_values(by=['TARGET'], ascending=False)"
      ],
      "metadata": {
        "colab": {
          "base_uri": "https://localhost:8080/",
          "height": 614
        },
        "id": "EH_GsQu6C4eI",
        "outputId": "c5a197f3-16a9-4787-8bd8-209dfd717fd7"
      },
      "execution_count": 89,
      "outputs": [
        {
          "output_type": "execute_result",
          "data": {
            "text/plain": [
              "          OCCUPATION_TYPE    TARGET\n",
              "9      Low-skill Laborers  0.625000\n",
              "17   Waiters/barmen staff  0.625000\n",
              "2           Cooking staff  0.586957\n",
              "8                Laborers  0.580564\n",
              "4                 Drivers  0.580110\n",
              "16         Security staff  0.573171\n",
              "1          Cleaning staff  0.562914\n",
              "14            Sales staff  0.531223\n",
              "13          Realty agents  0.481481\n",
              "12  Private service staff  0.477273\n",
              "10               Managers  0.464286\n",
              "7                IT staff  0.454545\n",
              "11         Medicine staff  0.454545\n",
              "6   High skill tech staff  0.448171\n",
              "3              Core staff  0.418204\n",
              "5                HR staff  0.409091\n",
              "0             Accountants  0.368231\n",
              "15            Secretaries  0.317073"
            ],
            "text/html": [
              "\n",
              "  <div id=\"df-d5077679-67d1-4376-a64a-83a7ff81a36a\">\n",
              "    <div class=\"colab-df-container\">\n",
              "      <div>\n",
              "<style scoped>\n",
              "    .dataframe tbody tr th:only-of-type {\n",
              "        vertical-align: middle;\n",
              "    }\n",
              "\n",
              "    .dataframe tbody tr th {\n",
              "        vertical-align: top;\n",
              "    }\n",
              "\n",
              "    .dataframe thead th {\n",
              "        text-align: right;\n",
              "    }\n",
              "</style>\n",
              "<table border=\"1\" class=\"dataframe\">\n",
              "  <thead>\n",
              "    <tr style=\"text-align: right;\">\n",
              "      <th></th>\n",
              "      <th>OCCUPATION_TYPE</th>\n",
              "      <th>TARGET</th>\n",
              "    </tr>\n",
              "  </thead>\n",
              "  <tbody>\n",
              "    <tr>\n",
              "      <th>9</th>\n",
              "      <td>Low-skill Laborers</td>\n",
              "      <td>0.625000</td>\n",
              "    </tr>\n",
              "    <tr>\n",
              "      <th>17</th>\n",
              "      <td>Waiters/barmen staff</td>\n",
              "      <td>0.625000</td>\n",
              "    </tr>\n",
              "    <tr>\n",
              "      <th>2</th>\n",
              "      <td>Cooking staff</td>\n",
              "      <td>0.586957</td>\n",
              "    </tr>\n",
              "    <tr>\n",
              "      <th>8</th>\n",
              "      <td>Laborers</td>\n",
              "      <td>0.580564</td>\n",
              "    </tr>\n",
              "    <tr>\n",
              "      <th>4</th>\n",
              "      <td>Drivers</td>\n",
              "      <td>0.580110</td>\n",
              "    </tr>\n",
              "    <tr>\n",
              "      <th>16</th>\n",
              "      <td>Security staff</td>\n",
              "      <td>0.573171</td>\n",
              "    </tr>\n",
              "    <tr>\n",
              "      <th>1</th>\n",
              "      <td>Cleaning staff</td>\n",
              "      <td>0.562914</td>\n",
              "    </tr>\n",
              "    <tr>\n",
              "      <th>14</th>\n",
              "      <td>Sales staff</td>\n",
              "      <td>0.531223</td>\n",
              "    </tr>\n",
              "    <tr>\n",
              "      <th>13</th>\n",
              "      <td>Realty agents</td>\n",
              "      <td>0.481481</td>\n",
              "    </tr>\n",
              "    <tr>\n",
              "      <th>12</th>\n",
              "      <td>Private service staff</td>\n",
              "      <td>0.477273</td>\n",
              "    </tr>\n",
              "    <tr>\n",
              "      <th>10</th>\n",
              "      <td>Managers</td>\n",
              "      <td>0.464286</td>\n",
              "    </tr>\n",
              "    <tr>\n",
              "      <th>7</th>\n",
              "      <td>IT staff</td>\n",
              "      <td>0.454545</td>\n",
              "    </tr>\n",
              "    <tr>\n",
              "      <th>11</th>\n",
              "      <td>Medicine staff</td>\n",
              "      <td>0.454545</td>\n",
              "    </tr>\n",
              "    <tr>\n",
              "      <th>6</th>\n",
              "      <td>High skill tech staff</td>\n",
              "      <td>0.448171</td>\n",
              "    </tr>\n",
              "    <tr>\n",
              "      <th>3</th>\n",
              "      <td>Core staff</td>\n",
              "      <td>0.418204</td>\n",
              "    </tr>\n",
              "    <tr>\n",
              "      <th>5</th>\n",
              "      <td>HR staff</td>\n",
              "      <td>0.409091</td>\n",
              "    </tr>\n",
              "    <tr>\n",
              "      <th>0</th>\n",
              "      <td>Accountants</td>\n",
              "      <td>0.368231</td>\n",
              "    </tr>\n",
              "    <tr>\n",
              "      <th>15</th>\n",
              "      <td>Secretaries</td>\n",
              "      <td>0.317073</td>\n",
              "    </tr>\n",
              "  </tbody>\n",
              "</table>\n",
              "</div>\n",
              "      <button class=\"colab-df-convert\" onclick=\"convertToInteractive('df-d5077679-67d1-4376-a64a-83a7ff81a36a')\"\n",
              "              title=\"Convert this dataframe to an interactive table.\"\n",
              "              style=\"display:none;\">\n",
              "        \n",
              "  <svg xmlns=\"http://www.w3.org/2000/svg\" height=\"24px\"viewBox=\"0 0 24 24\"\n",
              "       width=\"24px\">\n",
              "    <path d=\"M0 0h24v24H0V0z\" fill=\"none\"/>\n",
              "    <path d=\"M18.56 5.44l.94 2.06.94-2.06 2.06-.94-2.06-.94-.94-2.06-.94 2.06-2.06.94zm-11 1L8.5 8.5l.94-2.06 2.06-.94-2.06-.94L8.5 2.5l-.94 2.06-2.06.94zm10 10l.94 2.06.94-2.06 2.06-.94-2.06-.94-.94-2.06-.94 2.06-2.06.94z\"/><path d=\"M17.41 7.96l-1.37-1.37c-.4-.4-.92-.59-1.43-.59-.52 0-1.04.2-1.43.59L10.3 9.45l-7.72 7.72c-.78.78-.78 2.05 0 2.83L4 21.41c.39.39.9.59 1.41.59.51 0 1.02-.2 1.41-.59l7.78-7.78 2.81-2.81c.8-.78.8-2.07 0-2.86zM5.41 20L4 18.59l7.72-7.72 1.47 1.35L5.41 20z\"/>\n",
              "  </svg>\n",
              "      </button>\n",
              "      \n",
              "  <style>\n",
              "    .colab-df-container {\n",
              "      display:flex;\n",
              "      flex-wrap:wrap;\n",
              "      gap: 12px;\n",
              "    }\n",
              "\n",
              "    .colab-df-convert {\n",
              "      background-color: #E8F0FE;\n",
              "      border: none;\n",
              "      border-radius: 50%;\n",
              "      cursor: pointer;\n",
              "      display: none;\n",
              "      fill: #1967D2;\n",
              "      height: 32px;\n",
              "      padding: 0 0 0 0;\n",
              "      width: 32px;\n",
              "    }\n",
              "\n",
              "    .colab-df-convert:hover {\n",
              "      background-color: #E2EBFA;\n",
              "      box-shadow: 0px 1px 2px rgba(60, 64, 67, 0.3), 0px 1px 3px 1px rgba(60, 64, 67, 0.15);\n",
              "      fill: #174EA6;\n",
              "    }\n",
              "\n",
              "    [theme=dark] .colab-df-convert {\n",
              "      background-color: #3B4455;\n",
              "      fill: #D2E3FC;\n",
              "    }\n",
              "\n",
              "    [theme=dark] .colab-df-convert:hover {\n",
              "      background-color: #434B5C;\n",
              "      box-shadow: 0px 1px 3px 1px rgba(0, 0, 0, 0.15);\n",
              "      filter: drop-shadow(0px 1px 2px rgba(0, 0, 0, 0.3));\n",
              "      fill: #FFFFFF;\n",
              "    }\n",
              "  </style>\n",
              "\n",
              "      <script>\n",
              "        const buttonEl =\n",
              "          document.querySelector('#df-d5077679-67d1-4376-a64a-83a7ff81a36a button.colab-df-convert');\n",
              "        buttonEl.style.display =\n",
              "          google.colab.kernel.accessAllowed ? 'block' : 'none';\n",
              "\n",
              "        async function convertToInteractive(key) {\n",
              "          const element = document.querySelector('#df-d5077679-67d1-4376-a64a-83a7ff81a36a');\n",
              "          const dataTable =\n",
              "            await google.colab.kernel.invokeFunction('convertToInteractive',\n",
              "                                                     [key], {});\n",
              "          if (!dataTable) return;\n",
              "\n",
              "          const docLinkHtml = 'Like what you see? Visit the ' +\n",
              "            '<a target=\"_blank\" href=https://colab.research.google.com/notebooks/data_table.ipynb>data table notebook</a>'\n",
              "            + ' to learn more about interactive tables.';\n",
              "          element.innerHTML = '';\n",
              "          dataTable['output_type'] = 'display_data';\n",
              "          await google.colab.output.renderOutput(dataTable, element);\n",
              "          const docLink = document.createElement('div');\n",
              "          docLink.innerHTML = docLinkHtml;\n",
              "          element.appendChild(docLink);\n",
              "        }\n",
              "      </script>\n",
              "    </div>\n",
              "  </div>\n",
              "  "
            ]
          },
          "metadata": {},
          "execution_count": 89
        }
      ]
    },
    {
      "cell_type": "markdown",
      "source": [
        "Sejumlah besar aplikasi (55 ribu) diajukan oleh nasabah yang bekerja sebagai Buruh.\n",
        "\n",
        "Terlihat bahwa nasabah dengan jenis pekerjaan Buruh Berketerampilan Rendah memiliki persentase tertinggi (sekitar 17%) dari TARGET = 1, yaitu mengalami masalah dalam membayar pinjaman."
      ],
      "metadata": {
        "id": "mu-S5lFYC-ZY"
      }
    },
    {
      "cell_type": "markdown",
      "source": [
        "Process Day Vs Target"
      ],
      "metadata": {
        "id": "J1WJO1tBC_u4"
      }
    },
    {
      "cell_type": "code",
      "source": [
        "pt = df.groupby(by=['WEEKDAY_APPR_PROCESS_START','TARGET'], as_index=False)['SK_ID_CURR'].count()\n",
        "print('Clients Repayment Abilities By Process Day')\n",
        "pt.sort_values(by='SK_ID_CURR', ascending=False)\n",
        "pt.style.background_gradient(cmap='Blues')"
      ],
      "metadata": {
        "colab": {
          "base_uri": "https://localhost:8080/",
          "height": 506
        },
        "id": "OCbPrF4_C_Rg",
        "outputId": "b77a050d-2b05-45ef-ee8e-470197189377"
      },
      "execution_count": 90,
      "outputs": [
        {
          "output_type": "stream",
          "name": "stdout",
          "text": [
            "Clients Repayment Abilities By Process Day\n"
          ]
        },
        {
          "output_type": "execute_result",
          "data": {
            "text/plain": [
              "<pandas.io.formats.style.Styler at 0x7f316f665fd0>"
            ],
            "text/html": [
              "<style type=\"text/css\">\n",
              "#T_f1e86_row0_col2, #T_f1e86_row9_col2 {\n",
              "  background-color: #08488e;\n",
              "  color: #f1f1f1;\n",
              "}\n",
              "#T_f1e86_row1_col2, #T_f1e86_row2_col2 {\n",
              "  background-color: #084990;\n",
              "  color: #f1f1f1;\n",
              "}\n",
              "#T_f1e86_row3_col2 {\n",
              "  background-color: #084c95;\n",
              "  color: #f1f1f1;\n",
              "}\n",
              "#T_f1e86_row4_col2 {\n",
              "  background-color: #8fc2de;\n",
              "  color: #000000;\n",
              "}\n",
              "#T_f1e86_row5_col2 {\n",
              "  background-color: #6fb0d7;\n",
              "  color: #f1f1f1;\n",
              "}\n",
              "#T_f1e86_row6_col2 {\n",
              "  background-color: #f7fbff;\n",
              "  color: #000000;\n",
              "}\n",
              "#T_f1e86_row7_col2 {\n",
              "  background-color: #f5f9fe;\n",
              "  color: #000000;\n",
              "}\n",
              "#T_f1e86_row8_col2 {\n",
              "  background-color: #083c7d;\n",
              "  color: #f1f1f1;\n",
              "}\n",
              "#T_f1e86_row10_col2 {\n",
              "  background-color: #08306b;\n",
              "  color: #f1f1f1;\n",
              "}\n",
              "#T_f1e86_row11_col2 {\n",
              "  background-color: #083370;\n",
              "  color: #f1f1f1;\n",
              "}\n",
              "#T_f1e86_row12_col2 {\n",
              "  background-color: #084184;\n",
              "  color: #f1f1f1;\n",
              "}\n",
              "#T_f1e86_row13_col2 {\n",
              "  background-color: #08468b;\n",
              "  color: #f1f1f1;\n",
              "}\n",
              "</style>\n",
              "<table id=\"T_f1e86_\" class=\"dataframe\">\n",
              "  <thead>\n",
              "    <tr>\n",
              "      <th class=\"blank level0\" >&nbsp;</th>\n",
              "      <th class=\"col_heading level0 col0\" >WEEKDAY_APPR_PROCESS_START</th>\n",
              "      <th class=\"col_heading level0 col1\" >TARGET</th>\n",
              "      <th class=\"col_heading level0 col2\" >SK_ID_CURR</th>\n",
              "    </tr>\n",
              "  </thead>\n",
              "  <tbody>\n",
              "    <tr>\n",
              "      <th id=\"T_f1e86_level0_row0\" class=\"row_heading level0 row0\" >0</th>\n",
              "      <td id=\"T_f1e86_row0_col0\" class=\"data row0 col0\" >FRIDAY</td>\n",
              "      <td id=\"T_f1e86_row0_col1\" class=\"data row0 col1\" >Default</td>\n",
              "      <td id=\"T_f1e86_row0_col2\" class=\"data row0 col2\" >823</td>\n",
              "    </tr>\n",
              "    <tr>\n",
              "      <th id=\"T_f1e86_level0_row1\" class=\"row_heading level0 row1\" >1</th>\n",
              "      <td id=\"T_f1e86_row1_col0\" class=\"data row1 col0\" >FRIDAY</td>\n",
              "      <td id=\"T_f1e86_row1_col1\" class=\"data row1 col1\" >Non Default</td>\n",
              "      <td id=\"T_f1e86_row1_col2\" class=\"data row1 col2\" >821</td>\n",
              "    </tr>\n",
              "    <tr>\n",
              "      <th id=\"T_f1e86_level0_row2\" class=\"row_heading level0 row2\" >2</th>\n",
              "      <td id=\"T_f1e86_row2_col0\" class=\"data row2 col0\" >MONDAY</td>\n",
              "      <td id=\"T_f1e86_row2_col1\" class=\"data row2 col1\" >Default</td>\n",
              "      <td id=\"T_f1e86_row2_col2\" class=\"data row2 col2\" >821</td>\n",
              "    </tr>\n",
              "    <tr>\n",
              "      <th id=\"T_f1e86_level0_row3\" class=\"row_heading level0 row3\" >3</th>\n",
              "      <td id=\"T_f1e86_row3_col0\" class=\"data row3 col0\" >MONDAY</td>\n",
              "      <td id=\"T_f1e86_row3_col1\" class=\"data row3 col1\" >Non Default</td>\n",
              "      <td id=\"T_f1e86_row3_col2\" class=\"data row3 col2\" >813</td>\n",
              "    </tr>\n",
              "    <tr>\n",
              "      <th id=\"T_f1e86_level0_row4\" class=\"row_heading level0 row4\" >4</th>\n",
              "      <td id=\"T_f1e86_row4_col0\" class=\"data row4 col0\" >SATURDAY</td>\n",
              "      <td id=\"T_f1e86_row4_col1\" class=\"data row4 col1\" >Default</td>\n",
              "      <td id=\"T_f1e86_row4_col2\" class=\"data row4 col2\" >519</td>\n",
              "    </tr>\n",
              "    <tr>\n",
              "      <th id=\"T_f1e86_level0_row5\" class=\"row_heading level0 row5\" >5</th>\n",
              "      <td id=\"T_f1e86_row5_col0\" class=\"data row5 col0\" >SATURDAY</td>\n",
              "      <td id=\"T_f1e86_row5_col1\" class=\"data row5 col1\" >Non Default</td>\n",
              "      <td id=\"T_f1e86_row5_col2\" class=\"data row5 col2\" >568</td>\n",
              "    </tr>\n",
              "    <tr>\n",
              "      <th id=\"T_f1e86_level0_row6\" class=\"row_heading level0 row6\" >6</th>\n",
              "      <td id=\"T_f1e86_row6_col0\" class=\"data row6 col0\" >SUNDAY</td>\n",
              "      <td id=\"T_f1e86_row6_col1\" class=\"data row6 col1\" >Default</td>\n",
              "      <td id=\"T_f1e86_row6_col2\" class=\"data row6 col2\" >267</td>\n",
              "    </tr>\n",
              "    <tr>\n",
              "      <th id=\"T_f1e86_level0_row7\" class=\"row_heading level0 row7\" >7</th>\n",
              "      <td id=\"T_f1e86_row7_col0\" class=\"data row7 col0\" >SUNDAY</td>\n",
              "      <td id=\"T_f1e86_row7_col1\" class=\"data row7 col1\" >Non Default</td>\n",
              "      <td id=\"T_f1e86_row7_col2\" class=\"data row7 col2\" >275</td>\n",
              "    </tr>\n",
              "    <tr>\n",
              "      <th id=\"T_f1e86_level0_row8\" class=\"row_heading level0 row8\" >8</th>\n",
              "      <td id=\"T_f1e86_row8_col0\" class=\"data row8 col0\" >THURSDAY</td>\n",
              "      <td id=\"T_f1e86_row8_col1\" class=\"data row8 col1\" >Default</td>\n",
              "      <td id=\"T_f1e86_row8_col2\" class=\"data row8 col2\" >850</td>\n",
              "    </tr>\n",
              "    <tr>\n",
              "      <th id=\"T_f1e86_level0_row9\" class=\"row_heading level0 row9\" >9</th>\n",
              "      <td id=\"T_f1e86_row9_col0\" class=\"data row9 col0\" >THURSDAY</td>\n",
              "      <td id=\"T_f1e86_row9_col1\" class=\"data row9 col1\" >Non Default</td>\n",
              "      <td id=\"T_f1e86_row9_col2\" class=\"data row9 col2\" >823</td>\n",
              "    </tr>\n",
              "    <tr>\n",
              "      <th id=\"T_f1e86_level0_row10\" class=\"row_heading level0 row10\" >10</th>\n",
              "      <td id=\"T_f1e86_row10_col0\" class=\"data row10 col0\" >TUESDAY</td>\n",
              "      <td id=\"T_f1e86_row10_col1\" class=\"data row10 col1\" >Default</td>\n",
              "      <td id=\"T_f1e86_row10_col2\" class=\"data row10 col2\" >880</td>\n",
              "    </tr>\n",
              "    <tr>\n",
              "      <th id=\"T_f1e86_level0_row11\" class=\"row_heading level0 row11\" >11</th>\n",
              "      <td id=\"T_f1e86_row11_col0\" class=\"data row11 col0\" >TUESDAY</td>\n",
              "      <td id=\"T_f1e86_row11_col1\" class=\"data row11 col1\" >Non Default</td>\n",
              "      <td id=\"T_f1e86_row11_col2\" class=\"data row11 col2\" >872</td>\n",
              "    </tr>\n",
              "    <tr>\n",
              "      <th id=\"T_f1e86_level0_row12\" class=\"row_heading level0 row12\" >12</th>\n",
              "      <td id=\"T_f1e86_row12_col0\" class=\"data row12 col0\" >WEDNESDAY</td>\n",
              "      <td id=\"T_f1e86_row12_col1\" class=\"data row12 col1\" >Default</td>\n",
              "      <td id=\"T_f1e86_row12_col2\" class=\"data row12 col2\" >840</td>\n",
              "    </tr>\n",
              "    <tr>\n",
              "      <th id=\"T_f1e86_level0_row13\" class=\"row_heading level0 row13\" >13</th>\n",
              "      <td id=\"T_f1e86_row13_col0\" class=\"data row13 col0\" >WEDNESDAY</td>\n",
              "      <td id=\"T_f1e86_row13_col1\" class=\"data row13 col1\" >Non Default</td>\n",
              "      <td id=\"T_f1e86_row13_col2\" class=\"data row13 col2\" >828</td>\n",
              "    </tr>\n",
              "  </tbody>\n",
              "</table>\n"
            ]
          },
          "metadata": {},
          "execution_count": 90
        }
      ]
    },
    {
      "cell_type": "code",
      "source": [
        "data[['WEEKDAY_APPR_PROCESS_START','TARGET']].groupby(['WEEKDAY_APPR_PROCESS_START'],as_index=False).mean().sort_values(by=['TARGET'], ascending=False)"
      ],
      "metadata": {
        "colab": {
          "base_uri": "https://localhost:8080/",
          "height": 269
        },
        "id": "Fh_H94l5DIeE",
        "outputId": "05d10dab-3560-43af-eae9-4bc44ae2aafb"
      },
      "execution_count": 91,
      "outputs": [
        {
          "output_type": "execute_result",
          "data": {
            "text/plain": [
              "  WEEKDAY_APPR_PROCESS_START    TARGET\n",
              "4                   THURSDAY  0.508069\n",
              "6                  WEDNESDAY  0.503597\n",
              "1                     MONDAY  0.502448\n",
              "5                    TUESDAY  0.502283\n",
              "0                     FRIDAY  0.500608\n",
              "3                     SUNDAY  0.492620\n",
              "2                   SATURDAY  0.477461"
            ],
            "text/html": [
              "\n",
              "  <div id=\"df-5b37f194-105a-48d9-a2ce-3cbe6e268421\">\n",
              "    <div class=\"colab-df-container\">\n",
              "      <div>\n",
              "<style scoped>\n",
              "    .dataframe tbody tr th:only-of-type {\n",
              "        vertical-align: middle;\n",
              "    }\n",
              "\n",
              "    .dataframe tbody tr th {\n",
              "        vertical-align: top;\n",
              "    }\n",
              "\n",
              "    .dataframe thead th {\n",
              "        text-align: right;\n",
              "    }\n",
              "</style>\n",
              "<table border=\"1\" class=\"dataframe\">\n",
              "  <thead>\n",
              "    <tr style=\"text-align: right;\">\n",
              "      <th></th>\n",
              "      <th>WEEKDAY_APPR_PROCESS_START</th>\n",
              "      <th>TARGET</th>\n",
              "    </tr>\n",
              "  </thead>\n",
              "  <tbody>\n",
              "    <tr>\n",
              "      <th>4</th>\n",
              "      <td>THURSDAY</td>\n",
              "      <td>0.508069</td>\n",
              "    </tr>\n",
              "    <tr>\n",
              "      <th>6</th>\n",
              "      <td>WEDNESDAY</td>\n",
              "      <td>0.503597</td>\n",
              "    </tr>\n",
              "    <tr>\n",
              "      <th>1</th>\n",
              "      <td>MONDAY</td>\n",
              "      <td>0.502448</td>\n",
              "    </tr>\n",
              "    <tr>\n",
              "      <th>5</th>\n",
              "      <td>TUESDAY</td>\n",
              "      <td>0.502283</td>\n",
              "    </tr>\n",
              "    <tr>\n",
              "      <th>0</th>\n",
              "      <td>FRIDAY</td>\n",
              "      <td>0.500608</td>\n",
              "    </tr>\n",
              "    <tr>\n",
              "      <th>3</th>\n",
              "      <td>SUNDAY</td>\n",
              "      <td>0.492620</td>\n",
              "    </tr>\n",
              "    <tr>\n",
              "      <th>2</th>\n",
              "      <td>SATURDAY</td>\n",
              "      <td>0.477461</td>\n",
              "    </tr>\n",
              "  </tbody>\n",
              "</table>\n",
              "</div>\n",
              "      <button class=\"colab-df-convert\" onclick=\"convertToInteractive('df-5b37f194-105a-48d9-a2ce-3cbe6e268421')\"\n",
              "              title=\"Convert this dataframe to an interactive table.\"\n",
              "              style=\"display:none;\">\n",
              "        \n",
              "  <svg xmlns=\"http://www.w3.org/2000/svg\" height=\"24px\"viewBox=\"0 0 24 24\"\n",
              "       width=\"24px\">\n",
              "    <path d=\"M0 0h24v24H0V0z\" fill=\"none\"/>\n",
              "    <path d=\"M18.56 5.44l.94 2.06.94-2.06 2.06-.94-2.06-.94-.94-2.06-.94 2.06-2.06.94zm-11 1L8.5 8.5l.94-2.06 2.06-.94-2.06-.94L8.5 2.5l-.94 2.06-2.06.94zm10 10l.94 2.06.94-2.06 2.06-.94-2.06-.94-.94-2.06-.94 2.06-2.06.94z\"/><path d=\"M17.41 7.96l-1.37-1.37c-.4-.4-.92-.59-1.43-.59-.52 0-1.04.2-1.43.59L10.3 9.45l-7.72 7.72c-.78.78-.78 2.05 0 2.83L4 21.41c.39.39.9.59 1.41.59.51 0 1.02-.2 1.41-.59l7.78-7.78 2.81-2.81c.8-.78.8-2.07 0-2.86zM5.41 20L4 18.59l7.72-7.72 1.47 1.35L5.41 20z\"/>\n",
              "  </svg>\n",
              "      </button>\n",
              "      \n",
              "  <style>\n",
              "    .colab-df-container {\n",
              "      display:flex;\n",
              "      flex-wrap:wrap;\n",
              "      gap: 12px;\n",
              "    }\n",
              "\n",
              "    .colab-df-convert {\n",
              "      background-color: #E8F0FE;\n",
              "      border: none;\n",
              "      border-radius: 50%;\n",
              "      cursor: pointer;\n",
              "      display: none;\n",
              "      fill: #1967D2;\n",
              "      height: 32px;\n",
              "      padding: 0 0 0 0;\n",
              "      width: 32px;\n",
              "    }\n",
              "\n",
              "    .colab-df-convert:hover {\n",
              "      background-color: #E2EBFA;\n",
              "      box-shadow: 0px 1px 2px rgba(60, 64, 67, 0.3), 0px 1px 3px 1px rgba(60, 64, 67, 0.15);\n",
              "      fill: #174EA6;\n",
              "    }\n",
              "\n",
              "    [theme=dark] .colab-df-convert {\n",
              "      background-color: #3B4455;\n",
              "      fill: #D2E3FC;\n",
              "    }\n",
              "\n",
              "    [theme=dark] .colab-df-convert:hover {\n",
              "      background-color: #434B5C;\n",
              "      box-shadow: 0px 1px 3px 1px rgba(0, 0, 0, 0.15);\n",
              "      filter: drop-shadow(0px 1px 2px rgba(0, 0, 0, 0.3));\n",
              "      fill: #FFFFFF;\n",
              "    }\n",
              "  </style>\n",
              "\n",
              "      <script>\n",
              "        const buttonEl =\n",
              "          document.querySelector('#df-5b37f194-105a-48d9-a2ce-3cbe6e268421 button.colab-df-convert');\n",
              "        buttonEl.style.display =\n",
              "          google.colab.kernel.accessAllowed ? 'block' : 'none';\n",
              "\n",
              "        async function convertToInteractive(key) {\n",
              "          const element = document.querySelector('#df-5b37f194-105a-48d9-a2ce-3cbe6e268421');\n",
              "          const dataTable =\n",
              "            await google.colab.kernel.invokeFunction('convertToInteractive',\n",
              "                                                     [key], {});\n",
              "          if (!dataTable) return;\n",
              "\n",
              "          const docLinkHtml = 'Like what you see? Visit the ' +\n",
              "            '<a target=\"_blank\" href=https://colab.research.google.com/notebooks/data_table.ipynb>data table notebook</a>'\n",
              "            + ' to learn more about interactive tables.';\n",
              "          element.innerHTML = '';\n",
              "          dataTable['output_type'] = 'display_data';\n",
              "          await google.colab.output.renderOutput(dataTable, element);\n",
              "          const docLink = document.createElement('div');\n",
              "          docLink.innerHTML = docLinkHtml;\n",
              "          element.appendChild(docLink);\n",
              "        }\n",
              "      </script>\n",
              "    </div>\n",
              "  </div>\n",
              "  "
            ]
          },
          "metadata": {},
          "execution_count": 91
        }
      ]
    },
    {
      "cell_type": "code",
      "source": [
        "# visualization\n",
        "plt.figure(figsize=(15,8))\n",
        "fig = sns.countplot(x='WEEKDAY_APPR_PROCESS_START', data = df, hue = 'TARGET', palette = 'ch:start=0.2,rot=-.3_r')\n",
        "plt.title('Clients Repayment Abilities By Process Day\\n', fontweight='bold', fontsize=14)\n",
        "plt.xlabel('\\nProcess Day', fontsize=12)"
      ],
      "metadata": {
        "colab": {
          "base_uri": "https://localhost:8080/",
          "height": 410
        },
        "id": "rvduxyxODMZw",
        "outputId": "b8769f0c-9231-4f20-a0e2-954dd365bdd5"
      },
      "execution_count": 92,
      "outputs": [
        {
          "output_type": "execute_result",
          "data": {
            "text/plain": [
              "Text(0.5, 0, '\\nProcess Day')"
            ]
          },
          "metadata": {},
          "execution_count": 92
        },
        {
          "output_type": "display_data",
          "data": {
            "text/plain": [
              "<Figure size 1080x576 with 1 Axes>"
            ],
            "image/png": "[encoded data removed]"
          },
          "metadata": {}
        }
      ]
    },
    {
      "cell_type": "markdown",
      "source": [
        "Dapat dilihat bahwa setiap hari pemrosesan aplikasi memiliki persentase yang hampir sama (sekitar 7% - 8%) dalam TARGET = 1, yaitu mengalami masalah dalam pengembalian pinjaman."
      ],
      "metadata": {
        "id": "qaZ7x8qNDU54"
      }
    },
    {
      "cell_type": "markdown",
      "source": [
        "Organization Type Vs Target"
      ],
      "metadata": {
        "id": "6vhxTWZtDXei"
      }
    },
    {
      "cell_type": "code",
      "source": [
        "tt = df.groupby(by=['ORGANIZATION_TYPE','TARGET'], as_index=False)['SK_ID_CURR'].count()\n",
        "print('Clients Repayment Abilities By Suite Type')\n",
        "tt.sort_values(by='SK_ID_CURR', ascending=False)\n",
        "tt.style.background_gradient(cmap='Blues')"
      ],
      "metadata": {
        "colab": {
          "base_uri": "https://localhost:8080/",
          "height": 1000
        },
        "id": "g0ve9NqDDYPQ",
        "outputId": "be96a5b6-3487-404e-ab91-e07071dc67eb"
      },
      "execution_count": 93,
      "outputs": [
        {
          "output_type": "stream",
          "name": "stdout",
          "text": [
            "Clients Repayment Abilities By Suite Type\n"
          ]
        },
        {
          "output_type": "execute_result",
          "data": {
            "text/plain": [
              "<pandas.io.formats.style.Styler at 0x7f3171215d90>"
            ],
            "text/html": [
              "<style type=\"text/css\">\n",
              "#T_28415_row0_col2, #T_28415_row20_col2, #T_28415_row35_col2, #T_28415_row39_col2, #T_28415_row43_col2, #T_28415_row44_col2, #T_28415_row45_col2, #T_28415_row53_col2, #T_28415_row58_col2, #T_28415_row64_col2, #T_28415_row71_col2, #T_28415_row87_col2, #T_28415_row88_col2, #T_28415_row89_col2, #T_28415_row98_col2 {\n",
              "  background-color: #f6faff;\n",
              "  color: #000000;\n",
              "}\n",
              "#T_28415_row1_col2, #T_28415_row12_col2, #T_28415_row13_col2, #T_28415_row16_col2, #T_28415_row17_col2, #T_28415_row30_col2, #T_28415_row31_col2, #T_28415_row34_col2, #T_28415_row36_col2, #T_28415_row37_col2, #T_28415_row46_col2, #T_28415_row47_col2, #T_28415_row50_col2, #T_28415_row57_col2, #T_28415_row63_col2, #T_28415_row72_col2, #T_28415_row73_col2, #T_28415_row74_col2, #T_28415_row90_col2, #T_28415_row95_col2, #T_28415_row96_col2, #T_28415_row97_col2, #T_28415_row102_col2, #T_28415_row103_col2 {\n",
              "  background-color: #f7fbff;\n",
              "  color: #000000;\n",
              "}\n",
              "#T_28415_row2_col2, #T_28415_row27_col2, #T_28415_row40_col2, #T_28415_row94_col2 {\n",
              "  background-color: #eef5fc;\n",
              "  color: #000000;\n",
              "}\n",
              "#T_28415_row3_col2, #T_28415_row5_col2, #T_28415_row32_col2, #T_28415_row69_col2, #T_28415_row70_col2, #T_28415_row80_col2, #T_28415_row104_col2 {\n",
              "  background-color: #f2f7fd;\n",
              "  color: #000000;\n",
              "}\n",
              "#T_28415_row4_col2, #T_28415_row91_col2, #T_28415_row92_col2, #T_28415_row106_col2 {\n",
              "  background-color: #f3f8fe;\n",
              "  color: #000000;\n",
              "}\n",
              "#T_28415_row6_col2, #T_28415_row77_col2, #T_28415_row101_col2 {\n",
              "  background-color: #e7f0fa;\n",
              "  color: #000000;\n",
              "}\n",
              "#T_28415_row7_col2, #T_28415_row108_col2 {\n",
              "  background-color: #eaf3fb;\n",
              "  color: #000000;\n",
              "}\n",
              "#T_28415_row8_col2, #T_28415_row9_col2 {\n",
              "  background-color: #ddeaf7;\n",
              "  color: #000000;\n",
              "}\n",
              "#T_28415_row10_col2 {\n",
              "  background-color: #08306b;\n",
              "  color: #f1f1f1;\n",
              "}\n",
              "#T_28415_row11_col2 {\n",
              "  background-color: #09529d;\n",
              "  color: #f1f1f1;\n",
              "}\n",
              "#T_28415_row14_col2 {\n",
              "  background-color: #e2edf8;\n",
              "  color: #000000;\n",
              "}\n",
              "#T_28415_row15_col2 {\n",
              "  background-color: #e7f1fa;\n",
              "  color: #000000;\n",
              "}\n",
              "#T_28415_row18_col2, #T_28415_row24_col2, #T_28415_row25_col2, #T_28415_row49_col2, #T_28415_row81_col2 {\n",
              "  background-color: #f5f9fe;\n",
              "  color: #000000;\n",
              "}\n",
              "#T_28415_row19_col2, #T_28415_row21_col2, #T_28415_row29_col2, #T_28415_row38_col2, #T_28415_row54_col2, #T_28415_row99_col2, #T_28415_row110_col2 {\n",
              "  background-color: #f5fafe;\n",
              "  color: #000000;\n",
              "}\n",
              "#T_28415_row22_col2, #T_28415_row59_col2, #T_28415_row100_col2 {\n",
              "  background-color: #dfebf7;\n",
              "  color: #000000;\n",
              "}\n",
              "#T_28415_row23_col2 {\n",
              "  background-color: #dceaf6;\n",
              "  color: #000000;\n",
              "}\n",
              "#T_28415_row26_col2 {\n",
              "  background-color: #f0f6fd;\n",
              "  color: #000000;\n",
              "}\n",
              "#T_28415_row28_col2, #T_28415_row42_col2, #T_28415_row48_col2, #T_28415_row67_col2, #T_28415_row76_col2, #T_28415_row85_col2, #T_28415_row107_col2, #T_28415_row111_col2 {\n",
              "  background-color: #f4f9fe;\n",
              "  color: #000000;\n",
              "}\n",
              "#T_28415_row33_col2, #T_28415_row41_col2, #T_28415_row51_col2, #T_28415_row52_col2, #T_28415_row105_col2 {\n",
              "  background-color: #eff6fc;\n",
              "  color: #000000;\n",
              "}\n",
              "#T_28415_row55_col2 {\n",
              "  background-color: #eaf2fb;\n",
              "  color: #000000;\n",
              "}\n",
              "#T_28415_row56_col2 {\n",
              "  background-color: #e4eff9;\n",
              "  color: #000000;\n",
              "}\n",
              "#T_28415_row60_col2 {\n",
              "  background-color: #dae8f6;\n",
              "  color: #000000;\n",
              "}\n",
              "#T_28415_row61_col2, #T_28415_row68_col2, #T_28415_row82_col2 {\n",
              "  background-color: #f2f8fd;\n",
              "  color: #000000;\n",
              "}\n",
              "#T_28415_row62_col2, #T_28415_row75_col2, #T_28415_row86_col2 {\n",
              "  background-color: #f1f7fd;\n",
              "  color: #000000;\n",
              "}\n",
              "#T_28415_row65_col2 {\n",
              "  background-color: #d0e1f2;\n",
              "  color: #000000;\n",
              "}\n",
              "#T_28415_row66_col2 {\n",
              "  background-color: #cadef0;\n",
              "  color: #000000;\n",
              "}\n",
              "#T_28415_row78_col2 {\n",
              "  background-color: #e3eef8;\n",
              "  color: #000000;\n",
              "}\n",
              "#T_28415_row79_col2 {\n",
              "  background-color: #ecf4fb;\n",
              "  color: #000000;\n",
              "}\n",
              "#T_28415_row83_col2 {\n",
              "  background-color: #3f8fc5;\n",
              "  color: #f1f1f1;\n",
              "}\n",
              "#T_28415_row84_col2 {\n",
              "  background-color: #63a8d3;\n",
              "  color: #f1f1f1;\n",
              "}\n",
              "#T_28415_row93_col2, #T_28415_row109_col2 {\n",
              "  background-color: #ebf3fb;\n",
              "  color: #000000;\n",
              "}\n",
              "#T_28415_row112_col2 {\n",
              "  background-color: #6caed6;\n",
              "  color: #f1f1f1;\n",
              "}\n",
              "#T_28415_row113_col2 {\n",
              "  background-color: #2272b6;\n",
              "  color: #f1f1f1;\n",
              "}\n",
              "</style>\n",
              "<table id=\"T_28415_\" class=\"dataframe\">\n",
              "  <thead>\n",
              "    <tr>\n",
              "      <th class=\"blank level0\" >&nbsp;</th>\n",
              "      <th class=\"col_heading level0 col0\" >ORGANIZATION_TYPE</th>\n",
              "      <th class=\"col_heading level0 col1\" >TARGET</th>\n",
              "      <th class=\"col_heading level0 col2\" >SK_ID_CURR</th>\n",
              "    </tr>\n",
              "  </thead>\n",
              "  <tbody>\n",
              "    <tr>\n",
              "      <th id=\"T_28415_level0_row0\" class=\"row_heading level0 row0\" >0</th>\n",
              "      <td id=\"T_28415_row0_col0\" class=\"data row0 col0\" >Advertising</td>\n",
              "      <td id=\"T_28415_row0_col1\" class=\"data row0 col1\" >Default</td>\n",
              "      <td id=\"T_28415_row0_col2\" class=\"data row0 col2\" >9</td>\n",
              "    </tr>\n",
              "    <tr>\n",
              "      <th id=\"T_28415_level0_row1\" class=\"row_heading level0 row1\" >1</th>\n",
              "      <td id=\"T_28415_row1_col0\" class=\"data row1 col0\" >Advertising</td>\n",
              "      <td id=\"T_28415_row1_col1\" class=\"data row1 col1\" >Non Default</td>\n",
              "      <td id=\"T_28415_row1_col2\" class=\"data row1 col2\" >5</td>\n",
              "    </tr>\n",
              "    <tr>\n",
              "      <th id=\"T_28415_level0_row2\" class=\"row_heading level0 row2\" >2</th>\n",
              "      <td id=\"T_28415_row2_col0\" class=\"data row2 col0\" >Agriculture</td>\n",
              "      <td id=\"T_28415_row2_col1\" class=\"data row2 col1\" >Default</td>\n",
              "      <td id=\"T_28415_row2_col2\" class=\"data row2 col2\" >60</td>\n",
              "    </tr>\n",
              "    <tr>\n",
              "      <th id=\"T_28415_level0_row3\" class=\"row_heading level0 row3\" >3</th>\n",
              "      <td id=\"T_28415_row3_col0\" class=\"data row3 col0\" >Agriculture</td>\n",
              "      <td id=\"T_28415_row3_col1\" class=\"data row3 col1\" >Non Default</td>\n",
              "      <td id=\"T_28415_row3_col2\" class=\"data row3 col2\" >37</td>\n",
              "    </tr>\n",
              "    <tr>\n",
              "      <th id=\"T_28415_level0_row4\" class=\"row_heading level0 row4\" >4</th>\n",
              "      <td id=\"T_28415_row4_col0\" class=\"data row4 col0\" >Bank</td>\n",
              "      <td id=\"T_28415_row4_col1\" class=\"data row4 col1\" >Default</td>\n",
              "      <td id=\"T_28415_row4_col2\" class=\"data row4 col2\" >30</td>\n",
              "    </tr>\n",
              "    <tr>\n",
              "      <th id=\"T_28415_level0_row5\" class=\"row_heading level0 row5\" >5</th>\n",
              "      <td id=\"T_28415_row5_col0\" class=\"data row5 col0\" >Bank</td>\n",
              "      <td id=\"T_28415_row5_col1\" class=\"data row5 col1\" >Non Default</td>\n",
              "      <td id=\"T_28415_row5_col2\" class=\"data row5 col2\" >40</td>\n",
              "    </tr>\n",
              "    <tr>\n",
              "      <th id=\"T_28415_level0_row6\" class=\"row_heading level0 row6\" >6</th>\n",
              "      <td id=\"T_28415_row6_col0\" class=\"data row6 col0\" >Business Entity Type 1</td>\n",
              "      <td id=\"T_28415_row6_col1\" class=\"data row6 col1\" >Default</td>\n",
              "      <td id=\"T_28415_row6_col2\" class=\"data row6 col2\" >107</td>\n",
              "    </tr>\n",
              "    <tr>\n",
              "      <th id=\"T_28415_level0_row7\" class=\"row_heading level0 row7\" >7</th>\n",
              "      <td id=\"T_28415_row7_col0\" class=\"data row7 col0\" >Business Entity Type 1</td>\n",
              "      <td id=\"T_28415_row7_col1\" class=\"data row7 col1\" >Non Default</td>\n",
              "      <td id=\"T_28415_row7_col2\" class=\"data row7 col2\" >81</td>\n",
              "    </tr>\n",
              "    <tr>\n",
              "      <th id=\"T_28415_level0_row8\" class=\"row_heading level0 row8\" >8</th>\n",
              "      <td id=\"T_28415_row8_col0\" class=\"data row8 col0\" >Business Entity Type 2</td>\n",
              "      <td id=\"T_28415_row8_col1\" class=\"data row8 col1\" >Default</td>\n",
              "      <td id=\"T_28415_row8_col2\" class=\"data row8 col2\" >165</td>\n",
              "    </tr>\n",
              "    <tr>\n",
              "      <th id=\"T_28415_level0_row9\" class=\"row_heading level0 row9\" >9</th>\n",
              "      <td id=\"T_28415_row9_col0\" class=\"data row9 col0\" >Business Entity Type 2</td>\n",
              "      <td id=\"T_28415_row9_col1\" class=\"data row9 col1\" >Non Default</td>\n",
              "      <td id=\"T_28415_row9_col2\" class=\"data row9 col2\" >165</td>\n",
              "    </tr>\n",
              "    <tr>\n",
              "      <th id=\"T_28415_level0_row10\" class=\"row_heading level0 row10\" >10</th>\n",
              "      <td id=\"T_28415_row10_col0\" class=\"data row10 col0\" >Business Entity Type 3</td>\n",
              "      <td id=\"T_28415_row10_col1\" class=\"data row10 col1\" >Default</td>\n",
              "      <td id=\"T_28415_row10_col2\" class=\"data row10 col2\" >1252</td>\n",
              "    </tr>\n",
              "    <tr>\n",
              "      <th id=\"T_28415_level0_row11\" class=\"row_heading level0 row11\" >11</th>\n",
              "      <td id=\"T_28415_row11_col0\" class=\"data row11 col0\" >Business Entity Type 3</td>\n",
              "      <td id=\"T_28415_row11_col1\" class=\"data row11 col1\" >Non Default</td>\n",
              "      <td id=\"T_28415_row11_col2\" class=\"data row11 col2\" >1089</td>\n",
              "    </tr>\n",
              "    <tr>\n",
              "      <th id=\"T_28415_level0_row12\" class=\"row_heading level0 row12\" >12</th>\n",
              "      <td id=\"T_28415_row12_col0\" class=\"data row12 col0\" >Cleaning</td>\n",
              "      <td id=\"T_28415_row12_col1\" class=\"data row12 col1\" >Default</td>\n",
              "      <td id=\"T_28415_row12_col2\" class=\"data row12 col2\" >3</td>\n",
              "    </tr>\n",
              "    <tr>\n",
              "      <th id=\"T_28415_level0_row13\" class=\"row_heading level0 row13\" >13</th>\n",
              "      <td id=\"T_28415_row13_col0\" class=\"data row13 col0\" >Cleaning</td>\n",
              "      <td id=\"T_28415_row13_col1\" class=\"data row13 col1\" >Non Default</td>\n",
              "      <td id=\"T_28415_row13_col2\" class=\"data row13 col2\" >4</td>\n",
              "    </tr>\n",
              "    <tr>\n",
              "      <th id=\"T_28415_level0_row14\" class=\"row_heading level0 row14\" >14</th>\n",
              "      <td id=\"T_28415_row14_col0\" class=\"data row14 col0\" >Construction</td>\n",
              "      <td id=\"T_28415_row14_col1\" class=\"data row14 col1\" >Default</td>\n",
              "      <td id=\"T_28415_row14_col2\" class=\"data row14 col2\" >135</td>\n",
              "    </tr>\n",
              "    <tr>\n",
              "      <th id=\"T_28415_level0_row15\" class=\"row_heading level0 row15\" >15</th>\n",
              "      <td id=\"T_28415_row15_col0\" class=\"data row15 col0\" >Construction</td>\n",
              "      <td id=\"T_28415_row15_col1\" class=\"data row15 col1\" >Non Default</td>\n",
              "      <td id=\"T_28415_row15_col2\" class=\"data row15 col2\" >101</td>\n",
              "    </tr>\n",
              "    <tr>\n",
              "      <th id=\"T_28415_level0_row16\" class=\"row_heading level0 row16\" >16</th>\n",
              "      <td id=\"T_28415_row16_col0\" class=\"data row16 col0\" >Culture</td>\n",
              "      <td id=\"T_28415_row16_col1\" class=\"data row16 col1\" >Default</td>\n",
              "      <td id=\"T_28415_row16_col2\" class=\"data row16 col2\" >3</td>\n",
              "    </tr>\n",
              "    <tr>\n",
              "      <th id=\"T_28415_level0_row17\" class=\"row_heading level0 row17\" >17</th>\n",
              "      <td id=\"T_28415_row17_col0\" class=\"data row17 col0\" >Culture</td>\n",
              "      <td id=\"T_28415_row17_col1\" class=\"data row17 col1\" >Non Default</td>\n",
              "      <td id=\"T_28415_row17_col2\" class=\"data row17 col2\" >4</td>\n",
              "    </tr>\n",
              "    <tr>\n",
              "      <th id=\"T_28415_level0_row18\" class=\"row_heading level0 row18\" >18</th>\n",
              "      <td id=\"T_28415_row18_col0\" class=\"data row18 col0\" >Electricity</td>\n",
              "      <td id=\"T_28415_row18_col1\" class=\"data row18 col1\" >Default</td>\n",
              "      <td id=\"T_28415_row18_col2\" class=\"data row18 col2\" >16</td>\n",
              "    </tr>\n",
              "    <tr>\n",
              "      <th id=\"T_28415_level0_row19\" class=\"row_heading level0 row19\" >19</th>\n",
              "      <td id=\"T_28415_row19_col0\" class=\"data row19 col0\" >Electricity</td>\n",
              "      <td id=\"T_28415_row19_col1\" class=\"data row19 col1\" >Non Default</td>\n",
              "      <td id=\"T_28415_row19_col2\" class=\"data row19 col2\" >13</td>\n",
              "    </tr>\n",
              "    <tr>\n",
              "      <th id=\"T_28415_level0_row20\" class=\"row_heading level0 row20\" >20</th>\n",
              "      <td id=\"T_28415_row20_col0\" class=\"data row20 col0\" >Emergency</td>\n",
              "      <td id=\"T_28415_row20_col1\" class=\"data row20 col1\" >Default</td>\n",
              "      <td id=\"T_28415_row20_col2\" class=\"data row20 col2\" >8</td>\n",
              "    </tr>\n",
              "    <tr>\n",
              "      <th id=\"T_28415_level0_row21\" class=\"row_heading level0 row21\" >21</th>\n",
              "      <td id=\"T_28415_row21_col0\" class=\"data row21 col0\" >Emergency</td>\n",
              "      <td id=\"T_28415_row21_col1\" class=\"data row21 col1\" >Non Default</td>\n",
              "      <td id=\"T_28415_row21_col2\" class=\"data row21 col2\" >14</td>\n",
              "    </tr>\n",
              "    <tr>\n",
              "      <th id=\"T_28415_level0_row22\" class=\"row_heading level0 row22\" >22</th>\n",
              "      <td id=\"T_28415_row22_col0\" class=\"data row22 col0\" >Government</td>\n",
              "      <td id=\"T_28415_row22_col1\" class=\"data row22 col1\" >Default</td>\n",
              "      <td id=\"T_28415_row22_col2\" class=\"data row22 col2\" >154</td>\n",
              "    </tr>\n",
              "    <tr>\n",
              "      <th id=\"T_28415_level0_row23\" class=\"row_heading level0 row23\" >23</th>\n",
              "      <td id=\"T_28415_row23_col0\" class=\"data row23 col0\" >Government</td>\n",
              "      <td id=\"T_28415_row23_col1\" class=\"data row23 col1\" >Non Default</td>\n",
              "      <td id=\"T_28415_row23_col2\" class=\"data row23 col2\" >172</td>\n",
              "    </tr>\n",
              "    <tr>\n",
              "      <th id=\"T_28415_level0_row24\" class=\"row_heading level0 row24\" >24</th>\n",
              "      <td id=\"T_28415_row24_col0\" class=\"data row24 col0\" >Hotel</td>\n",
              "      <td id=\"T_28415_row24_col1\" class=\"data row24 col1\" >Default</td>\n",
              "      <td id=\"T_28415_row24_col2\" class=\"data row24 col2\" >17</td>\n",
              "    </tr>\n",
              "    <tr>\n",
              "      <th id=\"T_28415_level0_row25\" class=\"row_heading level0 row25\" >25</th>\n",
              "      <td id=\"T_28415_row25_col0\" class=\"data row25 col0\" >Hotel</td>\n",
              "      <td id=\"T_28415_row25_col1\" class=\"data row25 col1\" >Non Default</td>\n",
              "      <td id=\"T_28415_row25_col2\" class=\"data row25 col2\" >20</td>\n",
              "    </tr>\n",
              "    <tr>\n",
              "      <th id=\"T_28415_level0_row26\" class=\"row_heading level0 row26\" >26</th>\n",
              "      <td id=\"T_28415_row26_col0\" class=\"data row26 col0\" >Housing</td>\n",
              "      <td id=\"T_28415_row26_col1\" class=\"data row26 col1\" >Default</td>\n",
              "      <td id=\"T_28415_row26_col2\" class=\"data row26 col2\" >46</td>\n",
              "    </tr>\n",
              "    <tr>\n",
              "      <th id=\"T_28415_level0_row27\" class=\"row_heading level0 row27\" >27</th>\n",
              "      <td id=\"T_28415_row27_col0\" class=\"data row27 col0\" >Housing</td>\n",
              "      <td id=\"T_28415_row27_col1\" class=\"data row27 col1\" >Non Default</td>\n",
              "      <td id=\"T_28415_row27_col2\" class=\"data row27 col2\" >55</td>\n",
              "    </tr>\n",
              "    <tr>\n",
              "      <th id=\"T_28415_level0_row28\" class=\"row_heading level0 row28\" >28</th>\n",
              "      <td id=\"T_28415_row28_col0\" class=\"data row28 col0\" >Industry: type 1</td>\n",
              "      <td id=\"T_28415_row28_col1\" class=\"data row28 col1\" >Default</td>\n",
              "      <td id=\"T_28415_row28_col2\" class=\"data row28 col2\" >23</td>\n",
              "    </tr>\n",
              "    <tr>\n",
              "      <th id=\"T_28415_level0_row29\" class=\"row_heading level0 row29\" >29</th>\n",
              "      <td id=\"T_28415_row29_col0\" class=\"data row29 col0\" >Industry: type 1</td>\n",
              "      <td id=\"T_28415_row29_col1\" class=\"data row29 col1\" >Non Default</td>\n",
              "      <td id=\"T_28415_row29_col2\" class=\"data row29 col2\" >15</td>\n",
              "    </tr>\n",
              "    <tr>\n",
              "      <th id=\"T_28415_level0_row30\" class=\"row_heading level0 row30\" >30</th>\n",
              "      <td id=\"T_28415_row30_col0\" class=\"data row30 col0\" >Industry: type 10</td>\n",
              "      <td id=\"T_28415_row30_col1\" class=\"data row30 col1\" >Default</td>\n",
              "      <td id=\"T_28415_row30_col2\" class=\"data row30 col2\" >1</td>\n",
              "    </tr>\n",
              "    <tr>\n",
              "      <th id=\"T_28415_level0_row31\" class=\"row_heading level0 row31\" >31</th>\n",
              "      <td id=\"T_28415_row31_col0\" class=\"data row31 col0\" >Industry: type 10</td>\n",
              "      <td id=\"T_28415_row31_col1\" class=\"data row31 col1\" >Non Default</td>\n",
              "      <td id=\"T_28415_row31_col2\" class=\"data row31 col2\" >5</td>\n",
              "    </tr>\n",
              "    <tr>\n",
              "      <th id=\"T_28415_level0_row32\" class=\"row_heading level0 row32\" >32</th>\n",
              "      <td id=\"T_28415_row32_col0\" class=\"data row32 col0\" >Industry: type 11</td>\n",
              "      <td id=\"T_28415_row32_col1\" class=\"data row32 col1\" >Default</td>\n",
              "      <td id=\"T_28415_row32_col2\" class=\"data row32 col2\" >37</td>\n",
              "    </tr>\n",
              "    <tr>\n",
              "      <th id=\"T_28415_level0_row33\" class=\"row_heading level0 row33\" >33</th>\n",
              "      <td id=\"T_28415_row33_col0\" class=\"data row33 col0\" >Industry: type 11</td>\n",
              "      <td id=\"T_28415_row33_col1\" class=\"data row33 col1\" >Non Default</td>\n",
              "      <td id=\"T_28415_row33_col2\" class=\"data row33 col2\" >50</td>\n",
              "    </tr>\n",
              "    <tr>\n",
              "      <th id=\"T_28415_level0_row34\" class=\"row_heading level0 row34\" >34</th>\n",
              "      <td id=\"T_28415_row34_col0\" class=\"data row34 col0\" >Industry: type 12</td>\n",
              "      <td id=\"T_28415_row34_col1\" class=\"data row34 col1\" >Default</td>\n",
              "      <td id=\"T_28415_row34_col2\" class=\"data row34 col2\" >3</td>\n",
              "    </tr>\n",
              "    <tr>\n",
              "      <th id=\"T_28415_level0_row35\" class=\"row_heading level0 row35\" >35</th>\n",
              "      <td id=\"T_28415_row35_col0\" class=\"data row35 col0\" >Industry: type 12</td>\n",
              "      <td id=\"T_28415_row35_col1\" class=\"data row35 col1\" >Non Default</td>\n",
              "      <td id=\"T_28415_row35_col2\" class=\"data row35 col2\" >9</td>\n",
              "    </tr>\n",
              "    <tr>\n",
              "      <th id=\"T_28415_level0_row36\" class=\"row_heading level0 row36\" >36</th>\n",
              "      <td id=\"T_28415_row36_col0\" class=\"data row36 col0\" >Industry: type 13</td>\n",
              "      <td id=\"T_28415_row36_col1\" class=\"data row36 col1\" >Default</td>\n",
              "      <td id=\"T_28415_row36_col2\" class=\"data row36 col2\" >5</td>\n",
              "    </tr>\n",
              "    <tr>\n",
              "      <th id=\"T_28415_level0_row37\" class=\"row_heading level0 row37\" >37</th>\n",
              "      <td id=\"T_28415_row37_col0\" class=\"data row37 col0\" >Industry: type 13</td>\n",
              "      <td id=\"T_28415_row37_col1\" class=\"data row37 col1\" >Non Default</td>\n",
              "      <td id=\"T_28415_row37_col2\" class=\"data row37 col2\" >3</td>\n",
              "    </tr>\n",
              "    <tr>\n",
              "      <th id=\"T_28415_level0_row38\" class=\"row_heading level0 row38\" >38</th>\n",
              "      <td id=\"T_28415_row38_col0\" class=\"data row38 col0\" >Industry: type 2</td>\n",
              "      <td id=\"T_28415_row38_col1\" class=\"data row38 col1\" >Default</td>\n",
              "      <td id=\"T_28415_row38_col2\" class=\"data row38 col2\" >12</td>\n",
              "    </tr>\n",
              "    <tr>\n",
              "      <th id=\"T_28415_level0_row39\" class=\"row_heading level0 row39\" >39</th>\n",
              "      <td id=\"T_28415_row39_col0\" class=\"data row39 col0\" >Industry: type 2</td>\n",
              "      <td id=\"T_28415_row39_col1\" class=\"data row39 col1\" >Non Default</td>\n",
              "      <td id=\"T_28415_row39_col2\" class=\"data row39 col2\" >7</td>\n",
              "    </tr>\n",
              "    <tr>\n",
              "      <th id=\"T_28415_level0_row40\" class=\"row_heading level0 row40\" >40</th>\n",
              "      <td id=\"T_28415_row40_col0\" class=\"data row40 col0\" >Industry: type 3</td>\n",
              "      <td id=\"T_28415_row40_col1\" class=\"data row40 col1\" >Default</td>\n",
              "      <td id=\"T_28415_row40_col2\" class=\"data row40 col2\" >62</td>\n",
              "    </tr>\n",
              "    <tr>\n",
              "      <th id=\"T_28415_level0_row41\" class=\"row_heading level0 row41\" >41</th>\n",
              "      <td id=\"T_28415_row41_col0\" class=\"data row41 col0\" >Industry: type 3</td>\n",
              "      <td id=\"T_28415_row41_col1\" class=\"data row41 col1\" >Non Default</td>\n",
              "      <td id=\"T_28415_row41_col2\" class=\"data row41 col2\" >51</td>\n",
              "    </tr>\n",
              "    <tr>\n",
              "      <th id=\"T_28415_level0_row42\" class=\"row_heading level0 row42\" >42</th>\n",
              "      <td id=\"T_28415_row42_col0\" class=\"data row42 col0\" >Industry: type 4</td>\n",
              "      <td id=\"T_28415_row42_col1\" class=\"data row42 col1\" >Default</td>\n",
              "      <td id=\"T_28415_row42_col2\" class=\"data row42 col2\" >23</td>\n",
              "    </tr>\n",
              "    <tr>\n",
              "      <th id=\"T_28415_level0_row43\" class=\"row_heading level0 row43\" >43</th>\n",
              "      <td id=\"T_28415_row43_col0\" class=\"data row43 col0\" >Industry: type 4</td>\n",
              "      <td id=\"T_28415_row43_col1\" class=\"data row43 col1\" >Non Default</td>\n",
              "      <td id=\"T_28415_row43_col2\" class=\"data row43 col2\" >8</td>\n",
              "    </tr>\n",
              "    <tr>\n",
              "      <th id=\"T_28415_level0_row44\" class=\"row_heading level0 row44\" >44</th>\n",
              "      <td id=\"T_28415_row44_col0\" class=\"data row44 col0\" >Industry: type 5</td>\n",
              "      <td id=\"T_28415_row44_col1\" class=\"data row44 col1\" >Default</td>\n",
              "      <td id=\"T_28415_row44_col2\" class=\"data row44 col2\" >8</td>\n",
              "    </tr>\n",
              "    <tr>\n",
              "      <th id=\"T_28415_level0_row45\" class=\"row_heading level0 row45\" >45</th>\n",
              "      <td id=\"T_28415_row45_col0\" class=\"data row45 col0\" >Industry: type 5</td>\n",
              "      <td id=\"T_28415_row45_col1\" class=\"data row45 col1\" >Non Default</td>\n",
              "      <td id=\"T_28415_row45_col2\" class=\"data row45 col2\" >9</td>\n",
              "    </tr>\n",
              "    <tr>\n",
              "      <th id=\"T_28415_level0_row46\" class=\"row_heading level0 row46\" >46</th>\n",
              "      <td id=\"T_28415_row46_col0\" class=\"data row46 col0\" >Industry: type 6</td>\n",
              "      <td id=\"T_28415_row46_col1\" class=\"data row46 col1\" >Default</td>\n",
              "      <td id=\"T_28415_row46_col2\" class=\"data row46 col2\" >1</td>\n",
              "    </tr>\n",
              "    <tr>\n",
              "      <th id=\"T_28415_level0_row47\" class=\"row_heading level0 row47\" >47</th>\n",
              "      <td id=\"T_28415_row47_col0\" class=\"data row47 col0\" >Industry: type 6</td>\n",
              "      <td id=\"T_28415_row47_col1\" class=\"data row47 col1\" >Non Default</td>\n",
              "      <td id=\"T_28415_row47_col2\" class=\"data row47 col2\" >1</td>\n",
              "    </tr>\n",
              "    <tr>\n",
              "      <th id=\"T_28415_level0_row48\" class=\"row_heading level0 row48\" >48</th>\n",
              "      <td id=\"T_28415_row48_col0\" class=\"data row48 col0\" >Industry: type 7</td>\n",
              "      <td id=\"T_28415_row48_col1\" class=\"data row48 col1\" >Default</td>\n",
              "      <td id=\"T_28415_row48_col2\" class=\"data row48 col2\" >21</td>\n",
              "    </tr>\n",
              "    <tr>\n",
              "      <th id=\"T_28415_level0_row49\" class=\"row_heading level0 row49\" >49</th>\n",
              "      <td id=\"T_28415_row49_col0\" class=\"data row49 col0\" >Industry: type 7</td>\n",
              "      <td id=\"T_28415_row49_col1\" class=\"data row49 col1\" >Non Default</td>\n",
              "      <td id=\"T_28415_row49_col2\" class=\"data row49 col2\" >17</td>\n",
              "    </tr>\n",
              "    <tr>\n",
              "      <th id=\"T_28415_level0_row50\" class=\"row_heading level0 row50\" >50</th>\n",
              "      <td id=\"T_28415_row50_col0\" class=\"data row50 col0\" >Industry: type 8</td>\n",
              "      <td id=\"T_28415_row50_col1\" class=\"data row50 col1\" >Non Default</td>\n",
              "      <td id=\"T_28415_row50_col2\" class=\"data row50 col2\" >1</td>\n",
              "    </tr>\n",
              "    <tr>\n",
              "      <th id=\"T_28415_level0_row51\" class=\"row_heading level0 row51\" >51</th>\n",
              "      <td id=\"T_28415_row51_col0\" class=\"data row51 col0\" >Industry: type 9</td>\n",
              "      <td id=\"T_28415_row51_col1\" class=\"data row51 col1\" >Default</td>\n",
              "      <td id=\"T_28415_row51_col2\" class=\"data row51 col2\" >50</td>\n",
              "    </tr>\n",
              "    <tr>\n",
              "      <th id=\"T_28415_level0_row52\" class=\"row_heading level0 row52\" >52</th>\n",
              "      <td id=\"T_28415_row52_col0\" class=\"data row52 col0\" >Industry: type 9</td>\n",
              "      <td id=\"T_28415_row52_col1\" class=\"data row52 col1\" >Non Default</td>\n",
              "      <td id=\"T_28415_row52_col2\" class=\"data row52 col2\" >52</td>\n",
              "    </tr>\n",
              "    <tr>\n",
              "      <th id=\"T_28415_level0_row53\" class=\"row_heading level0 row53\" >53</th>\n",
              "      <td id=\"T_28415_row53_col0\" class=\"data row53 col0\" >Insurance</td>\n",
              "      <td id=\"T_28415_row53_col1\" class=\"data row53 col1\" >Default</td>\n",
              "      <td id=\"T_28415_row53_col2\" class=\"data row53 col2\" >7</td>\n",
              "    </tr>\n",
              "    <tr>\n",
              "      <th id=\"T_28415_level0_row54\" class=\"row_heading level0 row54\" >54</th>\n",
              "      <td id=\"T_28415_row54_col0\" class=\"data row54 col0\" >Insurance</td>\n",
              "      <td id=\"T_28415_row54_col1\" class=\"data row54 col1\" >Non Default</td>\n",
              "      <td id=\"T_28415_row54_col2\" class=\"data row54 col2\" >12</td>\n",
              "    </tr>\n",
              "    <tr>\n",
              "      <th id=\"T_28415_level0_row55\" class=\"row_heading level0 row55\" >55</th>\n",
              "      <td id=\"T_28415_row55_col0\" class=\"data row55 col0\" >Kindergarten</td>\n",
              "      <td id=\"T_28415_row55_col1\" class=\"data row55 col1\" >Default</td>\n",
              "      <td id=\"T_28415_row55_col2\" class=\"data row55 col2\" >87</td>\n",
              "    </tr>\n",
              "    <tr>\n",
              "      <th id=\"T_28415_level0_row56\" class=\"row_heading level0 row56\" >56</th>\n",
              "      <td id=\"T_28415_row56_col0\" class=\"data row56 col0\" >Kindergarten</td>\n",
              "      <td id=\"T_28415_row56_col1\" class=\"data row56 col1\" >Non Default</td>\n",
              "      <td id=\"T_28415_row56_col2\" class=\"data row56 col2\" >119</td>\n",
              "    </tr>\n",
              "    <tr>\n",
              "      <th id=\"T_28415_level0_row57\" class=\"row_heading level0 row57\" >57</th>\n",
              "      <td id=\"T_28415_row57_col0\" class=\"data row57 col0\" >Legal Services</td>\n",
              "      <td id=\"T_28415_row57_col1\" class=\"data row57 col1\" >Default</td>\n",
              "      <td id=\"T_28415_row57_col2\" class=\"data row57 col2\" >5</td>\n",
              "    </tr>\n",
              "    <tr>\n",
              "      <th id=\"T_28415_level0_row58\" class=\"row_heading level0 row58\" >58</th>\n",
              "      <td id=\"T_28415_row58_col0\" class=\"data row58 col0\" >Legal Services</td>\n",
              "      <td id=\"T_28415_row58_col1\" class=\"data row58 col1\" >Non Default</td>\n",
              "      <td id=\"T_28415_row58_col2\" class=\"data row58 col2\" >8</td>\n",
              "    </tr>\n",
              "    <tr>\n",
              "      <th id=\"T_28415_level0_row59\" class=\"row_heading level0 row59\" >59</th>\n",
              "      <td id=\"T_28415_row59_col0\" class=\"data row59 col0\" >Medicine</td>\n",
              "      <td id=\"T_28415_row59_col1\" class=\"data row59 col1\" >Default</td>\n",
              "      <td id=\"T_28415_row59_col2\" class=\"data row59 col2\" >155</td>\n",
              "    </tr>\n",
              "    <tr>\n",
              "      <th id=\"T_28415_level0_row60\" class=\"row_heading level0 row60\" >60</th>\n",
              "      <td id=\"T_28415_row60_col0\" class=\"data row60 col0\" >Medicine</td>\n",
              "      <td id=\"T_28415_row60_col1\" class=\"data row60 col1\" >Non Default</td>\n",
              "      <td id=\"T_28415_row60_col2\" class=\"data row60 col2\" >184</td>\n",
              "    </tr>\n",
              "    <tr>\n",
              "      <th id=\"T_28415_level0_row61\" class=\"row_heading level0 row61\" >61</th>\n",
              "      <td id=\"T_28415_row61_col0\" class=\"data row61 col0\" >Military</td>\n",
              "      <td id=\"T_28415_row61_col1\" class=\"data row61 col1\" >Default</td>\n",
              "      <td id=\"T_28415_row61_col2\" class=\"data row61 col2\" >32</td>\n",
              "    </tr>\n",
              "    <tr>\n",
              "      <th id=\"T_28415_level0_row62\" class=\"row_heading level0 row62\" >62</th>\n",
              "      <td id=\"T_28415_row62_col0\" class=\"data row62 col0\" >Military</td>\n",
              "      <td id=\"T_28415_row62_col1\" class=\"data row62 col1\" >Non Default</td>\n",
              "      <td id=\"T_28415_row62_col2\" class=\"data row62 col2\" >42</td>\n",
              "    </tr>\n",
              "    <tr>\n",
              "      <th id=\"T_28415_level0_row63\" class=\"row_heading level0 row63\" >63</th>\n",
              "      <td id=\"T_28415_row63_col0\" class=\"data row63 col0\" >Mobile</td>\n",
              "      <td id=\"T_28415_row63_col1\" class=\"data row63 col1\" >Default</td>\n",
              "      <td id=\"T_28415_row63_col2\" class=\"data row63 col2\" >5</td>\n",
              "    </tr>\n",
              "    <tr>\n",
              "      <th id=\"T_28415_level0_row64\" class=\"row_heading level0 row64\" >64</th>\n",
              "      <td id=\"T_28415_row64_col0\" class=\"data row64 col0\" >Mobile</td>\n",
              "      <td id=\"T_28415_row64_col1\" class=\"data row64 col1\" >Non Default</td>\n",
              "      <td id=\"T_28415_row64_col2\" class=\"data row64 col2\" >7</td>\n",
              "    </tr>\n",
              "    <tr>\n",
              "      <th id=\"T_28415_level0_row65\" class=\"row_heading level0 row65\" >65</th>\n",
              "      <td id=\"T_28415_row65_col0\" class=\"data row65 col0\" >Other</td>\n",
              "      <td id=\"T_28415_row65_col1\" class=\"data row65 col1\" >Default</td>\n",
              "      <td id=\"T_28415_row65_col2\" class=\"data row65 col2\" >251</td>\n",
              "    </tr>\n",
              "    <tr>\n",
              "      <th id=\"T_28415_level0_row66\" class=\"row_heading level0 row66\" >66</th>\n",
              "      <td id=\"T_28415_row66_col0\" class=\"data row66 col0\" >Other</td>\n",
              "      <td id=\"T_28415_row66_col1\" class=\"data row66 col1\" >Non Default</td>\n",
              "      <td id=\"T_28415_row66_col2\" class=\"data row66 col2\" >285</td>\n",
              "    </tr>\n",
              "    <tr>\n",
              "      <th id=\"T_28415_level0_row67\" class=\"row_heading level0 row67\" >67</th>\n",
              "      <td id=\"T_28415_row67_col0\" class=\"data row67 col0\" >Police</td>\n",
              "      <td id=\"T_28415_row67_col1\" class=\"data row67 col1\" >Default</td>\n",
              "      <td id=\"T_28415_row67_col2\" class=\"data row67 col2\" >24</td>\n",
              "    </tr>\n",
              "    <tr>\n",
              "      <th id=\"T_28415_level0_row68\" class=\"row_heading level0 row68\" >68</th>\n",
              "      <td id=\"T_28415_row68_col0\" class=\"data row68 col0\" >Police</td>\n",
              "      <td id=\"T_28415_row68_col1\" class=\"data row68 col1\" >Non Default</td>\n",
              "      <td id=\"T_28415_row68_col2\" class=\"data row68 col2\" >31</td>\n",
              "    </tr>\n",
              "    <tr>\n",
              "      <th id=\"T_28415_level0_row69\" class=\"row_heading level0 row69\" >69</th>\n",
              "      <td id=\"T_28415_row69_col0\" class=\"data row69 col0\" >Postal</td>\n",
              "      <td id=\"T_28415_row69_col1\" class=\"data row69 col1\" >Default</td>\n",
              "      <td id=\"T_28415_row69_col2\" class=\"data row69 col2\" >38</td>\n",
              "    </tr>\n",
              "    <tr>\n",
              "      <th id=\"T_28415_level0_row70\" class=\"row_heading level0 row70\" >70</th>\n",
              "      <td id=\"T_28415_row70_col0\" class=\"data row70 col0\" >Postal</td>\n",
              "      <td id=\"T_28415_row70_col1\" class=\"data row70 col1\" >Non Default</td>\n",
              "      <td id=\"T_28415_row70_col2\" class=\"data row70 col2\" >36</td>\n",
              "    </tr>\n",
              "    <tr>\n",
              "      <th id=\"T_28415_level0_row71\" class=\"row_heading level0 row71\" >71</th>\n",
              "      <td id=\"T_28415_row71_col0\" class=\"data row71 col0\" >Realtor</td>\n",
              "      <td id=\"T_28415_row71_col1\" class=\"data row71 col1\" >Default</td>\n",
              "      <td id=\"T_28415_row71_col2\" class=\"data row71 col2\" >9</td>\n",
              "    </tr>\n",
              "    <tr>\n",
              "      <th id=\"T_28415_level0_row72\" class=\"row_heading level0 row72\" >72</th>\n",
              "      <td id=\"T_28415_row72_col0\" class=\"data row72 col0\" >Realtor</td>\n",
              "      <td id=\"T_28415_row72_col1\" class=\"data row72 col1\" >Non Default</td>\n",
              "      <td id=\"T_28415_row72_col2\" class=\"data row72 col2\" >5</td>\n",
              "    </tr>\n",
              "    <tr>\n",
              "      <th id=\"T_28415_level0_row73\" class=\"row_heading level0 row73\" >73</th>\n",
              "      <td id=\"T_28415_row73_col0\" class=\"data row73 col0\" >Religion</td>\n",
              "      <td id=\"T_28415_row73_col1\" class=\"data row73 col1\" >Default</td>\n",
              "      <td id=\"T_28415_row73_col2\" class=\"data row73 col2\" >1</td>\n",
              "    </tr>\n",
              "    <tr>\n",
              "      <th id=\"T_28415_level0_row74\" class=\"row_heading level0 row74\" >74</th>\n",
              "      <td id=\"T_28415_row74_col0\" class=\"data row74 col0\" >Religion</td>\n",
              "      <td id=\"T_28415_row74_col1\" class=\"data row74 col1\" >Non Default</td>\n",
              "      <td id=\"T_28415_row74_col2\" class=\"data row74 col2\" >2</td>\n",
              "    </tr>\n",
              "    <tr>\n",
              "      <th id=\"T_28415_level0_row75\" class=\"row_heading level0 row75\" >75</th>\n",
              "      <td id=\"T_28415_row75_col0\" class=\"data row75 col0\" >Restaurant</td>\n",
              "      <td id=\"T_28415_row75_col1\" class=\"data row75 col1\" >Default</td>\n",
              "      <td id=\"T_28415_row75_col2\" class=\"data row75 col2\" >42</td>\n",
              "    </tr>\n",
              "    <tr>\n",
              "      <th id=\"T_28415_level0_row76\" class=\"row_heading level0 row76\" >76</th>\n",
              "      <td id=\"T_28415_row76_col0\" class=\"data row76 col0\" >Restaurant</td>\n",
              "      <td id=\"T_28415_row76_col1\" class=\"data row76 col1\" >Non Default</td>\n",
              "      <td id=\"T_28415_row76_col2\" class=\"data row76 col2\" >23</td>\n",
              "    </tr>\n",
              "    <tr>\n",
              "      <th id=\"T_28415_level0_row77\" class=\"row_heading level0 row77\" >77</th>\n",
              "      <td id=\"T_28415_row77_col0\" class=\"data row77 col0\" >School</td>\n",
              "      <td id=\"T_28415_row77_col1\" class=\"data row77 col1\" >Default</td>\n",
              "      <td id=\"T_28415_row77_col2\" class=\"data row77 col2\" >108</td>\n",
              "    </tr>\n",
              "    <tr>\n",
              "      <th id=\"T_28415_level0_row78\" class=\"row_heading level0 row78\" >78</th>\n",
              "      <td id=\"T_28415_row78_col0\" class=\"data row78 col0\" >School</td>\n",
              "      <td id=\"T_28415_row78_col1\" class=\"data row78 col1\" >Non Default</td>\n",
              "      <td id=\"T_28415_row78_col2\" class=\"data row78 col2\" >129</td>\n",
              "    </tr>\n",
              "    <tr>\n",
              "      <th id=\"T_28415_level0_row79\" class=\"row_heading level0 row79\" >79</th>\n",
              "      <td id=\"T_28415_row79_col0\" class=\"data row79 col0\" >Security</td>\n",
              "      <td id=\"T_28415_row79_col1\" class=\"data row79 col1\" >Default</td>\n",
              "      <td id=\"T_28415_row79_col2\" class=\"data row79 col2\" >72</td>\n",
              "    </tr>\n",
              "    <tr>\n",
              "      <th id=\"T_28415_level0_row80\" class=\"row_heading level0 row80\" >80</th>\n",
              "      <td id=\"T_28415_row80_col0\" class=\"data row80 col0\" >Security</td>\n",
              "      <td id=\"T_28415_row80_col1\" class=\"data row80 col1\" >Non Default</td>\n",
              "      <td id=\"T_28415_row80_col2\" class=\"data row80 col2\" >37</td>\n",
              "    </tr>\n",
              "    <tr>\n",
              "      <th id=\"T_28415_level0_row81\" class=\"row_heading level0 row81\" >81</th>\n",
              "      <td id=\"T_28415_row81_col0\" class=\"data row81 col0\" >Security Ministries</td>\n",
              "      <td id=\"T_28415_row81_col1\" class=\"data row81 col1\" >Default</td>\n",
              "      <td id=\"T_28415_row81_col2\" class=\"data row81 col2\" >20</td>\n",
              "    </tr>\n",
              "    <tr>\n",
              "      <th id=\"T_28415_level0_row82\" class=\"row_heading level0 row82\" >82</th>\n",
              "      <td id=\"T_28415_row82_col0\" class=\"data row82 col0\" >Security Ministries</td>\n",
              "      <td id=\"T_28415_row82_col1\" class=\"data row82 col1\" >Non Default</td>\n",
              "      <td id=\"T_28415_row82_col2\" class=\"data row82 col2\" >33</td>\n",
              "    </tr>\n",
              "    <tr>\n",
              "      <th id=\"T_28415_level0_row83\" class=\"row_heading level0 row83\" >83</th>\n",
              "      <td id=\"T_28415_row83_col0\" class=\"data row83 col0\" >Self-employed</td>\n",
              "      <td id=\"T_28415_row83_col1\" class=\"data row83 col1\" >Default</td>\n",
              "      <td id=\"T_28415_row83_col2\" class=\"data row83 col2\" >794</td>\n",
              "    </tr>\n",
              "    <tr>\n",
              "      <th id=\"T_28415_level0_row84\" class=\"row_heading level0 row84\" >84</th>\n",
              "      <td id=\"T_28415_row84_col0\" class=\"data row84 col0\" >Self-employed</td>\n",
              "      <td id=\"T_28415_row84_col1\" class=\"data row84 col1\" >Non Default</td>\n",
              "      <td id=\"T_28415_row84_col2\" class=\"data row84 col2\" >657</td>\n",
              "    </tr>\n",
              "    <tr>\n",
              "      <th id=\"T_28415_level0_row85\" class=\"row_heading level0 row85\" >85</th>\n",
              "      <td id=\"T_28415_row85_col0\" class=\"data row85 col0\" >Services</td>\n",
              "      <td id=\"T_28415_row85_col1\" class=\"data row85 col1\" >Default</td>\n",
              "      <td id=\"T_28415_row85_col2\" class=\"data row85 col2\" >25</td>\n",
              "    </tr>\n",
              "    <tr>\n",
              "      <th id=\"T_28415_level0_row86\" class=\"row_heading level0 row86\" >86</th>\n",
              "      <td id=\"T_28415_row86_col0\" class=\"data row86 col0\" >Services</td>\n",
              "      <td id=\"T_28415_row86_col1\" class=\"data row86 col1\" >Non Default</td>\n",
              "      <td id=\"T_28415_row86_col2\" class=\"data row86 col2\" >42</td>\n",
              "    </tr>\n",
              "    <tr>\n",
              "      <th id=\"T_28415_level0_row87\" class=\"row_heading level0 row87\" >87</th>\n",
              "      <td id=\"T_28415_row87_col0\" class=\"data row87 col0\" >Telecom</td>\n",
              "      <td id=\"T_28415_row87_col1\" class=\"data row87 col1\" >Default</td>\n",
              "      <td id=\"T_28415_row87_col2\" class=\"data row87 col2\" >9</td>\n",
              "    </tr>\n",
              "    <tr>\n",
              "      <th id=\"T_28415_level0_row88\" class=\"row_heading level0 row88\" >88</th>\n",
              "      <td id=\"T_28415_row88_col0\" class=\"data row88 col0\" >Telecom</td>\n",
              "      <td id=\"T_28415_row88_col1\" class=\"data row88 col1\" >Non Default</td>\n",
              "      <td id=\"T_28415_row88_col2\" class=\"data row88 col2\" >8</td>\n",
              "    </tr>\n",
              "    <tr>\n",
              "      <th id=\"T_28415_level0_row89\" class=\"row_heading level0 row89\" >89</th>\n",
              "      <td id=\"T_28415_row89_col0\" class=\"data row89 col0\" >Trade: type 1</td>\n",
              "      <td id=\"T_28415_row89_col1\" class=\"data row89 col1\" >Default</td>\n",
              "      <td id=\"T_28415_row89_col2\" class=\"data row89 col2\" >8</td>\n",
              "    </tr>\n",
              "    <tr>\n",
              "      <th id=\"T_28415_level0_row90\" class=\"row_heading level0 row90\" >90</th>\n",
              "      <td id=\"T_28415_row90_col0\" class=\"data row90 col0\" >Trade: type 1</td>\n",
              "      <td id=\"T_28415_row90_col1\" class=\"data row90 col1\" >Non Default</td>\n",
              "      <td id=\"T_28415_row90_col2\" class=\"data row90 col2\" >4</td>\n",
              "    </tr>\n",
              "    <tr>\n",
              "      <th id=\"T_28415_level0_row91\" class=\"row_heading level0 row91\" >91</th>\n",
              "      <td id=\"T_28415_row91_col0\" class=\"data row91 col0\" >Trade: type 2</td>\n",
              "      <td id=\"T_28415_row91_col1\" class=\"data row91 col1\" >Default</td>\n",
              "      <td id=\"T_28415_row91_col2\" class=\"data row91 col2\" >27</td>\n",
              "    </tr>\n",
              "    <tr>\n",
              "      <th id=\"T_28415_level0_row92\" class=\"row_heading level0 row92\" >92</th>\n",
              "      <td id=\"T_28415_row92_col0\" class=\"data row92 col0\" >Trade: type 2</td>\n",
              "      <td id=\"T_28415_row92_col1\" class=\"data row92 col1\" >Non Default</td>\n",
              "      <td id=\"T_28415_row92_col2\" class=\"data row92 col2\" >27</td>\n",
              "    </tr>\n",
              "    <tr>\n",
              "      <th id=\"T_28415_level0_row93\" class=\"row_heading level0 row93\" >93</th>\n",
              "      <td id=\"T_28415_row93_col0\" class=\"data row93 col0\" >Trade: type 3</td>\n",
              "      <td id=\"T_28415_row93_col1\" class=\"data row93 col1\" >Default</td>\n",
              "      <td id=\"T_28415_row93_col2\" class=\"data row93 col2\" >77</td>\n",
              "    </tr>\n",
              "    <tr>\n",
              "      <th id=\"T_28415_level0_row94\" class=\"row_heading level0 row94\" >94</th>\n",
              "      <td id=\"T_28415_row94_col0\" class=\"data row94 col0\" >Trade: type 3</td>\n",
              "      <td id=\"T_28415_row94_col1\" class=\"data row94 col1\" >Non Default</td>\n",
              "      <td id=\"T_28415_row94_col2\" class=\"data row94 col2\" >55</td>\n",
              "    </tr>\n",
              "    <tr>\n",
              "      <th id=\"T_28415_level0_row95\" class=\"row_heading level0 row95\" >95</th>\n",
              "      <td id=\"T_28415_row95_col0\" class=\"data row95 col0\" >Trade: type 4</td>\n",
              "      <td id=\"T_28415_row95_col1\" class=\"data row95 col1\" >Non Default</td>\n",
              "      <td id=\"T_28415_row95_col2\" class=\"data row95 col2\" >1</td>\n",
              "    </tr>\n",
              "    <tr>\n",
              "      <th id=\"T_28415_level0_row96\" class=\"row_heading level0 row96\" >96</th>\n",
              "      <td id=\"T_28415_row96_col0\" class=\"data row96 col0\" >Trade: type 5</td>\n",
              "      <td id=\"T_28415_row96_col1\" class=\"data row96 col1\" >Default</td>\n",
              "      <td id=\"T_28415_row96_col2\" class=\"data row96 col2\" >1</td>\n",
              "    </tr>\n",
              "    <tr>\n",
              "      <th id=\"T_28415_level0_row97\" class=\"row_heading level0 row97\" >97</th>\n",
              "      <td id=\"T_28415_row97_col0\" class=\"data row97 col0\" >Trade: type 5</td>\n",
              "      <td id=\"T_28415_row97_col1\" class=\"data row97 col1\" >Non Default</td>\n",
              "      <td id=\"T_28415_row97_col2\" class=\"data row97 col2\" >3</td>\n",
              "    </tr>\n",
              "    <tr>\n",
              "      <th id=\"T_28415_level0_row98\" class=\"row_heading level0 row98\" >98</th>\n",
              "      <td id=\"T_28415_row98_col0\" class=\"data row98 col0\" >Trade: type 6</td>\n",
              "      <td id=\"T_28415_row98_col1\" class=\"data row98 col1\" >Default</td>\n",
              "      <td id=\"T_28415_row98_col2\" class=\"data row98 col2\" >6</td>\n",
              "    </tr>\n",
              "    <tr>\n",
              "      <th id=\"T_28415_level0_row99\" class=\"row_heading level0 row99\" >99</th>\n",
              "      <td id=\"T_28415_row99_col0\" class=\"data row99 col0\" >Trade: type 6</td>\n",
              "      <td id=\"T_28415_row99_col1\" class=\"data row99 col1\" >Non Default</td>\n",
              "      <td id=\"T_28415_row99_col2\" class=\"data row99 col2\" >11</td>\n",
              "    </tr>\n",
              "    <tr>\n",
              "      <th id=\"T_28415_level0_row100\" class=\"row_heading level0 row100\" >100</th>\n",
              "      <td id=\"T_28415_row100_col0\" class=\"data row100 col0\" >Trade: type 7</td>\n",
              "      <td id=\"T_28415_row100_col1\" class=\"data row100 col1\" >Default</td>\n",
              "      <td id=\"T_28415_row100_col2\" class=\"data row100 col2\" >155</td>\n",
              "    </tr>\n",
              "    <tr>\n",
              "      <th id=\"T_28415_level0_row101\" class=\"row_heading level0 row101\" >101</th>\n",
              "      <td id=\"T_28415_row101_col0\" class=\"data row101 col0\" >Trade: type 7</td>\n",
              "      <td id=\"T_28415_row101_col1\" class=\"data row101 col1\" >Non Default</td>\n",
              "      <td id=\"T_28415_row101_col2\" class=\"data row101 col2\" >104</td>\n",
              "    </tr>\n",
              "    <tr>\n",
              "      <th id=\"T_28415_level0_row102\" class=\"row_heading level0 row102\" >102</th>\n",
              "      <td id=\"T_28415_row102_col0\" class=\"data row102 col0\" >Transport: type 1</td>\n",
              "      <td id=\"T_28415_row102_col1\" class=\"data row102 col1\" >Default</td>\n",
              "      <td id=\"T_28415_row102_col2\" class=\"data row102 col2\" >3</td>\n",
              "    </tr>\n",
              "    <tr>\n",
              "      <th id=\"T_28415_level0_row103\" class=\"row_heading level0 row103\" >103</th>\n",
              "      <td id=\"T_28415_row103_col0\" class=\"data row103 col0\" >Transport: type 1</td>\n",
              "      <td id=\"T_28415_row103_col1\" class=\"data row103 col1\" >Non Default</td>\n",
              "      <td id=\"T_28415_row103_col2\" class=\"data row103 col2\" >3</td>\n",
              "    </tr>\n",
              "    <tr>\n",
              "      <th id=\"T_28415_level0_row104\" class=\"row_heading level0 row104\" >104</th>\n",
              "      <td id=\"T_28415_row104_col0\" class=\"data row104 col0\" >Transport: type 2</td>\n",
              "      <td id=\"T_28415_row104_col1\" class=\"data row104 col1\" >Default</td>\n",
              "      <td id=\"T_28415_row104_col2\" class=\"data row104 col2\" >39</td>\n",
              "    </tr>\n",
              "    <tr>\n",
              "      <th id=\"T_28415_level0_row105\" class=\"row_heading level0 row105\" >105</th>\n",
              "      <td id=\"T_28415_row105_col0\" class=\"data row105 col0\" >Transport: type 2</td>\n",
              "      <td id=\"T_28415_row105_col1\" class=\"data row105 col1\" >Non Default</td>\n",
              "      <td id=\"T_28415_row105_col2\" class=\"data row105 col2\" >51</td>\n",
              "    </tr>\n",
              "    <tr>\n",
              "      <th id=\"T_28415_level0_row106\" class=\"row_heading level0 row106\" >106</th>\n",
              "      <td id=\"T_28415_row106_col0\" class=\"data row106 col0\" >Transport: type 3</td>\n",
              "      <td id=\"T_28415_row106_col1\" class=\"data row106 col1\" >Default</td>\n",
              "      <td id=\"T_28415_row106_col2\" class=\"data row106 col2\" >29</td>\n",
              "    </tr>\n",
              "    <tr>\n",
              "      <th id=\"T_28415_level0_row107\" class=\"row_heading level0 row107\" >107</th>\n",
              "      <td id=\"T_28415_row107_col0\" class=\"data row107 col0\" >Transport: type 3</td>\n",
              "      <td id=\"T_28415_row107_col1\" class=\"data row107 col1\" >Non Default</td>\n",
              "      <td id=\"T_28415_row107_col2\" class=\"data row107 col2\" >21</td>\n",
              "    </tr>\n",
              "    <tr>\n",
              "      <th id=\"T_28415_level0_row108\" class=\"row_heading level0 row108\" >108</th>\n",
              "      <td id=\"T_28415_row108_col0\" class=\"data row108 col0\" >Transport: type 4</td>\n",
              "      <td id=\"T_28415_row108_col1\" class=\"data row108 col1\" >Default</td>\n",
              "      <td id=\"T_28415_row108_col2\" class=\"data row108 col2\" >81</td>\n",
              "    </tr>\n",
              "    <tr>\n",
              "      <th id=\"T_28415_level0_row109\" class=\"row_heading level0 row109\" >109</th>\n",
              "      <td id=\"T_28415_row109_col0\" class=\"data row109 col0\" >Transport: type 4</td>\n",
              "      <td id=\"T_28415_row109_col1\" class=\"data row109 col1\" >Non Default</td>\n",
              "      <td id=\"T_28415_row109_col2\" class=\"data row109 col2\" >78</td>\n",
              "    </tr>\n",
              "    <tr>\n",
              "      <th id=\"T_28415_level0_row110\" class=\"row_heading level0 row110\" >110</th>\n",
              "      <td id=\"T_28415_row110_col0\" class=\"data row110 col0\" >University</td>\n",
              "      <td id=\"T_28415_row110_col1\" class=\"data row110 col1\" >Default</td>\n",
              "      <td id=\"T_28415_row110_col2\" class=\"data row110 col2\" >14</td>\n",
              "    </tr>\n",
              "    <tr>\n",
              "      <th id=\"T_28415_level0_row111\" class=\"row_heading level0 row111\" >111</th>\n",
              "      <td id=\"T_28415_row111_col0\" class=\"data row111 col0\" >University</td>\n",
              "      <td id=\"T_28415_row111_col1\" class=\"data row111 col1\" >Non Default</td>\n",
              "      <td id=\"T_28415_row111_col2\" class=\"data row111 col2\" >22</td>\n",
              "    </tr>\n",
              "    <tr>\n",
              "      <th id=\"T_28415_level0_row112\" class=\"row_heading level0 row112\" >112</th>\n",
              "      <td id=\"T_28415_row112_col0\" class=\"data row112 col0\" >XNA</td>\n",
              "      <td id=\"T_28415_row112_col1\" class=\"data row112 col1\" >Default</td>\n",
              "      <td id=\"T_28415_row112_col2\" class=\"data row112 col2\" >625</td>\n",
              "    </tr>\n",
              "    <tr>\n",
              "      <th id=\"T_28415_level0_row113\" class=\"row_heading level0 row113\" >113</th>\n",
              "      <td id=\"T_28415_row113_col0\" class=\"data row113 col0\" >XNA</td>\n",
              "      <td id=\"T_28415_row113_col1\" class=\"data row113 col1\" >Non Default</td>\n",
              "      <td id=\"T_28415_row113_col2\" class=\"data row113 col2\" >932</td>\n",
              "    </tr>\n",
              "  </tbody>\n",
              "</table>\n"
            ]
          },
          "metadata": {},
          "execution_count": 93
        }
      ]
    },
    {
      "cell_type": "code",
      "source": [
        "data[['ORGANIZATION_TYPE','TARGET']].groupby(['ORGANIZATION_TYPE'],as_index=False).mean().sort_values(by=['TARGET'], ascending=False)"
      ],
      "metadata": {
        "colab": {
          "base_uri": "https://localhost:8080/",
          "height": 1000
        },
        "id": "0R45_Wb7DhPo",
        "outputId": "2f8b14a3-6d49-42ea-c7f6-d83d346260c4"
      },
      "execution_count": 95,
      "outputs": [
        {
          "output_type": "execute_result",
          "data": {
            "text/plain": [
              "         ORGANIZATION_TYPE    TARGET\n",
              "21        Industry: type 4  0.741935\n",
              "45           Trade: type 1  0.666667\n",
              "40                Security  0.660550\n",
              "38              Restaurant  0.646154\n",
              "36                 Realtor  0.642857\n",
              "0              Advertising  0.642857\n",
              "19        Industry: type 2  0.631579\n",
              "18       Industry: type 13  0.625000\n",
              "1              Agriculture  0.618557\n",
              "14        Industry: type 1  0.605263\n",
              "51           Trade: type 7  0.598456\n",
              "47           Trade: type 3  0.583333\n",
              "54       Transport: type 3  0.580000\n",
              "7             Construction  0.572034\n",
              "3   Business Entity Type 1  0.569149\n",
              "24        Industry: type 7  0.552632\n",
              "9              Electricity  0.551724\n",
              "20        Industry: type 3  0.548673\n",
              "42           Self-employed  0.547209\n",
              "5   Business Entity Type 3  0.534814\n",
              "44                 Telecom  0.529412\n",
              "35                  Postal  0.513514\n",
              "55       Transport: type 4  0.509434\n",
              "52       Transport: type 1  0.500000\n",
              "23        Industry: type 6  0.500000\n",
              "46           Trade: type 2  0.500000\n",
              "4   Business Entity Type 2  0.500000\n",
              "26        Industry: type 9  0.490196\n",
              "11              Government  0.472393\n",
              "22        Industry: type 5  0.470588\n",
              "33                   Other  0.468284\n",
              "12                   Hotel  0.459459\n",
              "30                Medicine  0.457227\n",
              "39                  School  0.455696\n",
              "13                 Housing  0.455446\n",
              "34                  Police  0.436364\n",
              "53       Transport: type 2  0.433333\n",
              "31                Military  0.432432\n",
              "2                     Bank  0.428571\n",
              "8                  Culture  0.428571\n",
              "6                 Cleaning  0.428571\n",
              "16       Industry: type 11  0.425287\n",
              "28            Kindergarten  0.422330\n",
              "32                  Mobile  0.416667\n",
              "57                     XNA  0.401413\n",
              "56              University  0.388889\n",
              "29          Legal Services  0.384615\n",
              "41     Security Ministries  0.377358\n",
              "43                Services  0.373134\n",
              "27               Insurance  0.368421\n",
              "10               Emergency  0.363636\n",
              "50           Trade: type 6  0.352941\n",
              "37                Religion  0.333333\n",
              "49           Trade: type 5  0.250000\n",
              "17       Industry: type 12  0.250000\n",
              "15       Industry: type 10  0.166667\n",
              "48           Trade: type 4  0.000000\n",
              "25        Industry: type 8  0.000000"
            ],
            "text/html": [
              "\n",
              "  <div id=\"df-b525bf30-be5d-4d0b-b68c-974af237834f\">\n",
              "    <div class=\"colab-df-container\">\n",
              "      <div>\n",
              "<style scoped>\n",
              "    .dataframe tbody tr th:only-of-type {\n",
              "        vertical-align: middle;\n",
              "    }\n",
              "\n",
              "    .dataframe tbody tr th {\n",
              "        vertical-align: top;\n",
              "    }\n",
              "\n",
              "    .dataframe thead th {\n",
              "        text-align: right;\n",
              "    }\n",
              "</style>\n",
              "<table border=\"1\" class=\"dataframe\">\n",
              "  <thead>\n",
              "    <tr style=\"text-align: right;\">\n",
              "      <th></th>\n",
              "      <th>ORGANIZATION_TYPE</th>\n",
              "      <th>TARGET</th>\n",
              "    </tr>\n",
              "  </thead>\n",
              "  <tbody>\n",
              "    <tr>\n",
              "      <th>21</th>\n",
              "      <td>Industry: type 4</td>\n",
              "      <td>0.741935</td>\n",
              "    </tr>\n",
              "    <tr>\n",
              "      <th>45</th>\n",
              "      <td>Trade: type 1</td>\n",
              "      <td>0.666667</td>\n",
              "    </tr>\n",
              "    <tr>\n",
              "      <th>40</th>\n",
              "      <td>Security</td>\n",
              "      <td>0.660550</td>\n",
              "    </tr>\n",
              "    <tr>\n",
              "      <th>38</th>\n",
              "      <td>Restaurant</td>\n",
              "      <td>0.646154</td>\n",
              "    </tr>\n",
              "    <tr>\n",
              "      <th>36</th>\n",
              "      <td>Realtor</td>\n",
              "      <td>0.642857</td>\n",
              "    </tr>\n",
              "    <tr>\n",
              "      <th>0</th>\n",
              "      <td>Advertising</td>\n",
              "      <td>0.642857</td>\n",
              "    </tr>\n",
              "    <tr>\n",
              "      <th>19</th>\n",
              "      <td>Industry: type 2</td>\n",
              "      <td>0.631579</td>\n",
              "    </tr>\n",
              "    <tr>\n",
              "      <th>18</th>\n",
              "      <td>Industry: type 13</td>\n",
              "      <td>0.625000</td>\n",
              "    </tr>\n",
              "    <tr>\n",
              "      <th>1</th>\n",
              "      <td>Agriculture</td>\n",
              "      <td>0.618557</td>\n",
              "    </tr>\n",
              "    <tr>\n",
              "      <th>14</th>\n",
              "      <td>Industry: type 1</td>\n",
              "      <td>0.605263</td>\n",
              "    </tr>\n",
              "    <tr>\n",
              "      <th>51</th>\n",
              "      <td>Trade: type 7</td>\n",
              "      <td>0.598456</td>\n",
              "    </tr>\n",
              "    <tr>\n",
              "      <th>47</th>\n",
              "      <td>Trade: type 3</td>\n",
              "      <td>0.583333</td>\n",
              "    </tr>\n",
              "    <tr>\n",
              "      <th>54</th>\n",
              "      <td>Transport: type 3</td>\n",
              "      <td>0.580000</td>\n",
              "    </tr>\n",
              "    <tr>\n",
              "      <th>7</th>\n",
              "      <td>Construction</td>\n",
              "      <td>0.572034</td>\n",
              "    </tr>\n",
              "    <tr>\n",
              "      <th>3</th>\n",
              "      <td>Business Entity Type 1</td>\n",
              "      <td>0.569149</td>\n",
              "    </tr>\n",
              "    <tr>\n",
              "      <th>24</th>\n",
              "      <td>Industry: type 7</td>\n",
              "      <td>0.552632</td>\n",
              "    </tr>\n",
              "    <tr>\n",
              "      <th>9</th>\n",
              "      <td>Electricity</td>\n",
              "      <td>0.551724</td>\n",
              "    </tr>\n",
              "    <tr>\n",
              "      <th>20</th>\n",
              "      <td>Industry: type 3</td>\n",
              "      <td>0.548673</td>\n",
              "    </tr>\n",
              "    <tr>\n",
              "      <th>42</th>\n",
              "      <td>Self-employed</td>\n",
              "      <td>0.547209</td>\n",
              "    </tr>\n",
              "    <tr>\n",
              "      <th>5</th>\n",
              "      <td>Business Entity Type 3</td>\n",
              "      <td>0.534814</td>\n",
              "    </tr>\n",
              "    <tr>\n",
              "      <th>44</th>\n",
              "      <td>Telecom</td>\n",
              "      <td>0.529412</td>\n",
              "    </tr>\n",
              "    <tr>\n",
              "      <th>35</th>\n",
              "      <td>Postal</td>\n",
              "      <td>0.513514</td>\n",
              "    </tr>\n",
              "    <tr>\n",
              "      <th>55</th>\n",
              "      <td>Transport: type 4</td>\n",
              "      <td>0.509434</td>\n",
              "    </tr>\n",
              "    <tr>\n",
              "      <th>52</th>\n",
              "      <td>Transport: type 1</td>\n",
              "      <td>0.500000</td>\n",
              "    </tr>\n",
              "    <tr>\n",
              "      <th>23</th>\n",
              "      <td>Industry: type 6</td>\n",
              "      <td>0.500000</td>\n",
              "    </tr>\n",
              "    <tr>\n",
              "      <th>46</th>\n",
              "      <td>Trade: type 2</td>\n",
              "      <td>0.500000</td>\n",
              "    </tr>\n",
              "    <tr>\n",
              "      <th>4</th>\n",
              "      <td>Business Entity Type 2</td>\n",
              "      <td>0.500000</td>\n",
              "    </tr>\n",
              "    <tr>\n",
              "      <th>26</th>\n",
              "      <td>Industry: type 9</td>\n",
              "      <td>0.490196</td>\n",
              "    </tr>\n",
              "    <tr>\n",
              "      <th>11</th>\n",
              "      <td>Government</td>\n",
              "      <td>0.472393</td>\n",
              "    </tr>\n",
              "    <tr>\n",
              "      <th>22</th>\n",
              "      <td>Industry: type 5</td>\n",
              "      <td>0.470588</td>\n",
              "    </tr>\n",
              "    <tr>\n",
              "      <th>33</th>\n",
              "      <td>Other</td>\n",
              "      <td>0.468284</td>\n",
              "    </tr>\n",
              "    <tr>\n",
              "      <th>12</th>\n",
              "      <td>Hotel</td>\n",
              "      <td>0.459459</td>\n",
              "    </tr>\n",
              "    <tr>\n",
              "      <th>30</th>\n",
              "      <td>Medicine</td>\n",
              "      <td>0.457227</td>\n",
              "    </tr>\n",
              "    <tr>\n",
              "      <th>39</th>\n",
              "      <td>School</td>\n",
              "      <td>0.455696</td>\n",
              "    </tr>\n",
              "    <tr>\n",
              "      <th>13</th>\n",
              "      <td>Housing</td>\n",
              "      <td>0.455446</td>\n",
              "    </tr>\n",
              "    <tr>\n",
              "      <th>34</th>\n",
              "      <td>Police</td>\n",
              "      <td>0.436364</td>\n",
              "    </tr>\n",
              "    <tr>\n",
              "      <th>53</th>\n",
              "      <td>Transport: type 2</td>\n",
              "      <td>0.433333</td>\n",
              "    </tr>\n",
              "    <tr>\n",
              "      <th>31</th>\n",
              "      <td>Military</td>\n",
              "      <td>0.432432</td>\n",
              "    </tr>\n",
              "    <tr>\n",
              "      <th>2</th>\n",
              "      <td>Bank</td>\n",
              "      <td>0.428571</td>\n",
              "    </tr>\n",
              "    <tr>\n",
              "      <th>8</th>\n",
              "      <td>Culture</td>\n",
              "      <td>0.428571</td>\n",
              "    </tr>\n",
              "    <tr>\n",
              "      <th>6</th>\n",
              "      <td>Cleaning</td>\n",
              "      <td>0.428571</td>\n",
              "    </tr>\n",
              "    <tr>\n",
              "      <th>16</th>\n",
              "      <td>Industry: type 11</td>\n",
              "      <td>0.425287</td>\n",
              "    </tr>\n",
              "    <tr>\n",
              "      <th>28</th>\n",
              "      <td>Kindergarten</td>\n",
              "      <td>0.422330</td>\n",
              "    </tr>\n",
              "    <tr>\n",
              "      <th>32</th>\n",
              "      <td>Mobile</td>\n",
              "      <td>0.416667</td>\n",
              "    </tr>\n",
              "    <tr>\n",
              "      <th>57</th>\n",
              "      <td>XNA</td>\n",
              "      <td>0.401413</td>\n",
              "    </tr>\n",
              "    <tr>\n",
              "      <th>56</th>\n",
              "      <td>University</td>\n",
              "      <td>0.388889</td>\n",
              "    </tr>\n",
              "    <tr>\n",
              "      <th>29</th>\n",
              "      <td>Legal Services</td>\n",
              "      <td>0.384615</td>\n",
              "    </tr>\n",
              "    <tr>\n",
              "      <th>41</th>\n",
              "      <td>Security Ministries</td>\n",
              "      <td>0.377358</td>\n",
              "    </tr>\n",
              "    <tr>\n",
              "      <th>43</th>\n",
              "      <td>Services</td>\n",
              "      <td>0.373134</td>\n",
              "    </tr>\n",
              "    <tr>\n",
              "      <th>27</th>\n",
              "      <td>Insurance</td>\n",
              "      <td>0.368421</td>\n",
              "    </tr>\n",
              "    <tr>\n",
              "      <th>10</th>\n",
              "      <td>Emergency</td>\n",
              "      <td>0.363636</td>\n",
              "    </tr>\n",
              "    <tr>\n",
              "      <th>50</th>\n",
              "      <td>Trade: type 6</td>\n",
              "      <td>0.352941</td>\n",
              "    </tr>\n",
              "    <tr>\n",
              "      <th>37</th>\n",
              "      <td>Religion</td>\n",
              "      <td>0.333333</td>\n",
              "    </tr>\n",
              "    <tr>\n",
              "      <th>49</th>\n",
              "      <td>Trade: type 5</td>\n",
              "      <td>0.250000</td>\n",
              "    </tr>\n",
              "    <tr>\n",
              "      <th>17</th>\n",
              "      <td>Industry: type 12</td>\n",
              "      <td>0.250000</td>\n",
              "    </tr>\n",
              "    <tr>\n",
              "      <th>15</th>\n",
              "      <td>Industry: type 10</td>\n",
              "      <td>0.166667</td>\n",
              "    </tr>\n",
              "    <tr>\n",
              "      <th>48</th>\n",
              "      <td>Trade: type 4</td>\n",
              "      <td>0.000000</td>\n",
              "    </tr>\n",
              "    <tr>\n",
              "      <th>25</th>\n",
              "      <td>Industry: type 8</td>\n",
              "      <td>0.000000</td>\n",
              "    </tr>\n",
              "  </tbody>\n",
              "</table>\n",
              "</div>\n",
              "      <button class=\"colab-df-convert\" onclick=\"convertToInteractive('df-b525bf30-be5d-4d0b-b68c-974af237834f')\"\n",
              "              title=\"Convert this dataframe to an interactive table.\"\n",
              "              style=\"display:none;\">\n",
              "        \n",
              "  <svg xmlns=\"http://www.w3.org/2000/svg\" height=\"24px\"viewBox=\"0 0 24 24\"\n",
              "       width=\"24px\">\n",
              "    <path d=\"M0 0h24v24H0V0z\" fill=\"none\"/>\n",
              "    <path d=\"M18.56 5.44l.94 2.06.94-2.06 2.06-.94-2.06-.94-.94-2.06-.94 2.06-2.06.94zm-11 1L8.5 8.5l.94-2.06 2.06-.94-2.06-.94L8.5 2.5l-.94 2.06-2.06.94zm10 10l.94 2.06.94-2.06 2.06-.94-2.06-.94-.94-2.06-.94 2.06-2.06.94z\"/><path d=\"M17.41 7.96l-1.37-1.37c-.4-.4-.92-.59-1.43-.59-.52 0-1.04.2-1.43.59L10.3 9.45l-7.72 7.72c-.78.78-.78 2.05 0 2.83L4 21.41c.39.39.9.59 1.41.59.51 0 1.02-.2 1.41-.59l7.78-7.78 2.81-2.81c.8-.78.8-2.07 0-2.86zM5.41 20L4 18.59l7.72-7.72 1.47 1.35L5.41 20z\"/>\n",
              "  </svg>\n",
              "      </button>\n",
              "      \n",
              "  <style>\n",
              "    .colab-df-container {\n",
              "      display:flex;\n",
              "      flex-wrap:wrap;\n",
              "      gap: 12px;\n",
              "    }\n",
              "\n",
              "    .colab-df-convert {\n",
              "      background-color: #E8F0FE;\n",
              "      border: none;\n",
              "      border-radius: 50%;\n",
              "      cursor: pointer;\n",
              "      display: none;\n",
              "      fill: #1967D2;\n",
              "      height: 32px;\n",
              "      padding: 0 0 0 0;\n",
              "      width: 32px;\n",
              "    }\n",
              "\n",
              "    .colab-df-convert:hover {\n",
              "      background-color: #E2EBFA;\n",
              "      box-shadow: 0px 1px 2px rgba(60, 64, 67, 0.3), 0px 1px 3px 1px rgba(60, 64, 67, 0.15);\n",
              "      fill: #174EA6;\n",
              "    }\n",
              "\n",
              "    [theme=dark] .colab-df-convert {\n",
              "      background-color: #3B4455;\n",
              "      fill: #D2E3FC;\n",
              "    }\n",
              "\n",
              "    [theme=dark] .colab-df-convert:hover {\n",
              "      background-color: #434B5C;\n",
              "      box-shadow: 0px 1px 3px 1px rgba(0, 0, 0, 0.15);\n",
              "      filter: drop-shadow(0px 1px 2px rgba(0, 0, 0, 0.3));\n",
              "      fill: #FFFFFF;\n",
              "    }\n",
              "  </style>\n",
              "\n",
              "      <script>\n",
              "        const buttonEl =\n",
              "          document.querySelector('#df-b525bf30-be5d-4d0b-b68c-974af237834f button.colab-df-convert');\n",
              "        buttonEl.style.display =\n",
              "          google.colab.kernel.accessAllowed ? 'block' : 'none';\n",
              "\n",
              "        async function convertToInteractive(key) {\n",
              "          const element = document.querySelector('#df-b525bf30-be5d-4d0b-b68c-974af237834f');\n",
              "          const dataTable =\n",
              "            await google.colab.kernel.invokeFunction('convertToInteractive',\n",
              "                                                     [key], {});\n",
              "          if (!dataTable) return;\n",
              "\n",
              "          const docLinkHtml = 'Like what you see? Visit the ' +\n",
              "            '<a target=\"_blank\" href=https://colab.research.google.com/notebooks/data_table.ipynb>data table notebook</a>'\n",
              "            + ' to learn more about interactive tables.';\n",
              "          element.innerHTML = '';\n",
              "          dataTable['output_type'] = 'display_data';\n",
              "          await google.colab.output.renderOutput(dataTable, element);\n",
              "          const docLink = document.createElement('div');\n",
              "          docLink.innerHTML = docLinkHtml;\n",
              "          element.appendChild(docLink);\n",
              "        }\n",
              "      </script>\n",
              "    </div>\n",
              "  </div>\n",
              "  "
            ]
          },
          "metadata": {},
          "execution_count": 95
        }
      ]
    },
    {
      "cell_type": "markdown",
      "source": [
        "Terlihat bahwa nasabah dengan tipe organisasi: tipe 3 memiliki persentase tertinggi (sekitar 15%) dengan TARGET = 1, yaitu mengalami masalah dalam pengembalian pinjaman."
      ],
      "metadata": {
        "id": "uCg1DH7IDpCB"
      }
    },
    {
      "cell_type": "markdown",
      "source": [
        "# Bivariate: Numerical Features Vs Target"
      ],
      "metadata": {
        "id": "elfAk5GLDr8o"
      }
    },
    {
      "cell_type": "markdown",
      "source": [
        "Amount Credit of the Loan Vs Target"
      ],
      "metadata": {
        "id": "Y2wa8sErDuwI"
      }
    },
    {
      "cell_type": "code",
      "source": [
        "sns.boxplot(x='TARGET', y='AMT_CREDIT', data=df, palette = 'ch:start=0.2,rot=-.3_r')\n",
        "plt.grid()\n",
        "plt.show()"
      ],
      "metadata": {
        "colab": {
          "base_uri": "https://localhost:8080/",
          "height": 290
        },
        "id": "5WqEXlFMDvYa",
        "outputId": "949e9d2d-d477-480c-b34c-909243ce9601"
      },
      "execution_count": 97,
      "outputs": [
        {
          "output_type": "display_data",
          "data": {
            "text/plain": [
              "<Figure size 432x288 with 1 Axes>"
            ],
            "image/png": "[encoded data removed]"
          },
          "metadata": {}
        }
      ]
    },
    {
      "cell_type": "markdown",
      "source": [
        "Dapat dilihat bahwa nilai median dari jumlah kredit nasabah yang tidak mengalami kesulitan pembayaran sedikit lebih besar dari nilai median nasabah yang mengalami kesulitan pembayaran. Artinya, nasabah dengan jumlah kredit yang lebih tinggi memiliki peluang sedikit lebih tinggi untuk dapat melunasi pinjaman dibandingkan nasabah dengan jumlah kredit yang lebih rendah."
      ],
      "metadata": {
        "id": "64LScr8LENlA"
      }
    },
    {
      "cell_type": "markdown",
      "source": [
        "Amount Income Vs Target"
      ],
      "metadata": {
        "id": "HSXZk3FFEQxg"
      }
    },
    {
      "cell_type": "code",
      "source": [
        "sns.boxplot(x='TARGET', y='AMT_INCOME_TOTAL', data=df, palette = 'ch:start=0.2,rot=-.3_r')\n",
        "plt.grid()\n",
        "plt.show()"
      ],
      "metadata": {
        "colab": {
          "base_uri": "https://localhost:8080/",
          "height": 290
        },
        "id": "oaTh_Cp4ETeo",
        "outputId": "7aeba85d-33c9-47c2-a7e5-382df69e4f45"
      },
      "execution_count": 98,
      "outputs": [
        {
          "output_type": "display_data",
          "data": {
            "text/plain": [
              "<Figure size 432x288 with 1 Axes>"
            ],
            "image/png": "[encoded data removed]"
          },
          "metadata": {}
        }
      ]
    },
    {
      "cell_type": "markdown",
      "source": [
        "Dapat dilihat bahwa baik nasabah yang mengalami kesulitan pembayaran maupun nasabah yang tidak mengalami kesulitan pembayaran, sebagian besar memiliki nilai yang sama. Namun, seiring dengan meningkatnya pendapatan nasabah, probabilitas nasabah yang tidak mengalami kesulitan dalam membayar pinjaman juga meningkat."
      ],
      "metadata": {
        "id": "yuXy-EPgEf_w"
      }
    },
    {
      "cell_type": "markdown",
      "source": [
        "Age Vs target"
      ],
      "metadata": {
        "id": "0JDgqq9vEiNP"
      }
    },
    {
      "cell_type": "code",
      "source": [
        "no_age = data[data['TARGET']==0]['DAYS_BIRTH'].values/-365\n",
        "yes_age = data[data['TARGET']==1]['DAYS_BIRTH'].values/-365"
      ],
      "metadata": {
        "id": "r7Cr9Hr6EjVT"
      },
      "execution_count": 99,
      "outputs": []
    },
    {
      "cell_type": "code",
      "source": [
        "plt.figure(figsize=(10,3))\n",
        "plt.hist(data['DAYS_BIRTH'].values/-365, bins=10, edgecolor='black', color='steelblue')\n",
        "plt.title('Age of Client (in years) at the time of Application\\n')\n",
        "plt.xlabel('Age Bucket')\n",
        "plt.ylabel('Number of Clients')\n",
        "plt.show()\n",
        "\n",
        "plt.figure(figsize=(10,3))\n",
        "plt.hist(no_age, bins=10, edgecolor='black', color='teal')\n",
        "plt.title('Age of Client (in years) who have No Payment Difficulties\\n')\n",
        "plt.xlabel('Age')\n",
        "plt.ylabel('Number of Clients')\n",
        "plt.show()\n",
        "\n",
        "plt.figure(figsize=(10,3))\n",
        "plt.hist(yes_age, bins=10, edgecolor='black', color='maroon')\n",
        "plt.title('Age of Client (in years) who have Payment Difficulties\\n')\n",
        "plt.xlabel('Age')\n",
        "plt.ylabel('Number of Clients')\n",
        "plt.show()"
      ],
      "metadata": {
        "colab": {
          "base_uri": "https://localhost:8080/",
          "height": 719
        },
        "id": "BB0moa9IE6vL",
        "outputId": "ed3f193e-977e-47ac-bd5f-965467afaa15"
      },
      "execution_count": 100,
      "outputs": [
        {
          "output_type": "display_data",
          "data": {
            "text/plain": [
              "<Figure size 720x216 with 1 Axes>"
            ],
            "image/png": "[encoded data removed]"
          },
          "metadata": {}
        },
        {
          "output_type": "display_data",
          "data": {
            "text/plain": [
              "<Figure size 720x216 with 1 Axes>"
            ],
            "image/png": "[encoded data removed]"
          },
          "metadata": {}
        },
        {
          "output_type": "display_data",
          "data": {
            "text/plain": [
              "<Figure size 720x216 with 1 Axes>"
            ],
            "image/png": "[encoded data removed]"
          },
          "metadata": {}
        }
      ]
    },
    {
      "cell_type": "markdown",
      "source": [
        "Sebagian besar nasabah yang mengajukan pinjaman berusia antara 35-40 tahun, diikuti oleh nasabah berusia antara 40-45 tahun. Sementara itu, jumlah pemohon untuk nasabah yang berusia <25 tahun atau usia >65 tahun sangat rendah.\n",
        "\n",
        "Klien yang tidak mengalami kesulitan pembayaran adalah klien dengan rentang usia 35-45 tahun. Sedangkan klien yang mengalami kesulitan pembayaran adalah klien dengan rentang usia 25-35 tahun."
      ],
      "metadata": {
        "id": "VKS2haozFOJY"
      }
    },
    {
      "cell_type": "markdown",
      "source": [
        "**Multivariat Visualization**"
      ],
      "metadata": {
        "id": "5edB7xMyFTOw"
      }
    },
    {
      "cell_type": "markdown",
      "source": [
        "Grouped by Realty Ownership Status"
      ],
      "metadata": {
        "id": "TsNSE95gFid5"
      }
    },
    {
      "cell_type": "markdown",
      "source": [
        "1. Car Ownership Status, The Number of Children, Target, and House/Flat Ownership Status"
      ],
      "metadata": {
        "id": "78_-w2pnFauQ"
      }
    },
    {
      "cell_type": "code",
      "source": [
        "sns.catplot(x = 'FLAG_OWN_CAR',\n",
        "            y = 'CNT_CHILDREN', \n",
        "            hue = 'TARGET', \n",
        "            col = 'FLAG_OWN_REALTY', \n",
        "            kind = 'bar', palette = 'ch:start=0.2,rot=-.3_r',\n",
        "            data = df)\n",
        "plt.show()"
      ],
      "metadata": {
        "colab": {
          "base_uri": "https://localhost:8080/",
          "height": 296
        },
        "id": "3odr5ai6FoZ0",
        "outputId": "83ea50a7-8fd7-4abe-b4ee-3340dfab2c12"
      },
      "execution_count": 101,
      "outputs": [
        {
          "output_type": "display_data",
          "data": {
            "text/plain": [
              "<Figure size 803.805x360 with 2 Axes>"
            ],
            "image/png": "[encoded data removed]"
          },
          "metadata": {}
        }
      ]
    },
    {
      "cell_type": "markdown",
      "source": [
        "Nasabah yang memiliki mobil dan rumah/apartemen memiliki masalah dalam membayar pinjaman karena jumlah anak yang lebih banyak dibandingkan dengan nasabah yang tidak memiliki rumah/apartemen."
      ],
      "metadata": {
        "id": "qsAFEkgtFx8P"
      }
    },
    {
      "cell_type": "markdown",
      "source": [
        "2. Income Type, Amount of Goods Price, Target, and House/Flat Ownership Status"
      ],
      "metadata": {
        "id": "Qwj1-RL8F08g"
      }
    },
    {
      "cell_type": "code",
      "source": [
        "fig = sns.catplot(x = 'NAME_INCOME_TYPE',\n",
        "            y = 'AMT_GOODS_PRICE', \n",
        "            hue = 'TARGET', \n",
        "            col = 'FLAG_OWN_REALTY', \n",
        "            kind = 'bar', palette = 'ch:start=0.2,rot=-.3_r',\n",
        "            data = df)\n",
        "\n",
        "fig.set_xticklabels(rotation=45, horizontalalignment='right')\n",
        "plt.show()"
      ],
      "metadata": {
        "colab": {
          "base_uri": "https://localhost:8080/",
          "height": 349
        },
        "id": "fCz8YEJ5F2VQ",
        "outputId": "c2361288-0052-449c-9999-11c3ac7b6ac4"
      },
      "execution_count": 102,
      "outputs": [
        {
          "output_type": "display_data",
          "data": {
            "text/plain": [
              "<Figure size 803.805x360 with 2 Axes>"
            ],
            "image/png": "[encoded data removed]"
          },
          "metadata": {}
        }
      ]
    },
    {
      "cell_type": "markdown",
      "source": [
        "Nasabah dengan jenis pendapatan cuti melahirkan pada FLAG_OWN_REALTY = Ya (yaitu memiliki rumah/apartemen) memiliki masalah dalam melunasi pinjaman dibandingkan dengan nasabah dengan jenis pendapatan FLAG_OWN_REALTY = Tidak (yaitu tidak memiliki rumah/apartemen)."
      ],
      "metadata": {
        "id": "1oaTxpdWF9Nn"
      }
    },
    {
      "cell_type": "markdown",
      "source": [
        "3. Family Status, Amount of Income, Target, and House/Flat Ownership Status"
      ],
      "metadata": {
        "id": "Poj7BHwXGDSg"
      }
    },
    {
      "cell_type": "code",
      "source": [
        "fig = sns.catplot(x = 'NAME_FAMILY_STATUS',\n",
        "            y = 'AMT_INCOME_TOTAL', \n",
        "            hue = 'TARGET', \n",
        "            col = 'FLAG_OWN_REALTY', \n",
        "            kind = 'bar', palette = 'ch:start=0.2,rot=-.3_r',\n",
        "            data = df)\n",
        "\n",
        "fig.set_xticklabels(rotation=45, horizontalalignment='right')\n",
        "plt.show()"
      ],
      "metadata": {
        "colab": {
          "base_uri": "https://localhost:8080/",
          "height": 343
        },
        "id": "xogtiC_kGE-4",
        "outputId": "68451bf3-69f2-414c-b4a4-e1e091e9dbe8"
      },
      "execution_count": 103,
      "outputs": [
        {
          "output_type": "display_data",
          "data": {
            "text/plain": [
              "<Figure size 803.805x360 with 2 Axes>"
            ],
            "image/png": "[encoded data removed]"
          },
          "metadata": {}
        }
      ]
    },
    {
      "cell_type": "markdown",
      "source": [
        "Klien yang sudah menikah dan memiliki rumah/flat (FLAG_OWN_REALTY = Ya) memiliki masalah dalam membayar kembali pinjaman dengan pendapatan menengah dibandingkan dengan saat klien tidak memiliki rumah/flat (FLAG_OWN_REALTY = Tidak)."
      ],
      "metadata": {
        "id": "t6JeblwOGZRg"
      }
    },
    {
      "cell_type": "markdown",
      "source": [
        "**Grouped by Rating of Region where Client Lives**"
      ],
      "metadata": {
        "id": "4l3Osy8aH51x"
      }
    },
    {
      "cell_type": "markdown",
      "source": [
        "1. Housing Type, Amount Credit of Loan, Target, and Rating of Region where Client Lives"
      ],
      "metadata": {
        "id": "l1MeYxE6H-2U"
      }
    },
    {
      "cell_type": "code",
      "source": [
        "fig = sns.catplot(x = 'NAME_HOUSING_TYPE',\n",
        "            y = 'AMT_CREDIT', \n",
        "            hue = 'TARGET', \n",
        "            col = 'REGION_RATING_CLIENT', \n",
        "            kind = 'bar', palette = 'ch:start=0.2,rot=-.3_r',\n",
        "            data = df)\n",
        "\n",
        "fig.set_xticklabels(rotation=45, horizontalalignment='right')\n",
        "plt.show()"
      ],
      "metadata": {
        "colab": {
          "base_uri": "https://localhost:8080/",
          "height": 241
        },
        "id": "vOveAnGAIBOZ",
        "outputId": "bd141535-a0e8-4cce-f7f7-65ad65707751"
      },
      "execution_count": 104,
      "outputs": [
        {
          "output_type": "display_data",
          "data": {
            "text/plain": [
              "<Figure size 1163.81x360 with 3 Axes>"
            ],
            "image/png": "[encoded data removed]"
          },
          "metadata": {}
        }
      ]
    },
    {
      "cell_type": "markdown",
      "source": [
        "Nasabah yang tinggal di apartemen sewaan dan apartemen perkantoran dan wilayah mereka memiliki peringkat 1, memiliki masalah dalam membayar pinjaman dibandingkan dengan nasabah di wilayah dengan peringkat 2 untuk jumlah kredit menengah."
      ],
      "metadata": {
        "id": "2LqcguPqISxA"
      }
    },
    {
      "cell_type": "markdown",
      "source": [
        "2. Education Type, Amount Credit of Loan, Target, and Rating of Region where Client Lives"
      ],
      "metadata": {
        "id": "xVsAh9MuILZY"
      }
    },
    {
      "cell_type": "code",
      "source": [
        "fig = sns.catplot(x = 'NAME_EDUCATION_TYPE',\n",
        "            y = 'AMT_CREDIT', \n",
        "            hue = 'TARGET', \n",
        "            col = 'REGION_RATING_CLIENT', \n",
        "            kind = 'bar', palette = 'ch:start=0.2,rot=-.3_r',\n",
        "            data = df)\n",
        "\n",
        "fig.set_xticklabels(rotation=45, horizontalalignment='right')\n",
        "plt.show()"
      ],
      "metadata": {
        "colab": {
          "base_uri": "https://localhost:8080/",
          "height": 252
        },
        "id": "CmfV8FONIPi_",
        "outputId": "414155ae-e54e-4ab7-f308-169a9ed8f657"
      },
      "execution_count": 105,
      "outputs": [
        {
          "output_type": "display_data",
          "data": {
            "text/plain": [
              "<Figure size 1163.81x360 with 3 Axes>"
            ],
            "image/png": "[encoded data removed]"
          },
          "metadata": {}
        }
      ]
    },
    {
      "cell_type": "markdown",
      "source": [
        "Untuk nasabah yang memiliki gelar akademis dan tinggal di wilayah dengan peringkat 2, memiliki masalah dalam membayar pinjaman untuk jumlah kredit yang lebih tinggi. Dan, nasabah dengan gelar yang sama tetapi tinggal di wilayah dengan peringkat 3 memiliki masalah dalam membayar pinjaman untuk jumlah kredit pinjaman menengah."
      ],
      "metadata": {
        "id": "_ZR_NHCHIgVp"
      }
    },
    {
      "cell_type": "markdown",
      "source": [
        "3. Family Status, Amount Credit of Loan, Target, and Rating of Region where Client Lives"
      ],
      "metadata": {
        "id": "1MFUAxV8IYBq"
      }
    },
    {
      "cell_type": "code",
      "source": [
        "fig = sns.catplot(x = 'NAME_FAMILY_STATUS',\n",
        "            y = 'AMT_CREDIT', \n",
        "            hue = 'TARGET', \n",
        "            col = 'REGION_RATING_CLIENT', \n",
        "            kind = 'bar', palette = 'ch:start=0.2,rot=-.3_r',\n",
        "            data = df)\n",
        "\n",
        "fig.set_xticklabels(rotation=45, horizontalalignment='right')\n",
        "plt.show()"
      ],
      "metadata": {
        "colab": {
          "base_uri": "https://localhost:8080/",
          "height": 241
        },
        "id": "pUo6CsrEIU-5",
        "outputId": "48ac8aa5-5f62-496d-8bdd-0619ae18f4ef"
      },
      "execution_count": 106,
      "outputs": [
        {
          "output_type": "display_data",
          "data": {
            "text/plain": [
              "<Figure size 1163.81x360 with 3 Axes>"
            ],
            "image/png": "[encoded data removed]"
          },
          "metadata": {}
        }
      ]
    },
    {
      "cell_type": "markdown",
      "source": [
        "Nasabah yang memiliki status keluarga sebagai janda, baik yang tinggal di daerah dengan peringkat 1, 2, atau 3, memiliki masalah dalam membayar pinjaman untuk kredit dengan jumlah sedang hingga tinggi.\n",
        "\n",
        "Nasabah yang memiliki status keluarga sebagai janda/duda, dan tinggal di daerah dengan peringkat 3, memiliki masalah dalam membayar pinjaman untuk jumlah kredit yang sedang dibandingkan dengan nasabah yang tinggal di daerah dengan peringkat 1 atau 2."
      ],
      "metadata": {
        "id": "ZqcGuA7NImq5"
      }
    },
    {
      "cell_type": "markdown",
      "source": [
        "# Data Cleaning"
      ],
      "metadata": {
        "id": "Lp0OvcGbIoQQ"
      }
    },
    {
      "cell_type": "code",
      "execution_count": null,
      "metadata": {
        "id": "OlaXmkpKKydA"
      },
      "outputs": [],
      "source": [
        "#mengecek apakah dataset memiliki data duplikat\n",
        "df[df.duplicated()]"
      ]
    },
    {
      "cell_type": "code",
      "execution_count": null,
      "metadata": {
        "colab": {
          "base_uri": "https://localhost:8080/",
          "height": 694
        },
        "id": "9MdOFU0HKVcb",
        "outputId": "cfb7df2d-9b95-4644-d403-d115709316ee"
      },
      "outputs": [
        {
          "output_type": "stream",
          "name": "stdout",
          "text": [
            "Count and percentage of missing values for top 20 columns:\n"
          ]
        },
        {
          "output_type": "execute_result",
          "data": {
            "text/plain": [
              "                          Count  Percentage\n",
              "COMMONAREA_MEDI            7170       71.70\n",
              "COMMONAREA_AVG             7170       71.70\n",
              "COMMONAREA_MODE            7170       71.70\n",
              "NONLIVINGAPARTMENTS_MODE   7138       71.38\n",
              "NONLIVINGAPARTMENTS_AVG    7138       71.38\n",
              "NONLIVINGAPARTMENTS_MEDI   7138       71.38\n",
              "LIVINGAPARTMENTS_MODE      7040       70.40\n",
              "LIVINGAPARTMENTS_AVG       7040       70.40\n",
              "LIVINGAPARTMENTS_MEDI      7040       70.40\n",
              "FONDKAPREMONT_MODE         7028       70.28\n",
              "FLOORSMIN_AVG              6990       69.90\n",
              "FLOORSMIN_MODE             6990       69.90\n",
              "FLOORSMIN_MEDI             6990       69.90\n",
              "YEARS_BUILD_MEDI           6857       68.57\n",
              "YEARS_BUILD_MODE           6857       68.57\n",
              "YEARS_BUILD_AVG            6857       68.57\n",
              "OWN_CAR_AGE                6758       67.58\n",
              "LANDAREA_MEDI              6186       61.86\n",
              "LANDAREA_MODE              6186       61.86\n",
              "LANDAREA_AVG               6186       61.86"
            ],
            "text/html": [
              "\n",
              "  <div id=\"df-e06f61e5-6315-4616-9c5b-27c4bd141758\">\n",
              "    <div class=\"colab-df-container\">\n",
              "      <div>\n",
              "<style scoped>\n",
              "    .dataframe tbody tr th:only-of-type {\n",
              "        vertical-align: middle;\n",
              "    }\n",
              "\n",
              "    .dataframe tbody tr th {\n",
              "        vertical-align: top;\n",
              "    }\n",
              "\n",
              "    .dataframe thead th {\n",
              "        text-align: right;\n",
              "    }\n",
              "</style>\n",
              "<table border=\"1\" class=\"dataframe\">\n",
              "  <thead>\n",
              "    <tr style=\"text-align: right;\">\n",
              "      <th></th>\n",
              "      <th>Count</th>\n",
              "      <th>Percentage</th>\n",
              "    </tr>\n",
              "  </thead>\n",
              "  <tbody>\n",
              "    <tr>\n",
              "      <th>COMMONAREA_MEDI</th>\n",
              "      <td>7170</td>\n",
              "      <td>71.70</td>\n",
              "    </tr>\n",
              "    <tr>\n",
              "      <th>COMMONAREA_AVG</th>\n",
              "      <td>7170</td>\n",
              "      <td>71.70</td>\n",
              "    </tr>\n",
              "    <tr>\n",
              "      <th>COMMONAREA_MODE</th>\n",
              "      <td>7170</td>\n",
              "      <td>71.70</td>\n",
              "    </tr>\n",
              "    <tr>\n",
              "      <th>NONLIVINGAPARTMENTS_MODE</th>\n",
              "      <td>7138</td>\n",
              "      <td>71.38</td>\n",
              "    </tr>\n",
              "    <tr>\n",
              "      <th>NONLIVINGAPARTMENTS_AVG</th>\n",
              "      <td>7138</td>\n",
              "      <td>71.38</td>\n",
              "    </tr>\n",
              "    <tr>\n",
              "      <th>NONLIVINGAPARTMENTS_MEDI</th>\n",
              "      <td>7138</td>\n",
              "      <td>71.38</td>\n",
              "    </tr>\n",
              "    <tr>\n",
              "      <th>LIVINGAPARTMENTS_MODE</th>\n",
              "      <td>7040</td>\n",
              "      <td>70.40</td>\n",
              "    </tr>\n",
              "    <tr>\n",
              "      <th>LIVINGAPARTMENTS_AVG</th>\n",
              "      <td>7040</td>\n",
              "      <td>70.40</td>\n",
              "    </tr>\n",
              "    <tr>\n",
              "      <th>LIVINGAPARTMENTS_MEDI</th>\n",
              "      <td>7040</td>\n",
              "      <td>70.40</td>\n",
              "    </tr>\n",
              "    <tr>\n",
              "      <th>FONDKAPREMONT_MODE</th>\n",
              "      <td>7028</td>\n",
              "      <td>70.28</td>\n",
              "    </tr>\n",
              "    <tr>\n",
              "      <th>FLOORSMIN_AVG</th>\n",
              "      <td>6990</td>\n",
              "      <td>69.90</td>\n",
              "    </tr>\n",
              "    <tr>\n",
              "      <th>FLOORSMIN_MODE</th>\n",
              "      <td>6990</td>\n",
              "      <td>69.90</td>\n",
              "    </tr>\n",
              "    <tr>\n",
              "      <th>FLOORSMIN_MEDI</th>\n",
              "      <td>6990</td>\n",
              "      <td>69.90</td>\n",
              "    </tr>\n",
              "    <tr>\n",
              "      <th>YEARS_BUILD_MEDI</th>\n",
              "      <td>6857</td>\n",
              "      <td>68.57</td>\n",
              "    </tr>\n",
              "    <tr>\n",
              "      <th>YEARS_BUILD_MODE</th>\n",
              "      <td>6857</td>\n",
              "      <td>68.57</td>\n",
              "    </tr>\n",
              "    <tr>\n",
              "      <th>YEARS_BUILD_AVG</th>\n",
              "      <td>6857</td>\n",
              "      <td>68.57</td>\n",
              "    </tr>\n",
              "    <tr>\n",
              "      <th>OWN_CAR_AGE</th>\n",
              "      <td>6758</td>\n",
              "      <td>67.58</td>\n",
              "    </tr>\n",
              "    <tr>\n",
              "      <th>LANDAREA_MEDI</th>\n",
              "      <td>6186</td>\n",
              "      <td>61.86</td>\n",
              "    </tr>\n",
              "    <tr>\n",
              "      <th>LANDAREA_MODE</th>\n",
              "      <td>6186</td>\n",
              "      <td>61.86</td>\n",
              "    </tr>\n",
              "    <tr>\n",
              "      <th>LANDAREA_AVG</th>\n",
              "      <td>6186</td>\n",
              "      <td>61.86</td>\n",
              "    </tr>\n",
              "  </tbody>\n",
              "</table>\n",
              "</div>\n",
              "      <button class=\"colab-df-convert\" onclick=\"convertToInteractive('df-e06f61e5-6315-4616-9c5b-27c4bd141758')\"\n",
              "              title=\"Convert this dataframe to an interactive table.\"\n",
              "              style=\"display:none;\">\n",
              "        \n",
              "  <svg xmlns=\"http://www.w3.org/2000/svg\" height=\"24px\"viewBox=\"0 0 24 24\"\n",
              "       width=\"24px\">\n",
              "    <path d=\"M0 0h24v24H0V0z\" fill=\"none\"/>\n",
              "    <path d=\"M18.56 5.44l.94 2.06.94-2.06 2.06-.94-2.06-.94-.94-2.06-.94 2.06-2.06.94zm-11 1L8.5 8.5l.94-2.06 2.06-.94-2.06-.94L8.5 2.5l-.94 2.06-2.06.94zm10 10l.94 2.06.94-2.06 2.06-.94-2.06-.94-.94-2.06-.94 2.06-2.06.94z\"/><path d=\"M17.41 7.96l-1.37-1.37c-.4-.4-.92-.59-1.43-.59-.52 0-1.04.2-1.43.59L10.3 9.45l-7.72 7.72c-.78.78-.78 2.05 0 2.83L4 21.41c.39.39.9.59 1.41.59.51 0 1.02-.2 1.41-.59l7.78-7.78 2.81-2.81c.8-.78.8-2.07 0-2.86zM5.41 20L4 18.59l7.72-7.72 1.47 1.35L5.41 20z\"/>\n",
              "  </svg>\n",
              "      </button>\n",
              "      \n",
              "  <style>\n",
              "    .colab-df-container {\n",
              "      display:flex;\n",
              "      flex-wrap:wrap;\n",
              "      gap: 12px;\n",
              "    }\n",
              "\n",
              "    .colab-df-convert {\n",
              "      background-color: #E8F0FE;\n",
              "      border: none;\n",
              "      border-radius: 50%;\n",
              "      cursor: pointer;\n",
              "      display: none;\n",
              "      fill: #1967D2;\n",
              "      height: 32px;\n",
              "      padding: 0 0 0 0;\n",
              "      width: 32px;\n",
              "    }\n",
              "\n",
              "    .colab-df-convert:hover {\n",
              "      background-color: #E2EBFA;\n",
              "      box-shadow: 0px 1px 2px rgba(60, 64, 67, 0.3), 0px 1px 3px 1px rgba(60, 64, 67, 0.15);\n",
              "      fill: #174EA6;\n",
              "    }\n",
              "\n",
              "    [theme=dark] .colab-df-convert {\n",
              "      background-color: #3B4455;\n",
              "      fill: #D2E3FC;\n",
              "    }\n",
              "\n",
              "    [theme=dark] .colab-df-convert:hover {\n",
              "      background-color: #434B5C;\n",
              "      box-shadow: 0px 1px 3px 1px rgba(0, 0, 0, 0.15);\n",
              "      filter: drop-shadow(0px 1px 2px rgba(0, 0, 0, 0.3));\n",
              "      fill: #FFFFFF;\n",
              "    }\n",
              "  </style>\n",
              "\n",
              "      <script>\n",
              "        const buttonEl =\n",
              "          document.querySelector('#df-e06f61e5-6315-4616-9c5b-27c4bd141758 button.colab-df-convert');\n",
              "        buttonEl.style.display =\n",
              "          google.colab.kernel.accessAllowed ? 'block' : 'none';\n",
              "\n",
              "        async function convertToInteractive(key) {\n",
              "          const element = document.querySelector('#df-e06f61e5-6315-4616-9c5b-27c4bd141758');\n",
              "          const dataTable =\n",
              "            await google.colab.kernel.invokeFunction('convertToInteractive',\n",
              "                                                     [key], {});\n",
              "          if (!dataTable) return;\n",
              "\n",
              "          const docLinkHtml = 'Like what you see? Visit the ' +\n",
              "            '<a target=\"_blank\" href=https://colab.research.google.com/notebooks/data_table.ipynb>data table notebook</a>'\n",
              "            + ' to learn more about interactive tables.';\n",
              "          element.innerHTML = '';\n",
              "          dataTable['output_type'] = 'display_data';\n",
              "          await google.colab.output.renderOutput(dataTable, element);\n",
              "          const docLink = document.createElement('div');\n",
              "          docLink.innerHTML = docLinkHtml;\n",
              "          element.appendChild(docLink);\n",
              "        }\n",
              "      </script>\n",
              "    </div>\n",
              "  </div>\n",
              "  "
            ]
          },
          "metadata": {},
          "execution_count": 6
        }
      ],
      "source": [
        "count = df.isnull().sum().sort_values(ascending=False)\n",
        "percentage = ((df.isnull().sum()/len(df)*100)).sort_values(ascending=False)\n",
        "missing_df = pd.concat([count, percentage], axis=1, keys=['Count','Percentage'])\n",
        "print('Count and percentage of missing values for top 20 columns:')\n",
        "missing_df.head(20)"
      ]
    },
    {
      "cell_type": "code",
      "execution_count": null,
      "metadata": {
        "colab": {
          "base_uri": "https://localhost:8080/"
        },
        "id": "fqIlmYcOPZ1a",
        "outputId": "9867846a-ca80-419f-cb65-c0c798a9af0e"
      },
      "outputs": [
        {
          "output_type": "stream",
          "name": "stdout",
          "text": [
            "58\n"
          ]
        }
      ],
      "source": [
        "percentage = list(percentage[percentage.values>0.3].index)\n",
        "df.drop(labels=percentage,axis=1,inplace=True)\n",
        "print(len(percentage))"
      ]
    },
    {
      "cell_type": "code",
      "execution_count": null,
      "metadata": {
        "colab": {
          "base_uri": "https://localhost:8080/"
        },
        "id": "3ExonIiF63dn",
        "outputId": "1ba20b52-ecf7-4ba4-ea29-1113c393fbf8"
      },
      "outputs": [
        {
          "output_type": "execute_result",
          "data": {
            "text/plain": [
              "(10000, 64)"
            ]
          },
          "metadata": {},
          "execution_count": 8
        }
      ],
      "source": [
        "df.shape"
      ]
    },
    {
      "cell_type": "code",
      "execution_count": null,
      "metadata": {
        "colab": {
          "base_uri": "https://localhost:8080/"
        },
        "id": "OyvKFg9-gaX2",
        "outputId": "36d2d547-7783-402e-8c62-2c82156eecbf"
      },
      "outputs": [
        {
          "output_type": "execute_result",
          "data": {
            "text/plain": [
              "SK_ID_CURR            0\n",
              "TARGET                0\n",
              "NAME_CONTRACT_TYPE    0\n",
              "CODE_GENDER           0\n",
              "FLAG_OWN_CAR          0\n",
              "                     ..\n",
              "FLAG_DOCUMENT_17      0\n",
              "FLAG_DOCUMENT_18      0\n",
              "FLAG_DOCUMENT_19      0\n",
              "FLAG_DOCUMENT_20      0\n",
              "FLAG_DOCUMENT_21      0\n",
              "Length: 64, dtype: int64"
            ]
          },
          "metadata": {},
          "execution_count": 9
        }
      ],
      "source": [
        "# Cleaning the missing data\n",
        "df.isnull().sum()"
      ]
    },
    {
      "cell_type": "markdown",
      "metadata": {
        "id": "x6-WrJS3KZOY"
      },
      "source": [
        "**Handle Missing Value**"
      ]
    },
    {
      "cell_type": "code",
      "execution_count": null,
      "metadata": {
        "id": "CCeqUx538z08"
      },
      "outputs": [],
      "source": [
        "df.dropna(inplace=True)"
      ]
    },
    {
      "cell_type": "code",
      "execution_count": null,
      "metadata": {
        "colab": {
          "base_uri": "https://localhost:8080/"
        },
        "id": "ciWvNwVpWWcm",
        "outputId": "29621400-6ece-4046-9e1d-86e3a6e2dba0"
      },
      "outputs": [
        {
          "output_type": "execute_result",
          "data": {
            "text/plain": [
              "(9941, 64)"
            ]
          },
          "metadata": {},
          "execution_count": 11
        }
      ],
      "source": [
        "df.shape"
      ]
    },
    {
      "cell_type": "code",
      "execution_count": null,
      "metadata": {
        "id": "-Uyj5WkIi9ac"
      },
      "outputs": [],
      "source": [
        "# Creating Age Column\n",
        "df['AGE'] = (df['DAYS_REGISTRATION']-df['DAYS_BIRTH'])/365\n",
        "df['CREDIT_TERM'] = (df['AMT_CREDIT'] / df['AMT_ANNUITY'])"
      ]
    },
    {
      "cell_type": "markdown",
      "source": [
        "Jumlah Nasabah Berdasarkan Kemampuan Membayarnya\n",
        "\n",
        "0 = lunas/tidak ada masalah pelunasan,1 = gagal bayar/memiliki kesulitan dala pembayaran "
      ],
      "metadata": {
        "id": "p_vEGymm-ZuG"
      }
    },
    {
      "cell_type": "markdown",
      "metadata": {
        "id": "mbvTfhTCMLLk"
      },
      "source": [
        "Distribusi data yang berhasil membayar pinjaman sebelumnya dan gagal bayar itu balance."
      ]
    },
    {
      "cell_type": "code",
      "execution_count": null,
      "metadata": {
        "id": "oS6HATuAMOu8"
      },
      "outputs": [],
      "source": [
        "plt.figure(figsize = (15,5))\n",
        "sns.countplot('CODE_GENDER',hue='TARGET',data=df)\n",
        "plt.xlabel('Gender : repaid vs default')\n",
        "plt.legend(frameon=True, loc=1, title='TARGET')\n",
        "plt.show()"
      ]
    },
    {
      "cell_type": "markdown",
      "source": [
        "Pria "
      ],
      "metadata": {
        "id": "Y8YaHPe1_7En"
      }
    },
    {
      "cell_type": "code",
      "execution_count": null,
      "metadata": {
        "id": "hbfrFScbQ2qL"
      },
      "outputs": [],
      "source": [
        "df.hist(figsize=(50,25),color='skyblue')"
      ]
    },
    {
      "cell_type": "markdown",
      "metadata": {
        "id": "9ucZAr-VR5Tc"
      },
      "source": [
        "**Correlation**"
      ]
    },
    {
      "cell_type": "code",
      "execution_count": null,
      "metadata": {
        "id": "ELobIbRQSFfc"
      },
      "outputs": [],
      "source": [
        "df.corr()['TARGET'].sort_values(ascending=False)"
      ]
    },
    {
      "cell_type": "code",
      "execution_count": null,
      "metadata": {
        "id": "fQaMJP_hiiJT"
      },
      "outputs": [],
      "source": [
        "#checking number of unique values\n",
        "df.nunique()"
      ]
    },
    {
      "cell_type": "code",
      "execution_count": null,
      "metadata": {
        "id": "3YctuArFjJ3D"
      },
      "outputs": [],
      "source": [
        "# dropping columns which are not necessary for prediction\n",
        "\n",
        "to_drop = ['DAYS_BIRTH','DAYS_EMPLOYED','DAYS_REGISTRATION','DAYS_ID_PUBLISH','WEEKDAY_APPR_PROCESS_START',\n",
        "           'HOUR_APPR_PROCESS_START','ORGANIZATION_TYPE','FLAG_MOBIL','DAYS_LAST_PHONE_CHANGE']\n",
        "\n",
        "df.drop(to_drop, inplace = True, axis = 1)"
      ]
    },
    {
      "cell_type": "code",
      "execution_count": null,
      "metadata": {
        "id": "Ojg1M3Aj2c6y"
      },
      "outputs": [],
      "source": [
        "for col in df.select_dtypes(include='object').columns.tolist():\n",
        "    print(df[col].value_counts(normalize=True)*100)\n",
        "    print('\\n')"
      ]
    },
    {
      "cell_type": "code",
      "execution_count": null,
      "metadata": {
        "id": "iAVn_MNg5Ij0"
      },
      "outputs": [],
      "source": [
        "X = df.drop('TARGET', axis = 1)\n",
        "y = df['TARGET']"
      ]
    },
    {
      "cell_type": "markdown",
      "metadata": {
        "id": "TKQzCIH4kLtD"
      },
      "source": [
        "**Encoding Categorical Columns**"
      ]
    },
    {
      "cell_type": "code",
      "execution_count": null,
      "metadata": {
        "id": "qH0j7rXW1WDJ"
      },
      "outputs": [],
      "source": [
        "from sklearn.preprocessing import LabelEncoder\n",
        "\n",
        "label_encoder = LabelEncoder()\n",
        "X['NAME_INCOME_TYPE'] = label_encoder.fit_transform(X['NAME_INCOME_TYPE'])\n",
        "X['NAME_FAMILY_STATUS'] = label_encoder.fit_transform(X['NAME_FAMILY_STATUS'])\n",
        "X['NAME_HOUSING_TYPE'] = label_encoder.fit_transform(X['NAME_HOUSING_TYPE'])\n",
        "X['NAME_EDUCATION_TYPE'] = label_encoder.fit_transform(X['NAME_EDUCATION_TYPE'])"
      ]
    },
    {
      "cell_type": "code",
      "execution_count": null,
      "metadata": {
        "id": "ReP367bUJHEk"
      },
      "outputs": [],
      "source": [
        "encoding = {\"NAME_CONTRACT_TYPE\": {\"Cash loans\": 0, \"Revolving loans\": 1}, \"CODE_GENDER\": {\"F\": 0, \"M\": 1}, \"FLAG_OWN_CAR\": {\"N\": 0, \"Y\": 1},\n",
        "            \"FLAG_OWN_REALTY\": {\"N\": 0, \"Y\": 1}}\n",
        "X.replace(encoding, inplace=True)"
      ]
    },
    {
      "cell_type": "code",
      "execution_count": null,
      "metadata": {
        "id": "njZqvL-h3qBy"
      },
      "outputs": [],
      "source": [
        "pd.set_option('display.max_columns', None)\n",
        "X.head()"
      ]
    },
    {
      "cell_type": "markdown",
      "metadata": {
        "id": "ahy-s7TUuDcB"
      },
      "source": [
        "Outlier Detection"
      ]
    },
    {
      "cell_type": "code",
      "execution_count": null,
      "metadata": {
        "id": "-YNu9XLcuC3J"
      },
      "outputs": [],
      "source": [
        "plt.figure(figsize = (20, 15))\n",
        "plotnumber = 1\n",
        "\n",
        "for col in X.columns:\n",
        "    if plotnumber <= 24:\n",
        "        ax = plt.subplot(5, 5, plotnumber)\n",
        "        sns.boxplot(X[col])\n",
        "        plt.xlabel(col, fontsize = 15)\n",
        "    \n",
        "    plotnumber += 1\n",
        "plt.tight_layout()\n",
        "plt.show()"
      ]
    },
    {
      "cell_type": "markdown",
      "metadata": {
        "id": "USXoaM1eun6Y"
      },
      "source": [
        "Handling Outliers"
      ]
    },
    {
      "cell_type": "code",
      "execution_count": null,
      "metadata": {
        "id": "jVY5JwbTudWP"
      },
      "outputs": [],
      "source": [
        "def treat_outlier(x):\n",
        "    q5 = np.percentile(x,5)\n",
        "    q25= np.percentile(x,25)\n",
        "    q75= np.percentile(x,75)\n",
        "    up_trend=np.percentile(x,95)\n",
        "    IQR = q75-q25\n",
        "    low_level = q25-(1.5*IQR)\n",
        "    up_level = q75+(1.5*IQR)\n",
        "    \n",
        "    return x.apply(lambda y: up_trend if y> up_level else y).apply(lambda y: q5 if y < low_level else y)\n",
        "\n",
        "outlier_list = ['CNT_CHILDREN','AMT_INCOME_TOTAL','AMT_CREDIT','AMT_ANNUITY','NAME_FAMILY_STATUS','NAME_HOUSING_TYPE','CNT_FAM_MEMBERS',\n",
        "               'REGION_POPULATION_RELATIVE','AMT_GOODS_PRICE','NAME_EDUCATION_TYPE','NAME_HOUSING_TYPE']\n",
        "\n",
        "\n",
        "for i in X[outlier_list]:\n",
        "    X[i]=treat_outlier(X[i])"
      ]
    },
    {
      "cell_type": "code",
      "execution_count": null,
      "metadata": {
        "id": "BquXeNh7ukr3"
      },
      "outputs": [],
      "source": [
        "plt.figure(figsize = (20, 15))\n",
        "plotnumber = 1\n",
        "\n",
        "for col in X.columns:\n",
        "    if plotnumber <= 24:\n",
        "        ax = plt.subplot(5, 5, plotnumber)\n",
        "        sns.boxplot(X[col])\n",
        "        plt.xlabel(col, fontsize = 15)\n",
        "    \n",
        "    plotnumber += 1\n",
        "plt.tight_layout()\n",
        "plt.show()"
      ]
    },
    {
      "cell_type": "code",
      "execution_count": null,
      "metadata": {
        "id": "ww6WGEKB4n1p"
      },
      "outputs": [],
      "source": [
        "# splitting data into training set and test set\n",
        "\n",
        "from sklearn.model_selection import train_test_split\n",
        "\n",
        "X_train, X_test, y_train, y_test = train_test_split(X, y, test_size=0.2, random_state=0)"
      ]
    },
    {
      "cell_type": "markdown",
      "source": [
        "Normalisasi Data"
      ],
      "metadata": {
        "id": "5LsMf405fDhx"
      }
    },
    {
      "cell_type": "code",
      "execution_count": null,
      "metadata": {
        "id": "bR_MB-_C98kR"
      },
      "outputs": [],
      "source": [
        "# Scaling the numeric values in the dataset\n",
        "\n",
        "from sklearn.preprocessing import MinMaxScaler\n",
        "\n",
        "scaler = MinMaxScaler()\n",
        "scaler.fit(X_train)\n",
        "X_train_scaled = scaler.transform(X_train)\n",
        "X_test_scaled = scaler.transform(X_test)"
      ]
    },
    {
      "cell_type": "markdown",
      "source": [
        "# Build Train, and Predict"
      ],
      "metadata": {
        "id": "4y0gOoabfPtn"
      }
    },
    {
      "cell_type": "code",
      "execution_count": null,
      "metadata": {
        "id": "mJ1yPB7SjPrU"
      },
      "outputs": [],
      "source": [
        "from sklearn.ensemble import RandomForestClassifier\n",
        "rfc = RandomForestClassifier(random_state=42)\n",
        "rfc.fit(X_train_scaled, y_train)"
      ]
    },
    {
      "cell_type": "code",
      "execution_count": null,
      "metadata": {
        "id": "mgA92U-zjvLL"
      },
      "outputs": [],
      "source": [
        "# accuracy_score, confusion_matrix and classification_report\n",
        "\n",
        "from sklearn.metrics import accuracy_score, confusion_matrix, classification_report\n",
        "\n",
        "y_pred = rfc.predict(X_test_scaled)\n",
        "rfc_train_acc = accuracy_score(y_train, rfc.predict(X_train_scaled))\n",
        "rfc_test_acc = accuracy_score(y_test, y_pred)\n",
        "\n",
        "print(f\"Training accuracy of Random Forest Classifier is : {rfc_train_acc}\")\n",
        "print(f\"Test accuracy of Random Forest Classifier is : {rfc_test_acc}\")\n",
        "\n",
        "print(confusion_matrix(y_test, y_pred))\n",
        "print(classification_report(y_test, y_pred))"
      ]
    },
    {
      "cell_type": "markdown",
      "source": [
        "Feature Importance"
      ],
      "metadata": {
        "id": "JwF9kSDIhSxv"
      }
    },
    {
      "cell_type": "code",
      "execution_count": null,
      "metadata": {
        "id": "jZFW-gf0M1iH"
      },
      "outputs": [],
      "source": [
        "features = pd.DataFrame()\n",
        "features['feature'] = X_train.columns\n",
        "features['importance'] = rfc.feature_importances_\n",
        "features.sort_values(by=['importance'], ascending=True)\n",
        "features.set_index('feature', inplace=True)\n",
        "features.plot(kind='barh', figsize=(25, 25))"
      ]
    },
    {
      "cell_type": "markdown",
      "source": [
        "Hyperparameter Tuning = untuk mencari tahu parameter mana yang menghasilkan model paling optimal."
      ],
      "metadata": {
        "id": "4xuI0SV6gOhC"
      }
    },
    {
      "cell_type": "code",
      "execution_count": null,
      "metadata": {
        "id": "WCDAUjQKwx4X"
      },
      "outputs": [],
      "source": [
        "from sklearn.ensemble import RandomForestClassifier\n",
        "\n",
        "clf1 = RandomForestClassifier(random_state=42)\n",
        "\n",
        "param1 = {}\n",
        "param1['classifier__n_estimators'] = [10, 50, 100, 250]\n",
        "param1['classifier__max_depth'] = [5, 10, 20]\n",
        "param1['classifier__class_weight'] = [None, {0:1,1:5}, {0:1,1:10}, {0:1,1:25}]\n",
        "param1['classifier'] = [clf1]"
      ]
    },
    {
      "cell_type": "code",
      "execution_count": null,
      "metadata": {
        "id": "fKMniA0ZxFp2"
      },
      "outputs": [],
      "source": [
        "from sklearn.pipeline import Pipeline\n",
        "from sklearn.model_selection import GridSearchCV\n",
        "\n",
        "\n",
        "pipeline = Pipeline([('classifier', clf1)])\n",
        "params = [param1]\n",
        "gs_rfc = GridSearchCV(pipeline, params, cv=3, n_jobs=-1, scoring='accuracy').fit(X_train_scaled, y_train)\n",
        "gs_rfc.best_params_"
      ]
    },
    {
      "cell_type": "code",
      "execution_count": null,
      "metadata": {
        "id": "RqeDWwlVzZbn"
      },
      "outputs": [],
      "source": [
        "# Test data performance\n",
        "from sklearn.metrics import *\n",
        "\n",
        "print(\"Test Accuracy Score:\",accuracy_score(gs_rfc.predict(X_test_scaled), y_test))\n",
        "print(\"Test Precision:\",precision_score(gs_rfc.predict(X_test_scaled), y_test))\n",
        "print(\"Test Recall:\",recall_score(gs_rfc.predict(X_test_scaled), y_test))"
      ]
    },
    {
      "cell_type": "code",
      "execution_count": null,
      "metadata": {
        "id": "8uzBVPGVzfAF"
      },
      "outputs": [],
      "source": [
        "# accuracy_score, confusion_matrix and classification_report\n",
        "\n",
        "from sklearn.metrics import accuracy_score, confusion_matrix, classification_report\n",
        "\n",
        "y_pred = gs_rfc.predict(X_test_scaled)\n",
        "rfc_train_acc = accuracy_score(y_train, gs_rfc.predict(X_train_scaled))\n",
        "rfc_test_acc = accuracy_score(y_test, y_pred)\n",
        "\n",
        "print(f\"Training accuracy of Random Forest Classifier is : {rfc_train_acc}\")\n",
        "print(f\"Test accuracy of Random Forest Classifier is : {rfc_test_acc}\")\n",
        "\n",
        "print(confusion_matrix(y_test, y_pred))\n",
        "print(classification_report(y_test, y_pred))"
      ]
    }
  ],
  "metadata": {
    "colab": {
      "provenance": [],
      "include_colab_link": true
    },
    "kernelspec": {
      "display_name": "Python 3",
      "name": "python3"
    },
    "language_info": {
      "name": "python"
    }
  },
  "nbformat": 4,
  "nbformat_minor": 0
}