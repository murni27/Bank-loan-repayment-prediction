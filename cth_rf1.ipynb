{
  "nbformat": 4,
  "nbformat_minor": 0,
  "metadata": {
    "colab": {
      "name": "cth_rf1.ipynb",
      "provenance": [],
      "authorship_tag": "ABX9TyPinj5uP/0JiKZl2fr8It4G"
    },
    "kernelspec": {
      "name": "python3",
      "display_name": "Python 3"
    },
    "language_info": {
      "name": "python"
    }
  },
  "cells": [
    {
      "cell_type": "code",
      "source": [
        "import sklearn.ensemble as ens \n",
        "rf = ens.RandomForestClassifier(n_estimators=100)"
      ],
      "metadata": {
        "id": "N-eJ8bEipR9M"
      },
      "execution_count": 22,
      "outputs": []
    },
    {
      "cell_type": "code",
      "execution_count": 28,
      "metadata": {
        "id": "0jiBphVNXC6X"
      },
      "outputs": [],
      "source": [
        "import pandas as pd\n",
        "df1 = pd.read_csv(\"decisiontree1.csv\")\n",
        "encoding = {\"mesin\": {\"bensin\": 0, \"diesel\": 1}, \"penggerak\": {\"depan\": 0, \"belakang\": 1}}\n",
        "df1.replace(encoding, inplace=True)"
      ]
    },
    {
      "cell_type": "code",
      "source": [
        "print(df1)"
      ],
      "metadata": {
        "colab": {
          "base_uri": "https://localhost:8080/"
        },
        "id": "c2auOeQpd2-i",
        "outputId": "bb9aec49-bcb8-44af-f8d2-6f49c303c5b5"
      },
      "execution_count": 29,
      "outputs": [
        {
          "output_type": "stream",
          "name": "stdout",
          "text": [
            "    ID  mesin  bangku  penggerak    label\n",
            "0    1      0       4          0    sedan\n",
            "1    2      0       2          0    sedan\n",
            "2    3      0       8          1  minibus\n",
            "3    4      1       6          0  minibus\n",
            "4    5      0       5          1  minibus\n",
            "5    6      1       8          1  minibus\n",
            "6    7      1       8          1  minibus\n",
            "7    8      0       4          0    sedan\n",
            "8    9      1       7          1  minibus\n",
            "9   10      0       4          0    sedan\n",
            "10  11      0       2          0    sedan\n",
            "11  12      1       6          1  minibus\n",
            "12  13      1       8          0  minibus\n",
            "13  14      0       4          0    sedan\n",
            "14  15      1       2          0    sedan\n",
            "15  16      0       4          0    sedan\n",
            "16  17      0       8          1  minibus\n",
            "17  18      0       4          0    sedan\n",
            "18  19      1       8          1  minibus\n",
            "19  20      1       8          1  minibus\n"
          ]
        }
      ]
    },
    {
      "cell_type": "code",
      "source": [
        "import sklearn.model_selection as ms\n",
        "x = df1.drop(['ID', 'label'], axis=1)\n",
        "y = df1['label']\n",
        "x_train, x_test, y_train, y_test =ms.train_test_split(x,y, test_size=0.2)"
      ],
      "metadata": {
        "id": "8VJc1695eHKw"
      },
      "execution_count": 30,
      "outputs": []
    },
    {
      "cell_type": "code",
      "source": [
        "rf.fit(x_train, y_train)"
      ],
      "metadata": {
        "colab": {
          "base_uri": "https://localhost:8080/"
        },
        "id": "VlqCIC4Sfx5x",
        "outputId": "96600a41-8fed-45ee-f942-02cd8692d5f2"
      },
      "execution_count": 31,
      "outputs": [
        {
          "output_type": "execute_result",
          "data": {
            "text/plain": [
              "RandomForestClassifier()"
            ]
          },
          "metadata": {},
          "execution_count": 31
        }
      ]
    },
    {
      "cell_type": "code",
      "source": [
        "print(rf)"
      ],
      "metadata": {
        "colab": {
          "base_uri": "https://localhost:8080/"
        },
        "id": "wuCai_edhJ0W",
        "outputId": "fe9157a7-0707-4204-d143-4eb4161acee3"
      },
      "execution_count": 32,
      "outputs": [
        {
          "output_type": "stream",
          "name": "stdout",
          "text": [
            "RandomForestClassifier()\n"
          ]
        }
      ]
    },
    {
      "cell_type": "code",
      "source": [
        "y_prediksi = model1.predict(x_test)"
      ],
      "metadata": {
        "id": "YknKO9HciKr5"
      },
      "execution_count": 35,
      "outputs": []
    },
    {
      "cell_type": "code",
      "source": [
        "print(y_prediksi)"
      ],
      "metadata": {
        "colab": {
          "base_uri": "https://localhost:8080/"
        },
        "id": "nGXSW7odielF",
        "outputId": "f2a8e22c-a8d4-4fc7-bcbf-71405ca4b931"
      },
      "execution_count": 36,
      "outputs": [
        {
          "output_type": "stream",
          "name": "stdout",
          "text": [
            "['sedan' 'minibus' 'sedan' 'minibus']\n"
          ]
        }
      ]
    },
    {
      "cell_type": "code",
      "source": [
        "import sklearn.metrics as met\n",
        "print(met.accuracy_score(y_test, y_prediksi))"
      ],
      "metadata": {
        "colab": {
          "base_uri": "https://localhost:8080/"
        },
        "id": "YdL5sgKSingl",
        "outputId": "b1c75319-2712-47cf-a358-2e228f5ad20f"
      },
      "execution_count": 37,
      "outputs": [
        {
          "output_type": "stream",
          "name": "stdout",
          "text": [
            "0.75\n"
          ]
        }
      ]
    },
    {
      "cell_type": "code",
      "source": [
        "score = rf.feature_importances_\n",
        "print(score)"
      ],
      "metadata": {
        "colab": {
          "base_uri": "https://localhost:8080/"
        },
        "id": "BpR_NefUmes-",
        "outputId": "e02bcb2b-6d4c-4cc4-f3ba-bee1545a6554"
      },
      "execution_count": 38,
      "outputs": [
        {
          "output_type": "stream",
          "name": "stdout",
          "text": [
            "[0.20088195 0.43311385 0.36600419]\n"
          ]
        }
      ]
    },
    {
      "cell_type": "code",
      "source": [
        ""
      ],
      "metadata": {
        "id": "lVrGIaePtdeN"
      },
      "execution_count": null,
      "outputs": []
    }
  ]
}