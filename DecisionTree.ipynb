{
  "nbformat": 4,
  "nbformat_minor": 0,
  "metadata": {
    "colab": {
      "name": "DecisionTree.ipynb",
      "provenance": [],
      "authorship_tag": "ABX9TyNi2aCiyu1TCcqXXZ2E2Dca",
      "include_colab_link": true
    },
    "kernelspec": {
      "name": "python3",
      "display_name": "Python 3"
    },
    "language_info": {
      "name": "python"
    }
  },
  "cells": [
    {
      "cell_type": "markdown",
      "metadata": {
        "id": "view-in-github",
        "colab_type": "text"
      },
      "source": [
        "<a href=\"https://colab.research.google.com/github/murni27/Bank-loan-repayment-prediction/blob/main/DecisionTree.ipynb\" target=\"_parent\"><img src=\"https://colab.research.google.com/assets/colab-badge.svg\" alt=\"Open In Colab\"/></a>"
      ]
    },
    {
      "cell_type": "code",
      "execution_count": null,
      "metadata": {
        "id": "W4weiZLwVFQb"
      },
      "outputs": [],
      "source": [
        "import pandas as pd\n",
        "import numpy as np\n",
        "import math\n",
        "\n",
        "midwest = pd.read_csv('midwes.csv')\n",
        "\n",
        "def calc_entropy(column):\n",
        "    \"\"\"\n",
        "    Calculate entropy given a pandas series, list, or numpy array.\n",
        "    \"\"\"\n",
        "    # Compute the counts of each unique value in the column\n",
        "    counts = np.bincount(column)\n",
        "    # Divide by the total column length to get a probability\n",
        "    probabilities = counts / len(column)\n",
        "    \n",
        "    # Initialize the entropy to 0\n",
        "    entropy = 0\n",
        "    # Loop through the probabilities, and add each one to the total entropy\n",
        "    for prob in probabilities:\n",
        "        if prob > 0:\n",
        "            # use log from math and set base to 2\n",
        "            entropy += prob * math.log(prob, 2)\n",
        "    \n",
        "    return -entropy"
      ]
    },
    {
      "cell_type": "code",
      "source": [
        "def calc_information_gain(data, split_name, target_name):\n",
        "    \"\"\"\n",
        "    Calculate information gain given a data set, column to split on, and target\n",
        "    \"\"\"\n",
        "    # Calculate the original entropy\n",
        "    original_entropy = calc_entropy(data[target_name])\n",
        "    \n",
        "    #Find the unique values in the column\n",
        "    values = data[split_name].unique()\n",
        "    \n",
        "    \n",
        "    # Make two subsets of the data, based on the unique values\n",
        "    left_split = data[data[split_name] == values[0]]\n",
        "    right_split = data[data[split_name] == values[1]]\n",
        "    \n",
        "    # Loop through the splits and calculate the subset entropies\n",
        "    to_subtract = 0\n",
        "    for subset in [left_split, right_split]:\n",
        "        prob = (subset.shape[0] / data.shape[0]) \n",
        "        to_subtract += prob * calc_entropy(subset[target_name])\n",
        "    \n",
        "    # Return information gain\n",
        "    return original_entropy - to_subtract\n",
        "\n",
        "columns = ['apple_pie?', 'potato_salad?', 'sushi?']\n",
        "\n",
        "def highest_info_gain(columns):\n",
        "  #Intialize an empty dictionary for information gains\n",
        "  information_gains = {}\n",
        "  \n",
        "  #Iterate through each column name in our list\n",
        "  for col in columns:\n",
        "    #Find the information gain for the column\n",
        "    information_gain = calc_information_gain(midwest, col, 'midwest?')\n",
        "    #Add the information gain to our dictionary using the column name as the ekey                                         \n",
        "    information_gains[col] = information_gain\n",
        "  \n",
        "  #Return the key with the highest value                                          \n",
        "  return max(information_gains, key=information_gains.get)"
      ],
      "metadata": {
        "id": "lEQlw6SdVbQK"
      },
      "execution_count": null,
      "outputs": []
    },
    {
      "cell_type": "code",
      "source": [
        "print(highest_info_gain(columns))"
      ],
      "metadata": {
        "colab": {
          "base_uri": "https://localhost:8080/"
        },
        "id": "HyV7s4O6ZUV5",
        "outputId": "38ddc173-ec7b-40f4-f5c2-04a56c6748d9"
      },
      "execution_count": null,
      "outputs": [
        {
          "output_type": "stream",
          "name": "stdout",
          "text": [
            "sushi?\n"
          ]
        }
      ]
    },
    {
      "cell_type": "code",
      "source": [],
      "metadata": {
        "id": "-RRfduk1ZzHG"
      },
      "execution_count": null,
      "outputs": []
    }
  ]
}